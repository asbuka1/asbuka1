{
 "cells": [
  {
   "cell_type": "code",
   "execution_count": 50,
   "metadata": {
    "collapsed": true
   },
   "outputs": [
    {
     "data": {
      "text/plain": "       built_type  year_built floor_level  total_area  \\\n0      монолитный        2022      7 из 9      38.400   \n1      монолитный        2022      2 из 9      34.000   \n2       кирпичный        2011     8 из 16      57.200   \n3      монолитный        2022      7 из 7      50.000   \n4      монолитный        1979      4 из 5      45.000   \n...           ...         ...         ...         ...   \n18787   кирпичный        2019     9 из 10      38.000   \n18788  монолитный        2022    11 из 13     107.400   \n18789  монолитный        2021    13 из 16     103.000   \n18790  монолитный        2012      6 из 8     141.000   \n18791  монолитный        2011    10 из 22      70.000   \n\n                             area_descr         condition      bathrooms  \\\n0      38.4 м², Площадь кухни — 8.27 м²  черновая отделка    совмещенный   \n1           34 м², Площадь кухни — 9 м²  черновая отделка    совмещенный   \n2                               57.2 м²               NaN            NaN   \n3                                 50 м²  черновая отделка    совмещенный   \n4           45 м², Площадь кухни — 9 м²               NaN     раздельный   \n...                                 ...               ...            ...   \n18787                             38 м²           хорошее            NaN   \n18788                          107.4 м²  черновая отделка  2 с/у и более   \n18789   103 м², Площадь кухни — 17.5 м²           хорошее  2 с/у и более   \n18790                            141 м²           хорошее  2 с/у и более   \n18791                             70 м²           хорошее    совмещенный   \n\n      balcony       exchange furniture  ... inernet         id    userType  \\\n0      лоджия  Не интересует       NaN  ...     NaN  677328246       owner   \n1      лоджия  Не интересует       NaN  ...     NaN  678848581       owner   \n2         NaN            NaN       NaN  ...     NaN  681963881  specialist   \n3         NaN            NaN       NaN  ...     NaN  679899884       owner   \n4      балкон  Не интересует       NaN  ...     NaN  681619507       owner   \n...       ...            ...       ...  ...     ...        ...         ...   \n18787     NaN            NaN       NaN  ...     NaN  681980630  specialist   \n18788     NaN  Не интересует       NaN  ...     NaN  681189717       owner   \n18789     NaN  Не интересует       NaN  ...  оптика  681019867  specialist   \n18790     NaN            NaN       NaN  ...     NaN  681942529  specialist   \n18791  балкон  Не интересует       NaN  ...  оптика  677846871       owner   \n\n      rooms    lat    lon       district              street house_num  \\\n0         1 51.118 71.526     Almaty_r-n          A91_ulitsa    55_str   \n1         1 51.110 71.404  Esilyskiy_r-n             Orynbor        10   \n2         2 51.158 71.509     Almaty_r-n  Gabidena_Mustafina      21/4   \n3         2 51.088 71.426  Esilyskiy_r-n          Manglik_El        56   \n4         2 51.178 71.407   Saryarka_r-n           Sary_Arka       NaN   \n...     ...    ...    ...            ...                 ...       ...   \n18787     1 51.144 71.380  Esilyskiy_r-n               E_489       NaN   \n18788     3 51.141 71.508     Almaty_r-n           Tulebaeva         5   \n18789     3 51.131 71.376  Esilyskiy_r-n        E-753_ulitsa         2   \n18790     4 51.116 71.455     Almaty_r-n     Ivana_Panfilova       5/1   \n18791     2 51.118 71.463     Almaty_r-n       Nazhimedenova        10   \n\n          price  \n0      15555555  \n1      18800000  \n2      23000000  \n3      31000000  \n4      19300000  \n...         ...  \n18787  21500000  \n18788  31000000  \n18789  70000000  \n18790  88000000  \n18791  28900000  \n\n[18792 rows x 29 columns]",
      "text/html": "<div>\n<style scoped>\n    .dataframe tbody tr th:only-of-type {\n        vertical-align: middle;\n    }\n\n    .dataframe tbody tr th {\n        vertical-align: top;\n    }\n\n    .dataframe thead th {\n        text-align: right;\n    }\n</style>\n<table border=\"1\" class=\"dataframe\">\n  <thead>\n    <tr style=\"text-align: right;\">\n      <th></th>\n      <th>built_type</th>\n      <th>year_built</th>\n      <th>floor_level</th>\n      <th>total_area</th>\n      <th>area_descr</th>\n      <th>condition</th>\n      <th>bathrooms</th>\n      <th>balcony</th>\n      <th>exchange</th>\n      <th>furniture</th>\n      <th>...</th>\n      <th>inernet</th>\n      <th>id</th>\n      <th>userType</th>\n      <th>rooms</th>\n      <th>lat</th>\n      <th>lon</th>\n      <th>district</th>\n      <th>street</th>\n      <th>house_num</th>\n      <th>price</th>\n    </tr>\n  </thead>\n  <tbody>\n    <tr>\n      <th>0</th>\n      <td>монолитный</td>\n      <td>2022</td>\n      <td>7 из 9</td>\n      <td>38.400</td>\n      <td>38.4 м², Площадь кухни — 8.27 м²</td>\n      <td>черновая отделка</td>\n      <td>совмещенный</td>\n      <td>лоджия</td>\n      <td>Не интересует</td>\n      <td>NaN</td>\n      <td>...</td>\n      <td>NaN</td>\n      <td>677328246</td>\n      <td>owner</td>\n      <td>1</td>\n      <td>51.118</td>\n      <td>71.526</td>\n      <td>Almaty_r-n</td>\n      <td>A91_ulitsa</td>\n      <td>55_str</td>\n      <td>15555555</td>\n    </tr>\n    <tr>\n      <th>1</th>\n      <td>монолитный</td>\n      <td>2022</td>\n      <td>2 из 9</td>\n      <td>34.000</td>\n      <td>34 м², Площадь кухни — 9 м²</td>\n      <td>черновая отделка</td>\n      <td>совмещенный</td>\n      <td>лоджия</td>\n      <td>Не интересует</td>\n      <td>NaN</td>\n      <td>...</td>\n      <td>NaN</td>\n      <td>678848581</td>\n      <td>owner</td>\n      <td>1</td>\n      <td>51.110</td>\n      <td>71.404</td>\n      <td>Esilyskiy_r-n</td>\n      <td>Orynbor</td>\n      <td>10</td>\n      <td>18800000</td>\n    </tr>\n    <tr>\n      <th>2</th>\n      <td>кирпичный</td>\n      <td>2011</td>\n      <td>8 из 16</td>\n      <td>57.200</td>\n      <td>57.2 м²</td>\n      <td>NaN</td>\n      <td>NaN</td>\n      <td>NaN</td>\n      <td>NaN</td>\n      <td>NaN</td>\n      <td>...</td>\n      <td>NaN</td>\n      <td>681963881</td>\n      <td>specialist</td>\n      <td>2</td>\n      <td>51.158</td>\n      <td>71.509</td>\n      <td>Almaty_r-n</td>\n      <td>Gabidena_Mustafina</td>\n      <td>21/4</td>\n      <td>23000000</td>\n    </tr>\n    <tr>\n      <th>3</th>\n      <td>монолитный</td>\n      <td>2022</td>\n      <td>7 из 7</td>\n      <td>50.000</td>\n      <td>50 м²</td>\n      <td>черновая отделка</td>\n      <td>совмещенный</td>\n      <td>NaN</td>\n      <td>NaN</td>\n      <td>NaN</td>\n      <td>...</td>\n      <td>NaN</td>\n      <td>679899884</td>\n      <td>owner</td>\n      <td>2</td>\n      <td>51.088</td>\n      <td>71.426</td>\n      <td>Esilyskiy_r-n</td>\n      <td>Manglik_El</td>\n      <td>56</td>\n      <td>31000000</td>\n    </tr>\n    <tr>\n      <th>4</th>\n      <td>монолитный</td>\n      <td>1979</td>\n      <td>4 из 5</td>\n      <td>45.000</td>\n      <td>45 м², Площадь кухни — 9 м²</td>\n      <td>NaN</td>\n      <td>раздельный</td>\n      <td>балкон</td>\n      <td>Не интересует</td>\n      <td>NaN</td>\n      <td>...</td>\n      <td>NaN</td>\n      <td>681619507</td>\n      <td>owner</td>\n      <td>2</td>\n      <td>51.178</td>\n      <td>71.407</td>\n      <td>Saryarka_r-n</td>\n      <td>Sary_Arka</td>\n      <td>NaN</td>\n      <td>19300000</td>\n    </tr>\n    <tr>\n      <th>...</th>\n      <td>...</td>\n      <td>...</td>\n      <td>...</td>\n      <td>...</td>\n      <td>...</td>\n      <td>...</td>\n      <td>...</td>\n      <td>...</td>\n      <td>...</td>\n      <td>...</td>\n      <td>...</td>\n      <td>...</td>\n      <td>...</td>\n      <td>...</td>\n      <td>...</td>\n      <td>...</td>\n      <td>...</td>\n      <td>...</td>\n      <td>...</td>\n      <td>...</td>\n      <td>...</td>\n    </tr>\n    <tr>\n      <th>18787</th>\n      <td>кирпичный</td>\n      <td>2019</td>\n      <td>9 из 10</td>\n      <td>38.000</td>\n      <td>38 м²</td>\n      <td>хорошее</td>\n      <td>NaN</td>\n      <td>NaN</td>\n      <td>NaN</td>\n      <td>NaN</td>\n      <td>...</td>\n      <td>NaN</td>\n      <td>681980630</td>\n      <td>specialist</td>\n      <td>1</td>\n      <td>51.144</td>\n      <td>71.380</td>\n      <td>Esilyskiy_r-n</td>\n      <td>E_489</td>\n      <td>NaN</td>\n      <td>21500000</td>\n    </tr>\n    <tr>\n      <th>18788</th>\n      <td>монолитный</td>\n      <td>2022</td>\n      <td>11 из 13</td>\n      <td>107.400</td>\n      <td>107.4 м²</td>\n      <td>черновая отделка</td>\n      <td>2 с/у и более</td>\n      <td>NaN</td>\n      <td>Не интересует</td>\n      <td>NaN</td>\n      <td>...</td>\n      <td>NaN</td>\n      <td>681189717</td>\n      <td>owner</td>\n      <td>3</td>\n      <td>51.141</td>\n      <td>71.508</td>\n      <td>Almaty_r-n</td>\n      <td>Tulebaeva</td>\n      <td>5</td>\n      <td>31000000</td>\n    </tr>\n    <tr>\n      <th>18789</th>\n      <td>монолитный</td>\n      <td>2021</td>\n      <td>13 из 16</td>\n      <td>103.000</td>\n      <td>103 м², Площадь кухни — 17.5 м²</td>\n      <td>хорошее</td>\n      <td>2 с/у и более</td>\n      <td>NaN</td>\n      <td>Не интересует</td>\n      <td>NaN</td>\n      <td>...</td>\n      <td>оптика</td>\n      <td>681019867</td>\n      <td>specialist</td>\n      <td>3</td>\n      <td>51.131</td>\n      <td>71.376</td>\n      <td>Esilyskiy_r-n</td>\n      <td>E-753_ulitsa</td>\n      <td>2</td>\n      <td>70000000</td>\n    </tr>\n    <tr>\n      <th>18790</th>\n      <td>монолитный</td>\n      <td>2012</td>\n      <td>6 из 8</td>\n      <td>141.000</td>\n      <td>141 м²</td>\n      <td>хорошее</td>\n      <td>2 с/у и более</td>\n      <td>NaN</td>\n      <td>NaN</td>\n      <td>NaN</td>\n      <td>...</td>\n      <td>NaN</td>\n      <td>681942529</td>\n      <td>specialist</td>\n      <td>4</td>\n      <td>51.116</td>\n      <td>71.455</td>\n      <td>Almaty_r-n</td>\n      <td>Ivana_Panfilova</td>\n      <td>5/1</td>\n      <td>88000000</td>\n    </tr>\n    <tr>\n      <th>18791</th>\n      <td>монолитный</td>\n      <td>2011</td>\n      <td>10 из 22</td>\n      <td>70.000</td>\n      <td>70 м²</td>\n      <td>хорошее</td>\n      <td>совмещенный</td>\n      <td>балкон</td>\n      <td>Не интересует</td>\n      <td>NaN</td>\n      <td>...</td>\n      <td>оптика</td>\n      <td>677846871</td>\n      <td>owner</td>\n      <td>2</td>\n      <td>51.118</td>\n      <td>71.463</td>\n      <td>Almaty_r-n</td>\n      <td>Nazhimedenova</td>\n      <td>10</td>\n      <td>28900000</td>\n    </tr>\n  </tbody>\n</table>\n<p>18792 rows × 29 columns</p>\n</div>"
     },
     "execution_count": 50,
     "metadata": {},
     "output_type": "execute_result"
    }
   ],
   "source": [
    "import pandas as pd\n",
    "\n",
    "\n",
    "\n",
    "df = pd.read_csv(r'C:\\Users\\user\\Downloads\\all-data.csv')\n",
    "\n",
    "df"
   ]
  },
  {
   "cell_type": "code",
   "execution_count": 51,
   "outputs": [
    {
     "name": "stdout",
     "output_type": "stream",
     "text": [
      "<class 'pandas.core.frame.DataFrame'>\n",
      "RangeIndex: 18792 entries, 0 to 18791\n",
      "Data columns (total 29 columns):\n",
      " #   Column         Non-Null Count  Dtype  \n",
      "---  ------         --------------  -----  \n",
      " 0   built_type     17790 non-null  object \n",
      " 1   year_built     18792 non-null  int64  \n",
      " 2   floor_level    18503 non-null  object \n",
      " 3   total_area     18792 non-null  float64\n",
      " 4   area_descr     18792 non-null  object \n",
      " 5   condition      12403 non-null  object \n",
      " 6   bathrooms      12455 non-null  object \n",
      " 7   balcony        11067 non-null  object \n",
      " 8   exchange       9947 non-null   object \n",
      " 9   furniture      4568 non-null   object \n",
      " 10  security       9107 non-null   object \n",
      " 11  ceil           16070 non-null  object \n",
      " 12  parking        10941 non-null  object \n",
      " 13  residance      13496 non-null  object \n",
      " 14  phone          5325 non-null   object \n",
      " 15  floor          9089 non-null   object \n",
      " 16  door           10434 non-null  object \n",
      " 17  balcony_glass  9897 non-null   object \n",
      " 18  ex_dormetory   18527 non-null  object \n",
      " 19  inernet        6916 non-null   object \n",
      " 20  id             18792 non-null  int64  \n",
      " 21  userType       18792 non-null  object \n",
      " 22  rooms          18792 non-null  int64  \n",
      " 23  lat            18792 non-null  float64\n",
      " 24  lon            18792 non-null  float64\n",
      " 25  district       17792 non-null  object \n",
      " 26  street         18792 non-null  object \n",
      " 27  house_num      15011 non-null  object \n",
      " 28  price          18792 non-null  int64  \n",
      "dtypes: float64(3), int64(4), object(22)\n",
      "memory usage: 4.2+ MB\n"
     ]
    }
   ],
   "source": [
    "pd.options.display.float_format = \"{:.3f}\".format\n",
    "\n",
    "df.info()"
   ],
   "metadata": {
    "collapsed": false
   }
  },
  {
   "cell_type": "code",
   "execution_count": 52,
   "outputs": [
    {
     "data": {
      "text/plain": "       year_built  total_area            id     rooms       lat       lon  \\\ncount   18792.000   18792.000     18792.000 18792.000 18792.000 18792.000   \nmean     2013.019      68.661 676589238.659     2.120    51.127    71.428   \nstd        11.947      43.637  47536026.146     1.057     0.240     0.604   \nmin      1957.000      10.000   9785864.000     1.000    42.188    -0.262   \n25%      2010.000      41.000 679607960.250     1.000    51.116    71.397   \n50%      2017.000      58.000 681431696.500     2.000    51.133    71.428   \n75%      2021.000      80.233 681864548.250     3.000    51.157    71.469   \nmax      2023.000     800.000 682022399.000    16.000    53.316    83.372   \n\n              price  \ncount     18792.000  \nmean   37470238.148  \nstd    40276086.306  \nmin     3500000.000  \n25%    19700000.000  \n50%    27000000.000  \n75%    40000000.000  \nmax   790500000.000  ",
      "text/html": "<div>\n<style scoped>\n    .dataframe tbody tr th:only-of-type {\n        vertical-align: middle;\n    }\n\n    .dataframe tbody tr th {\n        vertical-align: top;\n    }\n\n    .dataframe thead th {\n        text-align: right;\n    }\n</style>\n<table border=\"1\" class=\"dataframe\">\n  <thead>\n    <tr style=\"text-align: right;\">\n      <th></th>\n      <th>year_built</th>\n      <th>total_area</th>\n      <th>id</th>\n      <th>rooms</th>\n      <th>lat</th>\n      <th>lon</th>\n      <th>price</th>\n    </tr>\n  </thead>\n  <tbody>\n    <tr>\n      <th>count</th>\n      <td>18792.000</td>\n      <td>18792.000</td>\n      <td>18792.000</td>\n      <td>18792.000</td>\n      <td>18792.000</td>\n      <td>18792.000</td>\n      <td>18792.000</td>\n    </tr>\n    <tr>\n      <th>mean</th>\n      <td>2013.019</td>\n      <td>68.661</td>\n      <td>676589238.659</td>\n      <td>2.120</td>\n      <td>51.127</td>\n      <td>71.428</td>\n      <td>37470238.148</td>\n    </tr>\n    <tr>\n      <th>std</th>\n      <td>11.947</td>\n      <td>43.637</td>\n      <td>47536026.146</td>\n      <td>1.057</td>\n      <td>0.240</td>\n      <td>0.604</td>\n      <td>40276086.306</td>\n    </tr>\n    <tr>\n      <th>min</th>\n      <td>1957.000</td>\n      <td>10.000</td>\n      <td>9785864.000</td>\n      <td>1.000</td>\n      <td>42.188</td>\n      <td>-0.262</td>\n      <td>3500000.000</td>\n    </tr>\n    <tr>\n      <th>25%</th>\n      <td>2010.000</td>\n      <td>41.000</td>\n      <td>679607960.250</td>\n      <td>1.000</td>\n      <td>51.116</td>\n      <td>71.397</td>\n      <td>19700000.000</td>\n    </tr>\n    <tr>\n      <th>50%</th>\n      <td>2017.000</td>\n      <td>58.000</td>\n      <td>681431696.500</td>\n      <td>2.000</td>\n      <td>51.133</td>\n      <td>71.428</td>\n      <td>27000000.000</td>\n    </tr>\n    <tr>\n      <th>75%</th>\n      <td>2021.000</td>\n      <td>80.233</td>\n      <td>681864548.250</td>\n      <td>3.000</td>\n      <td>51.157</td>\n      <td>71.469</td>\n      <td>40000000.000</td>\n    </tr>\n    <tr>\n      <th>max</th>\n      <td>2023.000</td>\n      <td>800.000</td>\n      <td>682022399.000</td>\n      <td>16.000</td>\n      <td>53.316</td>\n      <td>83.372</td>\n      <td>790500000.000</td>\n    </tr>\n  </tbody>\n</table>\n</div>"
     },
     "execution_count": 52,
     "metadata": {},
     "output_type": "execute_result"
    }
   ],
   "source": [
    "df.describe()"
   ],
   "metadata": {
    "collapsed": false
   }
  },
  {
   "cell_type": "code",
   "execution_count": 53,
   "outputs": [
    {
     "data": {
      "text/plain": "       built_type  year_built floor_level  total_area  \\\n0      монолитный        2022      7 из 9      38.400   \n1      монолитный        2022      2 из 9      34.000   \n2       кирпичный        2011     8 из 16      57.200   \n3      монолитный        2022      7 из 7      50.000   \n4      монолитный        1979      4 из 5      45.000   \n...           ...         ...         ...         ...   \n18787   кирпичный        2019     9 из 10      38.000   \n18788  монолитный        2022    11 из 13     107.400   \n18789  монолитный        2021    13 из 16     103.000   \n18790  монолитный        2012      6 из 8     141.000   \n18791  монолитный        2011    10 из 22      70.000   \n\n                             area_descr         condition      bathrooms  \\\n0      38.4 м², Площадь кухни — 8.27 м²  черновая отделка    совмещенный   \n1           34 м², Площадь кухни — 9 м²  черновая отделка    совмещенный   \n2                               57.2 м²               NaN            NaN   \n3                                 50 м²  черновая отделка    совмещенный   \n4           45 м², Площадь кухни — 9 м²               NaN     раздельный   \n...                                 ...               ...            ...   \n18787                             38 м²           хорошее            NaN   \n18788                          107.4 м²  черновая отделка  2 с/у и более   \n18789   103 м², Площадь кухни — 17.5 м²           хорошее  2 с/у и более   \n18790                            141 м²           хорошее  2 с/у и более   \n18791                             70 м²           хорошее    совмещенный   \n\n      balcony       exchange furniture  ... inernet         id    userType  \\\n0      лоджия  Не интересует       NaN  ...     NaN  677328246       owner   \n1      лоджия  Не интересует       NaN  ...     NaN  678848581       owner   \n2         NaN            NaN       NaN  ...     NaN  681963881  specialist   \n3         NaN            NaN       NaN  ...     NaN  679899884       owner   \n4      балкон  Не интересует       NaN  ...     NaN  681619507       owner   \n...       ...            ...       ...  ...     ...        ...         ...   \n18787     NaN            NaN       NaN  ...     NaN  681980630  specialist   \n18788     NaN  Не интересует       NaN  ...     NaN  681189717       owner   \n18789     NaN  Не интересует       NaN  ...  оптика  681019867  specialist   \n18790     NaN            NaN       NaN  ...     NaN  681942529  specialist   \n18791  балкон  Не интересует       NaN  ...  оптика  677846871       owner   \n\n      rooms    lat    lon       district              street house_num  \\\n0         1 51.118 71.526     Almaty_r-n          A91_ulitsa    55_str   \n1         1 51.110 71.404  Esilyskiy_r-n             Orynbor        10   \n2         2 51.158 71.509     Almaty_r-n  Gabidena_Mustafina      21/4   \n3         2 51.088 71.426  Esilyskiy_r-n          Manglik_El        56   \n4         2 51.178 71.407   Saryarka_r-n           Sary_Arka       NaN   \n...     ...    ...    ...            ...                 ...       ...   \n18787     1 51.144 71.380  Esilyskiy_r-n               E_489       NaN   \n18788     3 51.141 71.508     Almaty_r-n           Tulebaeva         5   \n18789     3 51.131 71.376  Esilyskiy_r-n        E-753_ulitsa         2   \n18790     4 51.116 71.455     Almaty_r-n     Ivana_Panfilova       5/1   \n18791     2 51.118 71.463     Almaty_r-n       Nazhimedenova        10   \n\n          price  \n0      15555555  \n1      18800000  \n2      23000000  \n3      31000000  \n4      19300000  \n...         ...  \n18787  21500000  \n18788  31000000  \n18789  70000000  \n18790  88000000  \n18791  28900000  \n\n[18792 rows x 29 columns]",
      "text/html": "<div>\n<style scoped>\n    .dataframe tbody tr th:only-of-type {\n        vertical-align: middle;\n    }\n\n    .dataframe tbody tr th {\n        vertical-align: top;\n    }\n\n    .dataframe thead th {\n        text-align: right;\n    }\n</style>\n<table border=\"1\" class=\"dataframe\">\n  <thead>\n    <tr style=\"text-align: right;\">\n      <th></th>\n      <th>built_type</th>\n      <th>year_built</th>\n      <th>floor_level</th>\n      <th>total_area</th>\n      <th>area_descr</th>\n      <th>condition</th>\n      <th>bathrooms</th>\n      <th>balcony</th>\n      <th>exchange</th>\n      <th>furniture</th>\n      <th>...</th>\n      <th>inernet</th>\n      <th>id</th>\n      <th>userType</th>\n      <th>rooms</th>\n      <th>lat</th>\n      <th>lon</th>\n      <th>district</th>\n      <th>street</th>\n      <th>house_num</th>\n      <th>price</th>\n    </tr>\n  </thead>\n  <tbody>\n    <tr>\n      <th>0</th>\n      <td>монолитный</td>\n      <td>2022</td>\n      <td>7 из 9</td>\n      <td>38.400</td>\n      <td>38.4 м², Площадь кухни — 8.27 м²</td>\n      <td>черновая отделка</td>\n      <td>совмещенный</td>\n      <td>лоджия</td>\n      <td>Не интересует</td>\n      <td>NaN</td>\n      <td>...</td>\n      <td>NaN</td>\n      <td>677328246</td>\n      <td>owner</td>\n      <td>1</td>\n      <td>51.118</td>\n      <td>71.526</td>\n      <td>Almaty_r-n</td>\n      <td>A91_ulitsa</td>\n      <td>55_str</td>\n      <td>15555555</td>\n    </tr>\n    <tr>\n      <th>1</th>\n      <td>монолитный</td>\n      <td>2022</td>\n      <td>2 из 9</td>\n      <td>34.000</td>\n      <td>34 м², Площадь кухни — 9 м²</td>\n      <td>черновая отделка</td>\n      <td>совмещенный</td>\n      <td>лоджия</td>\n      <td>Не интересует</td>\n      <td>NaN</td>\n      <td>...</td>\n      <td>NaN</td>\n      <td>678848581</td>\n      <td>owner</td>\n      <td>1</td>\n      <td>51.110</td>\n      <td>71.404</td>\n      <td>Esilyskiy_r-n</td>\n      <td>Orynbor</td>\n      <td>10</td>\n      <td>18800000</td>\n    </tr>\n    <tr>\n      <th>2</th>\n      <td>кирпичный</td>\n      <td>2011</td>\n      <td>8 из 16</td>\n      <td>57.200</td>\n      <td>57.2 м²</td>\n      <td>NaN</td>\n      <td>NaN</td>\n      <td>NaN</td>\n      <td>NaN</td>\n      <td>NaN</td>\n      <td>...</td>\n      <td>NaN</td>\n      <td>681963881</td>\n      <td>specialist</td>\n      <td>2</td>\n      <td>51.158</td>\n      <td>71.509</td>\n      <td>Almaty_r-n</td>\n      <td>Gabidena_Mustafina</td>\n      <td>21/4</td>\n      <td>23000000</td>\n    </tr>\n    <tr>\n      <th>3</th>\n      <td>монолитный</td>\n      <td>2022</td>\n      <td>7 из 7</td>\n      <td>50.000</td>\n      <td>50 м²</td>\n      <td>черновая отделка</td>\n      <td>совмещенный</td>\n      <td>NaN</td>\n      <td>NaN</td>\n      <td>NaN</td>\n      <td>...</td>\n      <td>NaN</td>\n      <td>679899884</td>\n      <td>owner</td>\n      <td>2</td>\n      <td>51.088</td>\n      <td>71.426</td>\n      <td>Esilyskiy_r-n</td>\n      <td>Manglik_El</td>\n      <td>56</td>\n      <td>31000000</td>\n    </tr>\n    <tr>\n      <th>4</th>\n      <td>монолитный</td>\n      <td>1979</td>\n      <td>4 из 5</td>\n      <td>45.000</td>\n      <td>45 м², Площадь кухни — 9 м²</td>\n      <td>NaN</td>\n      <td>раздельный</td>\n      <td>балкон</td>\n      <td>Не интересует</td>\n      <td>NaN</td>\n      <td>...</td>\n      <td>NaN</td>\n      <td>681619507</td>\n      <td>owner</td>\n      <td>2</td>\n      <td>51.178</td>\n      <td>71.407</td>\n      <td>Saryarka_r-n</td>\n      <td>Sary_Arka</td>\n      <td>NaN</td>\n      <td>19300000</td>\n    </tr>\n    <tr>\n      <th>...</th>\n      <td>...</td>\n      <td>...</td>\n      <td>...</td>\n      <td>...</td>\n      <td>...</td>\n      <td>...</td>\n      <td>...</td>\n      <td>...</td>\n      <td>...</td>\n      <td>...</td>\n      <td>...</td>\n      <td>...</td>\n      <td>...</td>\n      <td>...</td>\n      <td>...</td>\n      <td>...</td>\n      <td>...</td>\n      <td>...</td>\n      <td>...</td>\n      <td>...</td>\n      <td>...</td>\n    </tr>\n    <tr>\n      <th>18787</th>\n      <td>кирпичный</td>\n      <td>2019</td>\n      <td>9 из 10</td>\n      <td>38.000</td>\n      <td>38 м²</td>\n      <td>хорошее</td>\n      <td>NaN</td>\n      <td>NaN</td>\n      <td>NaN</td>\n      <td>NaN</td>\n      <td>...</td>\n      <td>NaN</td>\n      <td>681980630</td>\n      <td>specialist</td>\n      <td>1</td>\n      <td>51.144</td>\n      <td>71.380</td>\n      <td>Esilyskiy_r-n</td>\n      <td>E_489</td>\n      <td>NaN</td>\n      <td>21500000</td>\n    </tr>\n    <tr>\n      <th>18788</th>\n      <td>монолитный</td>\n      <td>2022</td>\n      <td>11 из 13</td>\n      <td>107.400</td>\n      <td>107.4 м²</td>\n      <td>черновая отделка</td>\n      <td>2 с/у и более</td>\n      <td>NaN</td>\n      <td>Не интересует</td>\n      <td>NaN</td>\n      <td>...</td>\n      <td>NaN</td>\n      <td>681189717</td>\n      <td>owner</td>\n      <td>3</td>\n      <td>51.141</td>\n      <td>71.508</td>\n      <td>Almaty_r-n</td>\n      <td>Tulebaeva</td>\n      <td>5</td>\n      <td>31000000</td>\n    </tr>\n    <tr>\n      <th>18789</th>\n      <td>монолитный</td>\n      <td>2021</td>\n      <td>13 из 16</td>\n      <td>103.000</td>\n      <td>103 м², Площадь кухни — 17.5 м²</td>\n      <td>хорошее</td>\n      <td>2 с/у и более</td>\n      <td>NaN</td>\n      <td>Не интересует</td>\n      <td>NaN</td>\n      <td>...</td>\n      <td>оптика</td>\n      <td>681019867</td>\n      <td>specialist</td>\n      <td>3</td>\n      <td>51.131</td>\n      <td>71.376</td>\n      <td>Esilyskiy_r-n</td>\n      <td>E-753_ulitsa</td>\n      <td>2</td>\n      <td>70000000</td>\n    </tr>\n    <tr>\n      <th>18790</th>\n      <td>монолитный</td>\n      <td>2012</td>\n      <td>6 из 8</td>\n      <td>141.000</td>\n      <td>141 м²</td>\n      <td>хорошее</td>\n      <td>2 с/у и более</td>\n      <td>NaN</td>\n      <td>NaN</td>\n      <td>NaN</td>\n      <td>...</td>\n      <td>NaN</td>\n      <td>681942529</td>\n      <td>specialist</td>\n      <td>4</td>\n      <td>51.116</td>\n      <td>71.455</td>\n      <td>Almaty_r-n</td>\n      <td>Ivana_Panfilova</td>\n      <td>5/1</td>\n      <td>88000000</td>\n    </tr>\n    <tr>\n      <th>18791</th>\n      <td>монолитный</td>\n      <td>2011</td>\n      <td>10 из 22</td>\n      <td>70.000</td>\n      <td>70 м²</td>\n      <td>хорошее</td>\n      <td>совмещенный</td>\n      <td>балкон</td>\n      <td>Не интересует</td>\n      <td>NaN</td>\n      <td>...</td>\n      <td>оптика</td>\n      <td>677846871</td>\n      <td>owner</td>\n      <td>2</td>\n      <td>51.118</td>\n      <td>71.463</td>\n      <td>Almaty_r-n</td>\n      <td>Nazhimedenova</td>\n      <td>10</td>\n      <td>28900000</td>\n    </tr>\n  </tbody>\n</table>\n<p>18792 rows × 29 columns</p>\n</div>"
     },
     "execution_count": 53,
     "metadata": {},
     "output_type": "execute_result"
    }
   ],
   "source": [
    "df"
   ],
   "metadata": {
    "collapsed": false
   }
  },
  {
   "cell_type": "code",
   "execution_count": 54,
   "outputs": [],
   "source": [
    "df.replace(r'\\s+', ' ', regex=True, inplace=True)"
   ],
   "metadata": {
    "collapsed": false
   }
  },
  {
   "cell_type": "code",
   "execution_count": 55,
   "outputs": [
    {
     "data": {
      "text/plain": "       built_type  year_built floor_level  total_area  \\\n0      монолитный        2022      7 из 9      38.400   \n1      монолитный        2022      2 из 9      34.000   \n2       кирпичный        2011     8 из 16      57.200   \n3      монолитный        2022      7 из 7      50.000   \n4      монолитный        1979      4 из 5      45.000   \n...           ...         ...         ...         ...   \n18787   кирпичный        2019     9 из 10      38.000   \n18788  монолитный        2022    11 из 13     107.400   \n18789  монолитный        2021    13 из 16     103.000   \n18790  монолитный        2012      6 из 8     141.000   \n18791  монолитный        2011    10 из 22      70.000   \n\n                             area_descr         condition      bathrooms  \\\n0      38.4 м², Площадь кухни — 8.27 м²  черновая отделка    совмещенный   \n1           34 м², Площадь кухни — 9 м²  черновая отделка    совмещенный   \n2                               57.2 м²               NaN            NaN   \n3                                 50 м²  черновая отделка    совмещенный   \n4           45 м², Площадь кухни — 9 м²               NaN     раздельный   \n...                                 ...               ...            ...   \n18787                             38 м²           хорошее            NaN   \n18788                          107.4 м²  черновая отделка  2 с/у и более   \n18789   103 м², Площадь кухни — 17.5 м²           хорошее  2 с/у и более   \n18790                            141 м²           хорошее  2 с/у и более   \n18791                             70 м²           хорошее    совмещенный   \n\n      balcony       exchange furniture  ... inernet         id    userType  \\\n0      лоджия  Не интересует       NaN  ...     NaN  677328246       owner   \n1      лоджия  Не интересует       NaN  ...     NaN  678848581       owner   \n2         NaN            NaN       NaN  ...     NaN  681963881  specialist   \n3         NaN            NaN       NaN  ...     NaN  679899884       owner   \n4      балкон  Не интересует       NaN  ...     NaN  681619507       owner   \n...       ...            ...       ...  ...     ...        ...         ...   \n18787     NaN            NaN       NaN  ...     NaN  681980630  specialist   \n18788     NaN  Не интересует       NaN  ...     NaN  681189717       owner   \n18789     NaN  Не интересует       NaN  ...  оптика  681019867  specialist   \n18790     NaN            NaN       NaN  ...     NaN  681942529  specialist   \n18791  балкон  Не интересует       NaN  ...  оптика  677846871       owner   \n\n      rooms    lat    lon       district              street house_num  \\\n0         1 51.118 71.526     Almaty_r-n          A91_ulitsa    55_str   \n1         1 51.110 71.404  Esilyskiy_r-n             Orynbor        10   \n2         2 51.158 71.509     Almaty_r-n  Gabidena_Mustafina      21/4   \n3         2 51.088 71.426  Esilyskiy_r-n          Manglik_El        56   \n4         2 51.178 71.407   Saryarka_r-n           Sary_Arka       NaN   \n...     ...    ...    ...            ...                 ...       ...   \n18787     1 51.144 71.380  Esilyskiy_r-n               E_489       NaN   \n18788     3 51.141 71.508     Almaty_r-n           Tulebaeva         5   \n18789     3 51.131 71.376  Esilyskiy_r-n        E-753_ulitsa         2   \n18790     4 51.116 71.455     Almaty_r-n     Ivana_Panfilova       5/1   \n18791     2 51.118 71.463     Almaty_r-n       Nazhimedenova        10   \n\n          price  \n0      15555555  \n1      18800000  \n2      23000000  \n3      31000000  \n4      19300000  \n...         ...  \n18787  21500000  \n18788  31000000  \n18789  70000000  \n18790  88000000  \n18791  28900000  \n\n[18792 rows x 29 columns]",
      "text/html": "<div>\n<style scoped>\n    .dataframe tbody tr th:only-of-type {\n        vertical-align: middle;\n    }\n\n    .dataframe tbody tr th {\n        vertical-align: top;\n    }\n\n    .dataframe thead th {\n        text-align: right;\n    }\n</style>\n<table border=\"1\" class=\"dataframe\">\n  <thead>\n    <tr style=\"text-align: right;\">\n      <th></th>\n      <th>built_type</th>\n      <th>year_built</th>\n      <th>floor_level</th>\n      <th>total_area</th>\n      <th>area_descr</th>\n      <th>condition</th>\n      <th>bathrooms</th>\n      <th>balcony</th>\n      <th>exchange</th>\n      <th>furniture</th>\n      <th>...</th>\n      <th>inernet</th>\n      <th>id</th>\n      <th>userType</th>\n      <th>rooms</th>\n      <th>lat</th>\n      <th>lon</th>\n      <th>district</th>\n      <th>street</th>\n      <th>house_num</th>\n      <th>price</th>\n    </tr>\n  </thead>\n  <tbody>\n    <tr>\n      <th>0</th>\n      <td>монолитный</td>\n      <td>2022</td>\n      <td>7 из 9</td>\n      <td>38.400</td>\n      <td>38.4 м², Площадь кухни — 8.27 м²</td>\n      <td>черновая отделка</td>\n      <td>совмещенный</td>\n      <td>лоджия</td>\n      <td>Не интересует</td>\n      <td>NaN</td>\n      <td>...</td>\n      <td>NaN</td>\n      <td>677328246</td>\n      <td>owner</td>\n      <td>1</td>\n      <td>51.118</td>\n      <td>71.526</td>\n      <td>Almaty_r-n</td>\n      <td>A91_ulitsa</td>\n      <td>55_str</td>\n      <td>15555555</td>\n    </tr>\n    <tr>\n      <th>1</th>\n      <td>монолитный</td>\n      <td>2022</td>\n      <td>2 из 9</td>\n      <td>34.000</td>\n      <td>34 м², Площадь кухни — 9 м²</td>\n      <td>черновая отделка</td>\n      <td>совмещенный</td>\n      <td>лоджия</td>\n      <td>Не интересует</td>\n      <td>NaN</td>\n      <td>...</td>\n      <td>NaN</td>\n      <td>678848581</td>\n      <td>owner</td>\n      <td>1</td>\n      <td>51.110</td>\n      <td>71.404</td>\n      <td>Esilyskiy_r-n</td>\n      <td>Orynbor</td>\n      <td>10</td>\n      <td>18800000</td>\n    </tr>\n    <tr>\n      <th>2</th>\n      <td>кирпичный</td>\n      <td>2011</td>\n      <td>8 из 16</td>\n      <td>57.200</td>\n      <td>57.2 м²</td>\n      <td>NaN</td>\n      <td>NaN</td>\n      <td>NaN</td>\n      <td>NaN</td>\n      <td>NaN</td>\n      <td>...</td>\n      <td>NaN</td>\n      <td>681963881</td>\n      <td>specialist</td>\n      <td>2</td>\n      <td>51.158</td>\n      <td>71.509</td>\n      <td>Almaty_r-n</td>\n      <td>Gabidena_Mustafina</td>\n      <td>21/4</td>\n      <td>23000000</td>\n    </tr>\n    <tr>\n      <th>3</th>\n      <td>монолитный</td>\n      <td>2022</td>\n      <td>7 из 7</td>\n      <td>50.000</td>\n      <td>50 м²</td>\n      <td>черновая отделка</td>\n      <td>совмещенный</td>\n      <td>NaN</td>\n      <td>NaN</td>\n      <td>NaN</td>\n      <td>...</td>\n      <td>NaN</td>\n      <td>679899884</td>\n      <td>owner</td>\n      <td>2</td>\n      <td>51.088</td>\n      <td>71.426</td>\n      <td>Esilyskiy_r-n</td>\n      <td>Manglik_El</td>\n      <td>56</td>\n      <td>31000000</td>\n    </tr>\n    <tr>\n      <th>4</th>\n      <td>монолитный</td>\n      <td>1979</td>\n      <td>4 из 5</td>\n      <td>45.000</td>\n      <td>45 м², Площадь кухни — 9 м²</td>\n      <td>NaN</td>\n      <td>раздельный</td>\n      <td>балкон</td>\n      <td>Не интересует</td>\n      <td>NaN</td>\n      <td>...</td>\n      <td>NaN</td>\n      <td>681619507</td>\n      <td>owner</td>\n      <td>2</td>\n      <td>51.178</td>\n      <td>71.407</td>\n      <td>Saryarka_r-n</td>\n      <td>Sary_Arka</td>\n      <td>NaN</td>\n      <td>19300000</td>\n    </tr>\n    <tr>\n      <th>...</th>\n      <td>...</td>\n      <td>...</td>\n      <td>...</td>\n      <td>...</td>\n      <td>...</td>\n      <td>...</td>\n      <td>...</td>\n      <td>...</td>\n      <td>...</td>\n      <td>...</td>\n      <td>...</td>\n      <td>...</td>\n      <td>...</td>\n      <td>...</td>\n      <td>...</td>\n      <td>...</td>\n      <td>...</td>\n      <td>...</td>\n      <td>...</td>\n      <td>...</td>\n      <td>...</td>\n    </tr>\n    <tr>\n      <th>18787</th>\n      <td>кирпичный</td>\n      <td>2019</td>\n      <td>9 из 10</td>\n      <td>38.000</td>\n      <td>38 м²</td>\n      <td>хорошее</td>\n      <td>NaN</td>\n      <td>NaN</td>\n      <td>NaN</td>\n      <td>NaN</td>\n      <td>...</td>\n      <td>NaN</td>\n      <td>681980630</td>\n      <td>specialist</td>\n      <td>1</td>\n      <td>51.144</td>\n      <td>71.380</td>\n      <td>Esilyskiy_r-n</td>\n      <td>E_489</td>\n      <td>NaN</td>\n      <td>21500000</td>\n    </tr>\n    <tr>\n      <th>18788</th>\n      <td>монолитный</td>\n      <td>2022</td>\n      <td>11 из 13</td>\n      <td>107.400</td>\n      <td>107.4 м²</td>\n      <td>черновая отделка</td>\n      <td>2 с/у и более</td>\n      <td>NaN</td>\n      <td>Не интересует</td>\n      <td>NaN</td>\n      <td>...</td>\n      <td>NaN</td>\n      <td>681189717</td>\n      <td>owner</td>\n      <td>3</td>\n      <td>51.141</td>\n      <td>71.508</td>\n      <td>Almaty_r-n</td>\n      <td>Tulebaeva</td>\n      <td>5</td>\n      <td>31000000</td>\n    </tr>\n    <tr>\n      <th>18789</th>\n      <td>монолитный</td>\n      <td>2021</td>\n      <td>13 из 16</td>\n      <td>103.000</td>\n      <td>103 м², Площадь кухни — 17.5 м²</td>\n      <td>хорошее</td>\n      <td>2 с/у и более</td>\n      <td>NaN</td>\n      <td>Не интересует</td>\n      <td>NaN</td>\n      <td>...</td>\n      <td>оптика</td>\n      <td>681019867</td>\n      <td>specialist</td>\n      <td>3</td>\n      <td>51.131</td>\n      <td>71.376</td>\n      <td>Esilyskiy_r-n</td>\n      <td>E-753_ulitsa</td>\n      <td>2</td>\n      <td>70000000</td>\n    </tr>\n    <tr>\n      <th>18790</th>\n      <td>монолитный</td>\n      <td>2012</td>\n      <td>6 из 8</td>\n      <td>141.000</td>\n      <td>141 м²</td>\n      <td>хорошее</td>\n      <td>2 с/у и более</td>\n      <td>NaN</td>\n      <td>NaN</td>\n      <td>NaN</td>\n      <td>...</td>\n      <td>NaN</td>\n      <td>681942529</td>\n      <td>specialist</td>\n      <td>4</td>\n      <td>51.116</td>\n      <td>71.455</td>\n      <td>Almaty_r-n</td>\n      <td>Ivana_Panfilova</td>\n      <td>5/1</td>\n      <td>88000000</td>\n    </tr>\n    <tr>\n      <th>18791</th>\n      <td>монолитный</td>\n      <td>2011</td>\n      <td>10 из 22</td>\n      <td>70.000</td>\n      <td>70 м²</td>\n      <td>хорошее</td>\n      <td>совмещенный</td>\n      <td>балкон</td>\n      <td>Не интересует</td>\n      <td>NaN</td>\n      <td>...</td>\n      <td>оптика</td>\n      <td>677846871</td>\n      <td>owner</td>\n      <td>2</td>\n      <td>51.118</td>\n      <td>71.463</td>\n      <td>Almaty_r-n</td>\n      <td>Nazhimedenova</td>\n      <td>10</td>\n      <td>28900000</td>\n    </tr>\n  </tbody>\n</table>\n<p>18792 rows × 29 columns</p>\n</div>"
     },
     "execution_count": 55,
     "metadata": {},
     "output_type": "execute_result"
    }
   ],
   "source": [
    "# Удалил лишние пробелы в т.ч. [ZWSP]. См. df.loc[7,'street']\n",
    "\n",
    "df_obj = df.select_dtypes(['object'])\n",
    "df[df_obj.columns] = df_obj.apply(lambda x: x.str.replace('\\u200b', ' ').str.strip())\n",
    "df"
   ],
   "metadata": {
    "collapsed": false
   }
  },
  {
   "cell_type": "markdown",
   "source": [
    "# # # 1-3"
   ],
   "metadata": {
    "collapsed": false
   }
  },
  {
   "cell_type": "code",
   "execution_count": 56,
   "outputs": [
    {
     "data": {
      "text/plain": "                     count         min         max        mean      median  \\\ndistrict      rooms                                                          \nAlmaty_r-n    1       1950  200000.000 1200000.000  456060.022  448717.949   \n              2       1848  221311.475 1416666.667  457215.875  438830.164   \n              3       1267  234234.234 1856287.425  471637.810  438047.559   \n              4        297  268181.818 1904761.905  594704.210  567010.309   \n              5         89  277456.647 1750000.000  714910.278  588000.000   \n              6          8  352112.676 1339869.281  564965.719  464515.777   \n              7          2  325379.610  813008.130  569193.870  569193.870   \n              8          1  972222.222  972222.222  972222.222  972222.222   \nEsilyskiy_r-n 1       2557  180000.000 4583333.333  542077.261  537500.000   \n              2       2869  206896.552 1825000.000  549762.251  535714.286   \n              3       2188  253968.254 1450000.000  574564.255  546103.239   \n              4        712  304752.381 2600000.000  670176.829  614606.830   \n              5        140  376811.594 2068965.517  915216.614  769988.566   \n              6         31  383561.644 1685393.258  794905.644  709677.419   \n              7         23  282352.941 1789976.134  767383.357  800000.000   \n              8          8  400000.000 1566666.667  939315.228  948034.012   \n              9          7  392354.125  861538.462  546561.100  429906.542   \n              10         1  718015.666  718015.666  718015.666  718015.666   \n              11         1 1042857.143 1042857.143 1042857.143 1042857.143   \n              16         1  513196.481  513196.481  513196.481  513196.481   \nSaryarka_r-n  1        942  157000.000 1075000.000  438128.470  427777.778   \n              2        917  187296.417 1016896.120  420024.957  416666.667   \n              3        548  235294.118  894736.842  416081.886  407759.197   \n              4        148  287998.009 1400000.000  464130.067  421388.443   \n              5          8  307017.544  817073.171  486362.372  432482.850   \n              6          8  296666.667  562700.965  406022.762  420000.000   \n              7          7  426666.667  821454.458  598358.670  531855.178   \n              8          2  562727.574  625000.000  593863.787  593863.787   \nr-n_Baykonur  1        381  254237.288  697399.527  442064.650  442857.143   \n              2        413  265909.091  777777.778  424535.447  413333.333   \n              3        310  182094.082  679012.346  429343.033  424364.407   \n              4         87  170329.670  842105.263  431562.396  417721.519   \n              5         18  274193.548  687500.000  364927.945  347704.044   \n              6          1  382812.500  382812.500  382812.500  382812.500   \n              7          2  268181.818  281907.018  275044.418  275044.418   \n\n                                                                  mode  \ndistrict      rooms                                                     \nAlmaty_r-n    1                                             500000.000  \n              2                                             500000.000  \n              3                                             500000.000  \n              4                          [651041.6666666666, 875000.0]  \n              5      [324675.32467532466, 580000.0, 585106.3829787234]  \n              6                  [352112.676056338, 370892.0187793427]  \n              7                 [325379.6095444685, 813008.1300813009]  \n              8                                             972222.222  \nEsilyskiy_r-n 1                                             500000.000  \n              2                                             500000.000  \n              3                                             500000.000  \n              4                                            1000000.000  \n              5      [636771.3004484305, 789473.6842105263, 1000000.0]  \n              6                                            1163636.364  \n              7                                             800000.000  \n              8                                            1373626.374  \n              9                 [429906.5420560748, 861538.4615384615]  \n              10                                            718015.666  \n              11                                           1042857.143  \n              16                                            513196.481  \nSaryarka_r-n  1                                             416666.667  \n              2                                             500000.000  \n              3                                             400000.000  \n              4                                             318135.765  \n              5      [307017.5438596491, 355327.868852459, 367797.2...  \n              6      [296666.6666666667, 301208.0536912752, 320000....  \n              7                 [531855.1782206006, 821454.4575984537]  \n              8                          [562727.5736511089, 625000.0]  \nr-n_Baykonur  1                                             366666.667  \n              2               [364444.44444444444, 377777.77777777775]  \n              3                                             400000.000  \n              4                                             369897.959  \n              5                                             377272.727  \n              6                                             382812.500  \n              7                [268181.8181818182, 281907.01806336985]  ",
      "text/html": "<div>\n<style scoped>\n    .dataframe tbody tr th:only-of-type {\n        vertical-align: middle;\n    }\n\n    .dataframe tbody tr th {\n        vertical-align: top;\n    }\n\n    .dataframe thead th {\n        text-align: right;\n    }\n</style>\n<table border=\"1\" class=\"dataframe\">\n  <thead>\n    <tr style=\"text-align: right;\">\n      <th></th>\n      <th></th>\n      <th>count</th>\n      <th>min</th>\n      <th>max</th>\n      <th>mean</th>\n      <th>median</th>\n      <th>mode</th>\n    </tr>\n    <tr>\n      <th>district</th>\n      <th>rooms</th>\n      <th></th>\n      <th></th>\n      <th></th>\n      <th></th>\n      <th></th>\n      <th></th>\n    </tr>\n  </thead>\n  <tbody>\n    <tr>\n      <th rowspan=\"8\" valign=\"top\">Almaty_r-n</th>\n      <th>1</th>\n      <td>1950</td>\n      <td>200000.000</td>\n      <td>1200000.000</td>\n      <td>456060.022</td>\n      <td>448717.949</td>\n      <td>500000.000</td>\n    </tr>\n    <tr>\n      <th>2</th>\n      <td>1848</td>\n      <td>221311.475</td>\n      <td>1416666.667</td>\n      <td>457215.875</td>\n      <td>438830.164</td>\n      <td>500000.000</td>\n    </tr>\n    <tr>\n      <th>3</th>\n      <td>1267</td>\n      <td>234234.234</td>\n      <td>1856287.425</td>\n      <td>471637.810</td>\n      <td>438047.559</td>\n      <td>500000.000</td>\n    </tr>\n    <tr>\n      <th>4</th>\n      <td>297</td>\n      <td>268181.818</td>\n      <td>1904761.905</td>\n      <td>594704.210</td>\n      <td>567010.309</td>\n      <td>[651041.6666666666, 875000.0]</td>\n    </tr>\n    <tr>\n      <th>5</th>\n      <td>89</td>\n      <td>277456.647</td>\n      <td>1750000.000</td>\n      <td>714910.278</td>\n      <td>588000.000</td>\n      <td>[324675.32467532466, 580000.0, 585106.3829787234]</td>\n    </tr>\n    <tr>\n      <th>6</th>\n      <td>8</td>\n      <td>352112.676</td>\n      <td>1339869.281</td>\n      <td>564965.719</td>\n      <td>464515.777</td>\n      <td>[352112.676056338, 370892.0187793427]</td>\n    </tr>\n    <tr>\n      <th>7</th>\n      <td>2</td>\n      <td>325379.610</td>\n      <td>813008.130</td>\n      <td>569193.870</td>\n      <td>569193.870</td>\n      <td>[325379.6095444685, 813008.1300813009]</td>\n    </tr>\n    <tr>\n      <th>8</th>\n      <td>1</td>\n      <td>972222.222</td>\n      <td>972222.222</td>\n      <td>972222.222</td>\n      <td>972222.222</td>\n      <td>972222.222</td>\n    </tr>\n    <tr>\n      <th rowspan=\"12\" valign=\"top\">Esilyskiy_r-n</th>\n      <th>1</th>\n      <td>2557</td>\n      <td>180000.000</td>\n      <td>4583333.333</td>\n      <td>542077.261</td>\n      <td>537500.000</td>\n      <td>500000.000</td>\n    </tr>\n    <tr>\n      <th>2</th>\n      <td>2869</td>\n      <td>206896.552</td>\n      <td>1825000.000</td>\n      <td>549762.251</td>\n      <td>535714.286</td>\n      <td>500000.000</td>\n    </tr>\n    <tr>\n      <th>3</th>\n      <td>2188</td>\n      <td>253968.254</td>\n      <td>1450000.000</td>\n      <td>574564.255</td>\n      <td>546103.239</td>\n      <td>500000.000</td>\n    </tr>\n    <tr>\n      <th>4</th>\n      <td>712</td>\n      <td>304752.381</td>\n      <td>2600000.000</td>\n      <td>670176.829</td>\n      <td>614606.830</td>\n      <td>1000000.000</td>\n    </tr>\n    <tr>\n      <th>5</th>\n      <td>140</td>\n      <td>376811.594</td>\n      <td>2068965.517</td>\n      <td>915216.614</td>\n      <td>769988.566</td>\n      <td>[636771.3004484305, 789473.6842105263, 1000000.0]</td>\n    </tr>\n    <tr>\n      <th>6</th>\n      <td>31</td>\n      <td>383561.644</td>\n      <td>1685393.258</td>\n      <td>794905.644</td>\n      <td>709677.419</td>\n      <td>1163636.364</td>\n    </tr>\n    <tr>\n      <th>7</th>\n      <td>23</td>\n      <td>282352.941</td>\n      <td>1789976.134</td>\n      <td>767383.357</td>\n      <td>800000.000</td>\n      <td>800000.000</td>\n    </tr>\n    <tr>\n      <th>8</th>\n      <td>8</td>\n      <td>400000.000</td>\n      <td>1566666.667</td>\n      <td>939315.228</td>\n      <td>948034.012</td>\n      <td>1373626.374</td>\n    </tr>\n    <tr>\n      <th>9</th>\n      <td>7</td>\n      <td>392354.125</td>\n      <td>861538.462</td>\n      <td>546561.100</td>\n      <td>429906.542</td>\n      <td>[429906.5420560748, 861538.4615384615]</td>\n    </tr>\n    <tr>\n      <th>10</th>\n      <td>1</td>\n      <td>718015.666</td>\n      <td>718015.666</td>\n      <td>718015.666</td>\n      <td>718015.666</td>\n      <td>718015.666</td>\n    </tr>\n    <tr>\n      <th>11</th>\n      <td>1</td>\n      <td>1042857.143</td>\n      <td>1042857.143</td>\n      <td>1042857.143</td>\n      <td>1042857.143</td>\n      <td>1042857.143</td>\n    </tr>\n    <tr>\n      <th>16</th>\n      <td>1</td>\n      <td>513196.481</td>\n      <td>513196.481</td>\n      <td>513196.481</td>\n      <td>513196.481</td>\n      <td>513196.481</td>\n    </tr>\n    <tr>\n      <th rowspan=\"8\" valign=\"top\">Saryarka_r-n</th>\n      <th>1</th>\n      <td>942</td>\n      <td>157000.000</td>\n      <td>1075000.000</td>\n      <td>438128.470</td>\n      <td>427777.778</td>\n      <td>416666.667</td>\n    </tr>\n    <tr>\n      <th>2</th>\n      <td>917</td>\n      <td>187296.417</td>\n      <td>1016896.120</td>\n      <td>420024.957</td>\n      <td>416666.667</td>\n      <td>500000.000</td>\n    </tr>\n    <tr>\n      <th>3</th>\n      <td>548</td>\n      <td>235294.118</td>\n      <td>894736.842</td>\n      <td>416081.886</td>\n      <td>407759.197</td>\n      <td>400000.000</td>\n    </tr>\n    <tr>\n      <th>4</th>\n      <td>148</td>\n      <td>287998.009</td>\n      <td>1400000.000</td>\n      <td>464130.067</td>\n      <td>421388.443</td>\n      <td>318135.765</td>\n    </tr>\n    <tr>\n      <th>5</th>\n      <td>8</td>\n      <td>307017.544</td>\n      <td>817073.171</td>\n      <td>486362.372</td>\n      <td>432482.850</td>\n      <td>[307017.5438596491, 355327.868852459, 367797.2...</td>\n    </tr>\n    <tr>\n      <th>6</th>\n      <td>8</td>\n      <td>296666.667</td>\n      <td>562700.965</td>\n      <td>406022.762</td>\n      <td>420000.000</td>\n      <td>[296666.6666666667, 301208.0536912752, 320000....</td>\n    </tr>\n    <tr>\n      <th>7</th>\n      <td>7</td>\n      <td>426666.667</td>\n      <td>821454.458</td>\n      <td>598358.670</td>\n      <td>531855.178</td>\n      <td>[531855.1782206006, 821454.4575984537]</td>\n    </tr>\n    <tr>\n      <th>8</th>\n      <td>2</td>\n      <td>562727.574</td>\n      <td>625000.000</td>\n      <td>593863.787</td>\n      <td>593863.787</td>\n      <td>[562727.5736511089, 625000.0]</td>\n    </tr>\n    <tr>\n      <th rowspan=\"7\" valign=\"top\">r-n_Baykonur</th>\n      <th>1</th>\n      <td>381</td>\n      <td>254237.288</td>\n      <td>697399.527</td>\n      <td>442064.650</td>\n      <td>442857.143</td>\n      <td>366666.667</td>\n    </tr>\n    <tr>\n      <th>2</th>\n      <td>413</td>\n      <td>265909.091</td>\n      <td>777777.778</td>\n      <td>424535.447</td>\n      <td>413333.333</td>\n      <td>[364444.44444444444, 377777.77777777775]</td>\n    </tr>\n    <tr>\n      <th>3</th>\n      <td>310</td>\n      <td>182094.082</td>\n      <td>679012.346</td>\n      <td>429343.033</td>\n      <td>424364.407</td>\n      <td>400000.000</td>\n    </tr>\n    <tr>\n      <th>4</th>\n      <td>87</td>\n      <td>170329.670</td>\n      <td>842105.263</td>\n      <td>431562.396</td>\n      <td>417721.519</td>\n      <td>369897.959</td>\n    </tr>\n    <tr>\n      <th>5</th>\n      <td>18</td>\n      <td>274193.548</td>\n      <td>687500.000</td>\n      <td>364927.945</td>\n      <td>347704.044</td>\n      <td>377272.727</td>\n    </tr>\n    <tr>\n      <th>6</th>\n      <td>1</td>\n      <td>382812.500</td>\n      <td>382812.500</td>\n      <td>382812.500</td>\n      <td>382812.500</td>\n      <td>382812.500</td>\n    </tr>\n    <tr>\n      <th>7</th>\n      <td>2</td>\n      <td>268181.818</td>\n      <td>281907.018</td>\n      <td>275044.418</td>\n      <td>275044.418</td>\n      <td>[268181.8181818182, 281907.01806336985]</td>\n    </tr>\n  </tbody>\n</table>\n</div>"
     },
     "execution_count": 56,
     "metadata": {},
     "output_type": "execute_result"
    }
   ],
   "source": [
    "df['price_for_area'] = df.price / df.total_area\n",
    "\n",
    "df.groupby(['district', 'rooms'])['price_for_area'].agg(['count', min, max, 'mean', 'median', pd.Series.mode])"
   ],
   "metadata": {
    "collapsed": false
   }
  },
  {
   "cell_type": "code",
   "execution_count": 57,
   "outputs": [],
   "source": [
    "df.rename(columns = {'inernet': 'internet'},inplace=True)"
   ],
   "metadata": {
    "collapsed": false
   }
  },
  {
   "cell_type": "code",
   "execution_count": 58,
   "outputs": [
    {
     "name": "stdout",
     "output_type": "stream",
     "text": [
      "{'видеонаблюдение', 'решетки на окнах', 'кодовый замок', 'домофон', 'охрана', 'консьерж', 'видеодомофон', 'сигнализация'}\n"
     ]
    }
   ],
   "source": [
    "# df.security.value_counts()\n",
    "a = set()\n",
    "for i in df.security.unique():\n",
    "    b = str(i).split(',')\n",
    "    for j in b:\n",
    "        a.add(j.strip())\n",
    "\n",
    "a.remove('nan')\n",
    "print(a)"
   ],
   "metadata": {
    "collapsed": false
   }
  },
  {
   "cell_type": "code",
   "execution_count": 59,
   "outputs": [],
   "source": [
    "bla = df.copy()"
   ],
   "metadata": {
    "collapsed": false
   }
  },
  {
   "cell_type": "code",
   "execution_count": 60,
   "outputs": [
    {
     "data": {
      "text/plain": "       built_type  year_built floor_level  total_area  \\\n0      монолитный        2022      7 из 9      38.400   \n1      монолитный        2022      2 из 9      34.000   \n2       кирпичный        2011     8 из 16      57.200   \n3      монолитный        2022      7 из 7      50.000   \n4      монолитный        1979      4 из 5      45.000   \n...           ...         ...         ...         ...   \n18787   кирпичный        2019     9 из 10      38.000   \n18788  монолитный        2022    11 из 13     107.400   \n18789  монолитный        2021    13 из 16     103.000   \n18790  монолитный        2012      6 из 8     141.000   \n18791  монолитный        2011    10 из 22      70.000   \n\n                             area_descr         condition      bathrooms  \\\n0      38.4 м², Площадь кухни — 8.27 м²  черновая отделка    совмещенный   \n1           34 м², Площадь кухни — 9 м²  черновая отделка    совмещенный   \n2                               57.2 м²               NaN            NaN   \n3                                 50 м²  черновая отделка    совмещенный   \n4           45 м², Площадь кухни — 9 м²               NaN     раздельный   \n...                                 ...               ...            ...   \n18787                             38 м²           хорошее            NaN   \n18788                          107.4 м²  черновая отделка  2 с/у и более   \n18789   103 м², Площадь кухни — 17.5 м²           хорошее  2 с/у и более   \n18790                            141 м²           хорошее  2 с/у и более   \n18791                             70 м²           хорошее    совмещенный   \n\n      balcony       exchange furniture  ...    userType rooms    lat    lon  \\\n0      лоджия  Не интересует       NaN  ...       owner     1 51.118 71.526   \n1      лоджия  Не интересует       NaN  ...       owner     1 51.110 71.404   \n2         NaN            NaN       NaN  ...  specialist     2 51.158 71.509   \n3         NaN            NaN       NaN  ...       owner     2 51.088 71.426   \n4      балкон  Не интересует       NaN  ...       owner     2 51.178 71.407   \n...       ...            ...       ...  ...         ...   ...    ...    ...   \n18787     NaN            NaN       NaN  ...  specialist     1 51.144 71.380   \n18788     NaN  Не интересует       NaN  ...       owner     3 51.141 71.508   \n18789     NaN  Не интересует       NaN  ...  specialist     3 51.131 71.376   \n18790     NaN            NaN       NaN  ...  specialist     4 51.116 71.455   \n18791  балкон  Не интересует       NaN  ...       owner     2 51.118 71.463   \n\n            district              street house_num     price price_for_area  \\\n0         Almaty_r-n          A91_ulitsa    55_str  15555555     405092.578   \n1      Esilyskiy_r-n             Orynbor        10  18800000     552941.176   \n2         Almaty_r-n  Gabidena_Mustafina      21/4  23000000     402097.902   \n3      Esilyskiy_r-n          Manglik_El        56  31000000     620000.000   \n4       Saryarka_r-n           Sary_Arka       NaN  19300000     428888.889   \n...              ...                 ...       ...       ...            ...   \n18787  Esilyskiy_r-n               E_489       NaN  21500000     565789.474   \n18788     Almaty_r-n           Tulebaeva         5  31000000     288640.596   \n18789  Esilyskiy_r-n        E-753_ulitsa         2  70000000     679611.650   \n18790     Almaty_r-n     Ivana_Panfilova       5/1  88000000     624113.475   \n18791     Almaty_r-n       Nazhimedenova        10  28900000     412857.143   \n\n      age  \n0       1  \n1       1  \n2      12  \n3       1  \n4      44  \n...    ..  \n18787   4  \n18788   1  \n18789   2  \n18790  11  \n18791  12  \n\n[18792 rows x 31 columns]",
      "text/html": "<div>\n<style scoped>\n    .dataframe tbody tr th:only-of-type {\n        vertical-align: middle;\n    }\n\n    .dataframe tbody tr th {\n        vertical-align: top;\n    }\n\n    .dataframe thead th {\n        text-align: right;\n    }\n</style>\n<table border=\"1\" class=\"dataframe\">\n  <thead>\n    <tr style=\"text-align: right;\">\n      <th></th>\n      <th>built_type</th>\n      <th>year_built</th>\n      <th>floor_level</th>\n      <th>total_area</th>\n      <th>area_descr</th>\n      <th>condition</th>\n      <th>bathrooms</th>\n      <th>balcony</th>\n      <th>exchange</th>\n      <th>furniture</th>\n      <th>...</th>\n      <th>userType</th>\n      <th>rooms</th>\n      <th>lat</th>\n      <th>lon</th>\n      <th>district</th>\n      <th>street</th>\n      <th>house_num</th>\n      <th>price</th>\n      <th>price_for_area</th>\n      <th>age</th>\n    </tr>\n  </thead>\n  <tbody>\n    <tr>\n      <th>0</th>\n      <td>монолитный</td>\n      <td>2022</td>\n      <td>7 из 9</td>\n      <td>38.400</td>\n      <td>38.4 м², Площадь кухни — 8.27 м²</td>\n      <td>черновая отделка</td>\n      <td>совмещенный</td>\n      <td>лоджия</td>\n      <td>Не интересует</td>\n      <td>NaN</td>\n      <td>...</td>\n      <td>owner</td>\n      <td>1</td>\n      <td>51.118</td>\n      <td>71.526</td>\n      <td>Almaty_r-n</td>\n      <td>A91_ulitsa</td>\n      <td>55_str</td>\n      <td>15555555</td>\n      <td>405092.578</td>\n      <td>1</td>\n    </tr>\n    <tr>\n      <th>1</th>\n      <td>монолитный</td>\n      <td>2022</td>\n      <td>2 из 9</td>\n      <td>34.000</td>\n      <td>34 м², Площадь кухни — 9 м²</td>\n      <td>черновая отделка</td>\n      <td>совмещенный</td>\n      <td>лоджия</td>\n      <td>Не интересует</td>\n      <td>NaN</td>\n      <td>...</td>\n      <td>owner</td>\n      <td>1</td>\n      <td>51.110</td>\n      <td>71.404</td>\n      <td>Esilyskiy_r-n</td>\n      <td>Orynbor</td>\n      <td>10</td>\n      <td>18800000</td>\n      <td>552941.176</td>\n      <td>1</td>\n    </tr>\n    <tr>\n      <th>2</th>\n      <td>кирпичный</td>\n      <td>2011</td>\n      <td>8 из 16</td>\n      <td>57.200</td>\n      <td>57.2 м²</td>\n      <td>NaN</td>\n      <td>NaN</td>\n      <td>NaN</td>\n      <td>NaN</td>\n      <td>NaN</td>\n      <td>...</td>\n      <td>specialist</td>\n      <td>2</td>\n      <td>51.158</td>\n      <td>71.509</td>\n      <td>Almaty_r-n</td>\n      <td>Gabidena_Mustafina</td>\n      <td>21/4</td>\n      <td>23000000</td>\n      <td>402097.902</td>\n      <td>12</td>\n    </tr>\n    <tr>\n      <th>3</th>\n      <td>монолитный</td>\n      <td>2022</td>\n      <td>7 из 7</td>\n      <td>50.000</td>\n      <td>50 м²</td>\n      <td>черновая отделка</td>\n      <td>совмещенный</td>\n      <td>NaN</td>\n      <td>NaN</td>\n      <td>NaN</td>\n      <td>...</td>\n      <td>owner</td>\n      <td>2</td>\n      <td>51.088</td>\n      <td>71.426</td>\n      <td>Esilyskiy_r-n</td>\n      <td>Manglik_El</td>\n      <td>56</td>\n      <td>31000000</td>\n      <td>620000.000</td>\n      <td>1</td>\n    </tr>\n    <tr>\n      <th>4</th>\n      <td>монолитный</td>\n      <td>1979</td>\n      <td>4 из 5</td>\n      <td>45.000</td>\n      <td>45 м², Площадь кухни — 9 м²</td>\n      <td>NaN</td>\n      <td>раздельный</td>\n      <td>балкон</td>\n      <td>Не интересует</td>\n      <td>NaN</td>\n      <td>...</td>\n      <td>owner</td>\n      <td>2</td>\n      <td>51.178</td>\n      <td>71.407</td>\n      <td>Saryarka_r-n</td>\n      <td>Sary_Arka</td>\n      <td>NaN</td>\n      <td>19300000</td>\n      <td>428888.889</td>\n      <td>44</td>\n    </tr>\n    <tr>\n      <th>...</th>\n      <td>...</td>\n      <td>...</td>\n      <td>...</td>\n      <td>...</td>\n      <td>...</td>\n      <td>...</td>\n      <td>...</td>\n      <td>...</td>\n      <td>...</td>\n      <td>...</td>\n      <td>...</td>\n      <td>...</td>\n      <td>...</td>\n      <td>...</td>\n      <td>...</td>\n      <td>...</td>\n      <td>...</td>\n      <td>...</td>\n      <td>...</td>\n      <td>...</td>\n      <td>...</td>\n    </tr>\n    <tr>\n      <th>18787</th>\n      <td>кирпичный</td>\n      <td>2019</td>\n      <td>9 из 10</td>\n      <td>38.000</td>\n      <td>38 м²</td>\n      <td>хорошее</td>\n      <td>NaN</td>\n      <td>NaN</td>\n      <td>NaN</td>\n      <td>NaN</td>\n      <td>...</td>\n      <td>specialist</td>\n      <td>1</td>\n      <td>51.144</td>\n      <td>71.380</td>\n      <td>Esilyskiy_r-n</td>\n      <td>E_489</td>\n      <td>NaN</td>\n      <td>21500000</td>\n      <td>565789.474</td>\n      <td>4</td>\n    </tr>\n    <tr>\n      <th>18788</th>\n      <td>монолитный</td>\n      <td>2022</td>\n      <td>11 из 13</td>\n      <td>107.400</td>\n      <td>107.4 м²</td>\n      <td>черновая отделка</td>\n      <td>2 с/у и более</td>\n      <td>NaN</td>\n      <td>Не интересует</td>\n      <td>NaN</td>\n      <td>...</td>\n      <td>owner</td>\n      <td>3</td>\n      <td>51.141</td>\n      <td>71.508</td>\n      <td>Almaty_r-n</td>\n      <td>Tulebaeva</td>\n      <td>5</td>\n      <td>31000000</td>\n      <td>288640.596</td>\n      <td>1</td>\n    </tr>\n    <tr>\n      <th>18789</th>\n      <td>монолитный</td>\n      <td>2021</td>\n      <td>13 из 16</td>\n      <td>103.000</td>\n      <td>103 м², Площадь кухни — 17.5 м²</td>\n      <td>хорошее</td>\n      <td>2 с/у и более</td>\n      <td>NaN</td>\n      <td>Не интересует</td>\n      <td>NaN</td>\n      <td>...</td>\n      <td>specialist</td>\n      <td>3</td>\n      <td>51.131</td>\n      <td>71.376</td>\n      <td>Esilyskiy_r-n</td>\n      <td>E-753_ulitsa</td>\n      <td>2</td>\n      <td>70000000</td>\n      <td>679611.650</td>\n      <td>2</td>\n    </tr>\n    <tr>\n      <th>18790</th>\n      <td>монолитный</td>\n      <td>2012</td>\n      <td>6 из 8</td>\n      <td>141.000</td>\n      <td>141 м²</td>\n      <td>хорошее</td>\n      <td>2 с/у и более</td>\n      <td>NaN</td>\n      <td>NaN</td>\n      <td>NaN</td>\n      <td>...</td>\n      <td>specialist</td>\n      <td>4</td>\n      <td>51.116</td>\n      <td>71.455</td>\n      <td>Almaty_r-n</td>\n      <td>Ivana_Panfilova</td>\n      <td>5/1</td>\n      <td>88000000</td>\n      <td>624113.475</td>\n      <td>11</td>\n    </tr>\n    <tr>\n      <th>18791</th>\n      <td>монолитный</td>\n      <td>2011</td>\n      <td>10 из 22</td>\n      <td>70.000</td>\n      <td>70 м²</td>\n      <td>хорошее</td>\n      <td>совмещенный</td>\n      <td>балкон</td>\n      <td>Не интересует</td>\n      <td>NaN</td>\n      <td>...</td>\n      <td>owner</td>\n      <td>2</td>\n      <td>51.118</td>\n      <td>71.463</td>\n      <td>Almaty_r-n</td>\n      <td>Nazhimedenova</td>\n      <td>10</td>\n      <td>28900000</td>\n      <td>412857.143</td>\n      <td>12</td>\n    </tr>\n  </tbody>\n</table>\n<p>18792 rows × 31 columns</p>\n</div>"
     },
     "execution_count": 60,
     "metadata": {},
     "output_type": "execute_result"
    }
   ],
   "source": [
    "bla.rename(columns={'price_for_area': 'price_per_square_meter'})\n",
    "\n",
    "bla['age'] = 2023 - bla.year_built\n",
    "bla"
   ],
   "metadata": {
    "collapsed": false
   }
  },
  {
   "cell_type": "code",
   "execution_count": 61,
   "outputs": [
    {
     "data": {
      "text/plain": "5 из 9      551\n8 из 9      534\n7 из 9      513\n2 из 9      499\n4 из 9      492\n           ... \n17 из 26      1\n9 из 28       1\n18 из 31      1\n5 из 30       1\n5 из 26       1\nName: floor_level, Length: 475, dtype: int64"
     },
     "execution_count": 61,
     "metadata": {},
     "output_type": "execute_result"
    }
   ],
   "source": [
    "bla.floor_level.value_counts()"
   ],
   "metadata": {
    "collapsed": false
   }
  },
  {
   "cell_type": "markdown",
   "source": [
    "# 24"
   ],
   "metadata": {
    "collapsed": false
   }
  },
  {
   "cell_type": "code",
   "execution_count": 62,
   "outputs": [
    {
     "data": {
      "text/plain": "            count       min        max         mean       median  \\\nyear_built                                                         \n1957            1  15000000   15000000 15000000.000 15000000.000   \n1958           16  12499990   18000000 13031249.312 12500000.000   \n1959            6  12900000   18400000 16683333.333 17200000.000   \n1960           10   6000000   22000000 14650000.000 15400000.000   \n1961           13   8000000   28000000 16338461.538 15500000.000   \n...           ...       ...        ...          ...          ...   \n2019          864   7700000  750000000 50819305.644 30500000.000   \n2020          794   8750000  500000000 45788848.859 33000000.000   \n2021         1719   7500000  650000000 36677641.677 28000000.000   \n2022         3636   6400000  220000000 28617703.839 24000000.000   \n2023            2  22100000   90000000 56050000.000 56050000.000   \n\n                            mode  \nyear_built                        \n1957                    15000000  \n1958                    12500000  \n1959        [17000000, 17400000]  \n1960        [11500000, 17000000]  \n1961                    15000000  \n...                          ...  \n2019                    22500000  \n2020                    25000000  \n2021                    22000000  \n2022                    25000000  \n2023        [22100000, 90000000]  \n\n[67 rows x 6 columns]",
      "text/html": "<div>\n<style scoped>\n    .dataframe tbody tr th:only-of-type {\n        vertical-align: middle;\n    }\n\n    .dataframe tbody tr th {\n        vertical-align: top;\n    }\n\n    .dataframe thead th {\n        text-align: right;\n    }\n</style>\n<table border=\"1\" class=\"dataframe\">\n  <thead>\n    <tr style=\"text-align: right;\">\n      <th></th>\n      <th>count</th>\n      <th>min</th>\n      <th>max</th>\n      <th>mean</th>\n      <th>median</th>\n      <th>mode</th>\n    </tr>\n    <tr>\n      <th>year_built</th>\n      <th></th>\n      <th></th>\n      <th></th>\n      <th></th>\n      <th></th>\n      <th></th>\n    </tr>\n  </thead>\n  <tbody>\n    <tr>\n      <th>1957</th>\n      <td>1</td>\n      <td>15000000</td>\n      <td>15000000</td>\n      <td>15000000.000</td>\n      <td>15000000.000</td>\n      <td>15000000</td>\n    </tr>\n    <tr>\n      <th>1958</th>\n      <td>16</td>\n      <td>12499990</td>\n      <td>18000000</td>\n      <td>13031249.312</td>\n      <td>12500000.000</td>\n      <td>12500000</td>\n    </tr>\n    <tr>\n      <th>1959</th>\n      <td>6</td>\n      <td>12900000</td>\n      <td>18400000</td>\n      <td>16683333.333</td>\n      <td>17200000.000</td>\n      <td>[17000000, 17400000]</td>\n    </tr>\n    <tr>\n      <th>1960</th>\n      <td>10</td>\n      <td>6000000</td>\n      <td>22000000</td>\n      <td>14650000.000</td>\n      <td>15400000.000</td>\n      <td>[11500000, 17000000]</td>\n    </tr>\n    <tr>\n      <th>1961</th>\n      <td>13</td>\n      <td>8000000</td>\n      <td>28000000</td>\n      <td>16338461.538</td>\n      <td>15500000.000</td>\n      <td>15000000</td>\n    </tr>\n    <tr>\n      <th>...</th>\n      <td>...</td>\n      <td>...</td>\n      <td>...</td>\n      <td>...</td>\n      <td>...</td>\n      <td>...</td>\n    </tr>\n    <tr>\n      <th>2019</th>\n      <td>864</td>\n      <td>7700000</td>\n      <td>750000000</td>\n      <td>50819305.644</td>\n      <td>30500000.000</td>\n      <td>22500000</td>\n    </tr>\n    <tr>\n      <th>2020</th>\n      <td>794</td>\n      <td>8750000</td>\n      <td>500000000</td>\n      <td>45788848.859</td>\n      <td>33000000.000</td>\n      <td>25000000</td>\n    </tr>\n    <tr>\n      <th>2021</th>\n      <td>1719</td>\n      <td>7500000</td>\n      <td>650000000</td>\n      <td>36677641.677</td>\n      <td>28000000.000</td>\n      <td>22000000</td>\n    </tr>\n    <tr>\n      <th>2022</th>\n      <td>3636</td>\n      <td>6400000</td>\n      <td>220000000</td>\n      <td>28617703.839</td>\n      <td>24000000.000</td>\n      <td>25000000</td>\n    </tr>\n    <tr>\n      <th>2023</th>\n      <td>2</td>\n      <td>22100000</td>\n      <td>90000000</td>\n      <td>56050000.000</td>\n      <td>56050000.000</td>\n      <td>[22100000, 90000000]</td>\n    </tr>\n  </tbody>\n</table>\n<p>67 rows × 6 columns</p>\n</div>"
     },
     "execution_count": 62,
     "metadata": {},
     "output_type": "execute_result"
    }
   ],
   "source": [
    "bla.groupby('year_built')['price'].agg(['count', min, max, 'mean', 'median', pd.Series.mode])"
   ],
   "metadata": {
    "collapsed": false
   }
  },
  {
   "cell_type": "markdown",
   "source": [
    "#23"
   ],
   "metadata": {
    "collapsed": false
   }
  },
  {
   "cell_type": "code",
   "execution_count": 63,
   "outputs": [
    {
     "data": {
      "text/plain": "            count  proportion\nполностью    2310       0.506\nчастично     1739       0.381\nбез мебели    519       0.114",
      "text/html": "<div>\n<style scoped>\n    .dataframe tbody tr th:only-of-type {\n        vertical-align: middle;\n    }\n\n    .dataframe tbody tr th {\n        vertical-align: top;\n    }\n\n    .dataframe thead th {\n        text-align: right;\n    }\n</style>\n<table border=\"1\" class=\"dataframe\">\n  <thead>\n    <tr style=\"text-align: right;\">\n      <th></th>\n      <th>count</th>\n      <th>proportion</th>\n    </tr>\n  </thead>\n  <tbody>\n    <tr>\n      <th>полностью</th>\n      <td>2310</td>\n      <td>0.506</td>\n    </tr>\n    <tr>\n      <th>частично</th>\n      <td>1739</td>\n      <td>0.381</td>\n    </tr>\n    <tr>\n      <th>без мебели</th>\n      <td>519</td>\n      <td>0.114</td>\n    </tr>\n  </tbody>\n</table>\n</div>"
     },
     "execution_count": 63,
     "metadata": {},
     "output_type": "execute_result"
    }
   ],
   "source": [
    "res_fur = pd.DataFrame({'count': bla['furniture'].value_counts(), 'proportion': bla['furniture'].value_counts(normalize=True)})\n",
    "res_fur"
   ],
   "metadata": {
    "collapsed": false
   }
  },
  {
   "cell_type": "markdown",
   "source": [
    "# 22\n"
   ],
   "metadata": {
    "collapsed": false
   }
  },
  {
   "cell_type": "code",
   "execution_count": 64,
   "outputs": [
    {
     "data": {
      "text/plain": "   first_floor_price    avg_price\n0       27806101.610 37470238.148",
      "text/html": "<div>\n<style scoped>\n    .dataframe tbody tr th:only-of-type {\n        vertical-align: middle;\n    }\n\n    .dataframe tbody tr th {\n        vertical-align: top;\n    }\n\n    .dataframe thead th {\n        text-align: right;\n    }\n</style>\n<table border=\"1\" class=\"dataframe\">\n  <thead>\n    <tr style=\"text-align: right;\">\n      <th></th>\n      <th>first_floor_price</th>\n      <th>avg_price</th>\n    </tr>\n  </thead>\n  <tbody>\n    <tr>\n      <th>0</th>\n      <td>27806101.610</td>\n      <td>37470238.148</td>\n    </tr>\n  </tbody>\n</table>\n</div>"
     },
     "execution_count": 64,
     "metadata": {},
     "output_type": "execute_result"
    }
   ],
   "source": [
    " bla[[\"current_floor\", \"max_floor\"]] = bla.floor_level.str.split(\" из \", expand=True)\n",
    "# bla.drop(bla.columns[-3], axis=1, inplace=True)\n",
    "\n",
    "first_floor_price = bla[bla['current_floor'].astype(float) == 1].price.mean()\n",
    "res_floor_price = pd.DataFrame({'first_floor_price': first_floor_price , 'avg_price': bla.price.mean()}, index=[0])\n",
    "res_floor_price"
   ],
   "metadata": {
    "collapsed": false
   }
  },
  {
   "cell_type": "markdown",
   "source": [
    "# 21"
   ],
   "metadata": {
    "collapsed": false
   }
  },
  {
   "cell_type": "code",
   "execution_count": 65,
   "outputs": [
    {
     "data": {
      "text/plain": "               count  proportion\nметаллическая   8168       0.783\nбронированная   1988       0.191\nдеревянная       278       0.027",
      "text/html": "<div>\n<style scoped>\n    .dataframe tbody tr th:only-of-type {\n        vertical-align: middle;\n    }\n\n    .dataframe tbody tr th {\n        vertical-align: top;\n    }\n\n    .dataframe thead th {\n        text-align: right;\n    }\n</style>\n<table border=\"1\" class=\"dataframe\">\n  <thead>\n    <tr style=\"text-align: right;\">\n      <th></th>\n      <th>count</th>\n      <th>proportion</th>\n    </tr>\n  </thead>\n  <tbody>\n    <tr>\n      <th>металлическая</th>\n      <td>8168</td>\n      <td>0.783</td>\n    </tr>\n    <tr>\n      <th>бронированная</th>\n      <td>1988</td>\n      <td>0.191</td>\n    </tr>\n    <tr>\n      <th>деревянная</th>\n      <td>278</td>\n      <td>0.027</td>\n    </tr>\n  </tbody>\n</table>\n</div>"
     },
     "execution_count": 65,
     "metadata": {},
     "output_type": "execute_result"
    }
   ],
   "source": [
    "res_door = pd.DataFrame({'count': bla['door'].value_counts(), 'proportion': bla['door'].value_counts(normalize=True)})\n",
    "res_door"
   ],
   "metadata": {
    "collapsed": false
   }
  },
  {
   "cell_type": "markdown",
   "source": [
    "# 20"
   ],
   "metadata": {
    "collapsed": false
   }
  },
  {
   "cell_type": "code",
   "execution_count": 66,
   "outputs": [
    {
     "data": {
      "text/plain": "street\nTuran              503\nSyganak            452\nKabanbay_batyra    443\nNazhimedenova      392\nBaytursynova       327\ndtype: int64"
     },
     "execution_count": 66,
     "metadata": {},
     "output_type": "execute_result"
    }
   ],
   "source": [
    "bla.groupby('street').size().sort_values(ascending=False).iloc[:5]"
   ],
   "metadata": {
    "collapsed": false
   }
  },
  {
   "cell_type": "markdown",
   "source": [
    "# 19"
   ],
   "metadata": {
    "collapsed": false
   }
  },
  {
   "cell_type": "code",
   "execution_count": 67,
   "outputs": [
    {
     "data": {
      "text/plain": "           count      min        max         mean       median      mode\nis_loggia                                                               \nFalse      12022  3500000  750000000 35672231.980 25000000.000  25000000\nTrue        6770  6400000  790500000 40663093.413 30800000.000  30000000",
      "text/html": "<div>\n<style scoped>\n    .dataframe tbody tr th:only-of-type {\n        vertical-align: middle;\n    }\n\n    .dataframe tbody tr th {\n        vertical-align: top;\n    }\n\n    .dataframe thead th {\n        text-align: right;\n    }\n</style>\n<table border=\"1\" class=\"dataframe\">\n  <thead>\n    <tr style=\"text-align: right;\">\n      <th></th>\n      <th>count</th>\n      <th>min</th>\n      <th>max</th>\n      <th>mean</th>\n      <th>median</th>\n      <th>mode</th>\n    </tr>\n    <tr>\n      <th>is_loggia</th>\n      <th></th>\n      <th></th>\n      <th></th>\n      <th></th>\n      <th></th>\n      <th></th>\n    </tr>\n  </thead>\n  <tbody>\n    <tr>\n      <th>False</th>\n      <td>12022</td>\n      <td>3500000</td>\n      <td>750000000</td>\n      <td>35672231.980</td>\n      <td>25000000.000</td>\n      <td>25000000</td>\n    </tr>\n    <tr>\n      <th>True</th>\n      <td>6770</td>\n      <td>6400000</td>\n      <td>790500000</td>\n      <td>40663093.413</td>\n      <td>30800000.000</td>\n      <td>30000000</td>\n    </tr>\n  </tbody>\n</table>\n</div>"
     },
     "execution_count": 67,
     "metadata": {},
     "output_type": "execute_result"
    }
   ],
   "source": [
    "z = bla.balcony.fillna('NO INFO').str.contains('лоджи')\n",
    "z.rename('is_loggia', inplace=True)\n",
    "\n",
    "z\n",
    "\n",
    "res_loggia = bla.groupby(z)['price'].agg(['count', min, max, 'mean', 'median', pd.Series.mode])\n",
    "res_loggia"
   ],
   "metadata": {
    "collapsed": false
   }
  },
  {
   "cell_type": "markdown",
   "source": [
    "# 18"
   ],
   "metadata": {
    "collapsed": false
   }
  },
  {
   "cell_type": "code",
   "execution_count": 68,
   "outputs": [
    {
     "data": {
      "text/plain": "            count  proportion\nкирпичный    8303       0.467\nмонолитный   8091       0.455\nпанельный    1075       0.060\nиное          321       0.018",
      "text/html": "<div>\n<style scoped>\n    .dataframe tbody tr th:only-of-type {\n        vertical-align: middle;\n    }\n\n    .dataframe tbody tr th {\n        vertical-align: top;\n    }\n\n    .dataframe thead th {\n        text-align: right;\n    }\n</style>\n<table border=\"1\" class=\"dataframe\">\n  <thead>\n    <tr style=\"text-align: right;\">\n      <th></th>\n      <th>count</th>\n      <th>proportion</th>\n    </tr>\n  </thead>\n  <tbody>\n    <tr>\n      <th>кирпичный</th>\n      <td>8303</td>\n      <td>0.467</td>\n    </tr>\n    <tr>\n      <th>монолитный</th>\n      <td>8091</td>\n      <td>0.455</td>\n    </tr>\n    <tr>\n      <th>панельный</th>\n      <td>1075</td>\n      <td>0.060</td>\n    </tr>\n    <tr>\n      <th>иное</th>\n      <td>321</td>\n      <td>0.018</td>\n    </tr>\n  </tbody>\n</table>\n</div>"
     },
     "execution_count": 68,
     "metadata": {},
     "output_type": "execute_result"
    }
   ],
   "source": [
    "res_built_type = pd.DataFrame({'count': bla['built_type'].value_counts(), 'proportion': bla['built_type'].value_counts(normalize=True)})\n",
    "res_built_type"
   ],
   "metadata": {
    "collapsed": false
   }
  },
  {
   "cell_type": "markdown",
   "source": [
    "# 17"
   ],
   "metadata": {
    "collapsed": false
   }
  },
  {
   "cell_type": "code",
   "execution_count": 69,
   "outputs": [
    {
     "data": {
      "text/plain": "                          count  proportion\nпаркинг                    9180       0.839\nрядом охраняемая стоянка   1730       0.158\nгараж                        31       0.003",
      "text/html": "<div>\n<style scoped>\n    .dataframe tbody tr th:only-of-type {\n        vertical-align: middle;\n    }\n\n    .dataframe tbody tr th {\n        vertical-align: top;\n    }\n\n    .dataframe thead th {\n        text-align: right;\n    }\n</style>\n<table border=\"1\" class=\"dataframe\">\n  <thead>\n    <tr style=\"text-align: right;\">\n      <th></th>\n      <th>count</th>\n      <th>proportion</th>\n    </tr>\n  </thead>\n  <tbody>\n    <tr>\n      <th>паркинг</th>\n      <td>9180</td>\n      <td>0.839</td>\n    </tr>\n    <tr>\n      <th>рядом охраняемая стоянка</th>\n      <td>1730</td>\n      <td>0.158</td>\n    </tr>\n    <tr>\n      <th>гараж</th>\n      <td>31</td>\n      <td>0.003</td>\n    </tr>\n  </tbody>\n</table>\n</div>"
     },
     "execution_count": 69,
     "metadata": {},
     "output_type": "execute_result"
    }
   ],
   "source": [
    "res_parking = pd.DataFrame({'count': bla['parking'].value_counts(), 'proportion': bla['parking'].value_counts(normalize=True)})\n",
    "res_parking"
   ],
   "metadata": {
    "collapsed": false
   }
  },
  {
   "cell_type": "markdown",
   "source": [
    "# 16"
   ],
   "metadata": {
    "collapsed": false
   }
  },
  {
   "cell_type": "code",
   "execution_count": 70,
   "outputs": [
    {
     "data": {
      "text/plain": "       count       min        max          mean        median  \\\nprice    491  22000000  790500000 149665429.450 105000000.000   \n\n                      mode  \nprice  85000000, 110000000  ",
      "text/html": "<div>\n<style scoped>\n    .dataframe tbody tr th:only-of-type {\n        vertical-align: middle;\n    }\n\n    .dataframe tbody tr th {\n        vertical-align: top;\n    }\n\n    .dataframe thead th {\n        text-align: right;\n    }\n</style>\n<table border=\"1\" class=\"dataframe\">\n  <thead>\n    <tr style=\"text-align: right;\">\n      <th></th>\n      <th>count</th>\n      <th>min</th>\n      <th>max</th>\n      <th>mean</th>\n      <th>median</th>\n      <th>mode</th>\n    </tr>\n  </thead>\n  <tbody>\n    <tr>\n      <th>price</th>\n      <td>491</td>\n      <td>22000000</td>\n      <td>790500000</td>\n      <td>149665429.450</td>\n      <td>105000000.000</td>\n      <td>85000000, 110000000</td>\n    </tr>\n  </tbody>\n</table>\n</div>"
     },
     "execution_count": 70,
     "metadata": {},
     "output_type": "execute_result"
    }
   ],
   "source": [
    "condition_three = bla[(bla['rooms']>=3) & (bla['ceil'].str.replace(' м', '').astype(float) > 3)]\n",
    "condition_three['price'].mean()\n",
    "\n",
    "condition_three_anlt = pd.DataFrame({'count': condition_three['price'].count(), 'min': condition_three['price'].min(), 'max': condition_three['price'].max(), 'mean': condition_three['price'].mean(), 'median': condition_three['price'].median(), 'mode': condition_three['price'].mode()[0].astype(str) + ', ' + condition_three['price'].mode()[1].astype(str)}, index=['price'])\n",
    "\n",
    "condition_three_anlt"
   ],
   "metadata": {
    "collapsed": false
   }
  },
  {
   "cell_type": "markdown",
   "source": [
    "# 15"
   ],
   "metadata": {
    "collapsed": false
   }
  },
  {
   "cell_type": "code",
   "execution_count": 71,
   "outputs": [
    {
     "data": {
      "text/plain": "Шыгыс             225\nNova City         202\nMechta            196\nSat City          187\nХайвил Астана     175\nАрнау             133\nAlpamys           113\nBravo Family       94\nРио Де Жанейро     91\nМадрид             88\nName: residance, dtype: int64"
     },
     "execution_count": 71,
     "metadata": {},
     "output_type": "execute_result"
    }
   ],
   "source": [
    "res_residance = bla['residance'].value_counts().iloc[:10]\n",
    "res_residance"
   ],
   "metadata": {
    "collapsed": false
   }
  },
  {
   "cell_type": "markdown",
   "source": [
    "# 14"
   ],
   "metadata": {
    "collapsed": false
   }
  },
  {
   "cell_type": "code",
   "execution_count": 72,
   "outputs": [
    {
     "data": {
      "text/plain": "specialist    9161\nowner         8803\ncompany        699\ncomplex        129\nName: userType, dtype: int64"
     },
     "execution_count": 72,
     "metadata": {},
     "output_type": "execute_result"
    }
   ],
   "source": [
    "bla.userType.value_counts()"
   ],
   "metadata": {
    "collapsed": false
   }
  },
  {
   "cell_type": "markdown",
   "source": [
    "# 13"
   ],
   "metadata": {
    "collapsed": false
   }
  },
  {
   "cell_type": "code",
   "execution_count": 73,
   "outputs": [
    {
     "data": {
      "text/plain": "               count        min        max          mean        median  \\\ncurrent_floor                                                            \n31                 7   61000000  232000000 182857142.857 230000000.000   \n29                 1  210000000  210000000 210000000.000 210000000.000   \n41                 1   86000000   86000000  86000000.000  86000000.000   \n28                 3   51500000  270000000 135500000.000  85000000.000   \n36                 3   58000000  180000000 107333333.333  84000000.000   \n37                 4   46000000   90000000  72000000.000  76000000.000   \n30                 1   68000000   68000000  68000000.000  68000000.000   \n40                 1   65500000   65500000  65500000.000  65500000.000   \n33                 1   58600000   58600000  58600000.000  58600000.000   \n34                 1   58000000   58000000  58000000.000  58000000.000   \n27                 2   47500000   54500000  51000000.000  51000000.000   \n32                 1   45000000   45000000  45000000.000  45000000.000   \n26                 4   39900000   47500000  43850000.000  44000000.000   \n39                 1   44000000   44000000  44000000.000  44000000.000   \n18               105   15500000  300000000  58091095.210  42000000.000   \n19                98   14999999  410000000  53728356.969  40000000.000   \n22                47   16500000  220000000  45426148.936  38500000.000   \n21                49   16500000  650000000  75676918.367  36990000.000   \n20                50   16500000  560000000  69354999.980  36250000.000   \n23                26   12200000  230000000  49864999.962  33749999.500   \n25                19   12000000  115000000  45105263.105  33000000.000   \n17               126   14500000  280000000  51438452.262  31000000.000   \n14               235   12400000  160000000  39201468.791  30500000.000   \n13               344   10899990  173720000  39533937.756  29900000.000   \n16               235   12000000  303000000  38889570.115  29500000.000   \n24                25   13500000  600000000 152039999.600  29000000.000   \n7               1472    6400000  495000000  39884211.811  29000000.000   \n10               794   11000000  350000000  35117485.458  28500000.000   \n6               1568    6000000  490000000  41277343.927  28500000.000   \n9               1346    6500000  470000000  34894618.100  27900000.000   \n12               520   11600000  190000000  33950739.663  27700000.000   \n11               583   11000000  159000000  32959032.196  27700000.000   \n15               204   12500000  340000000  41359739.245  27000000.000   \n8               1400    6700000  500000000  35092469.924  27000000.000   \n3               2112    5100000  750000000  38125671.029  26000000.000   \n2               1919    3500000  500000000  37447433.351  26000000.000   \n4               2004    4400000  790500000  35149821.020  25000000.000   \n5               2225    4000000  730000000  36810101.354  25000000.000   \n1                966    4000000  550000000  27806101.610  21000000.000   \n\n                                                            mode  \ncurrent_floor                                                     \n31                                                     232000000  \n29                                                     210000000  \n41                                                      86000000  \n28                               [51500000, 85000000, 270000000]  \n36                               [58000000, 84000000, 180000000]  \n37                      [46000000, 65000000, 87000000, 90000000]  \n30                                                      68000000  \n40                                                      65500000  \n33                                                      58600000  \n34                                                      58000000  \n27                                          [47500000, 54500000]  \n32                                                      45000000  \n26                      [39900000, 41000000, 47000000, 47500000]  \n39                                                      44000000  \n18                                          [41000000, 53000000]  \n19             [15000000, 16000000, 21500000, 33000000, 40000...  \n22                                                      40000000  \n21                                                     125000000  \n20                                                      65000000  \n23                                                      62000000  \n25                                                      65700000  \n17                                                     280000000  \n14                                [25000000, 26000000, 31400000]  \n13                                                      25000000  \n16                                                      12150000  \n24                                                     500000000  \n7                                                       22000000  \n10                                                      27000000  \n6                                                       25000000  \n9                                           [23000000, 24000000]  \n12                                          [20000000, 25000000]  \n11                                          [23000000, 28000000]  \n15                                                      17000000  \n8                                                       25000000  \n3                                                       35000000  \n2                                                       22000000  \n4                                                       25000000  \n5                                                       25000000  \n1                                                       25000000  ",
      "text/html": "<div>\n<style scoped>\n    .dataframe tbody tr th:only-of-type {\n        vertical-align: middle;\n    }\n\n    .dataframe tbody tr th {\n        vertical-align: top;\n    }\n\n    .dataframe thead th {\n        text-align: right;\n    }\n</style>\n<table border=\"1\" class=\"dataframe\">\n  <thead>\n    <tr style=\"text-align: right;\">\n      <th></th>\n      <th>count</th>\n      <th>min</th>\n      <th>max</th>\n      <th>mean</th>\n      <th>median</th>\n      <th>mode</th>\n    </tr>\n    <tr>\n      <th>current_floor</th>\n      <th></th>\n      <th></th>\n      <th></th>\n      <th></th>\n      <th></th>\n      <th></th>\n    </tr>\n  </thead>\n  <tbody>\n    <tr>\n      <th>31</th>\n      <td>7</td>\n      <td>61000000</td>\n      <td>232000000</td>\n      <td>182857142.857</td>\n      <td>230000000.000</td>\n      <td>232000000</td>\n    </tr>\n    <tr>\n      <th>29</th>\n      <td>1</td>\n      <td>210000000</td>\n      <td>210000000</td>\n      <td>210000000.000</td>\n      <td>210000000.000</td>\n      <td>210000000</td>\n    </tr>\n    <tr>\n      <th>41</th>\n      <td>1</td>\n      <td>86000000</td>\n      <td>86000000</td>\n      <td>86000000.000</td>\n      <td>86000000.000</td>\n      <td>86000000</td>\n    </tr>\n    <tr>\n      <th>28</th>\n      <td>3</td>\n      <td>51500000</td>\n      <td>270000000</td>\n      <td>135500000.000</td>\n      <td>85000000.000</td>\n      <td>[51500000, 85000000, 270000000]</td>\n    </tr>\n    <tr>\n      <th>36</th>\n      <td>3</td>\n      <td>58000000</td>\n      <td>180000000</td>\n      <td>107333333.333</td>\n      <td>84000000.000</td>\n      <td>[58000000, 84000000, 180000000]</td>\n    </tr>\n    <tr>\n      <th>37</th>\n      <td>4</td>\n      <td>46000000</td>\n      <td>90000000</td>\n      <td>72000000.000</td>\n      <td>76000000.000</td>\n      <td>[46000000, 65000000, 87000000, 90000000]</td>\n    </tr>\n    <tr>\n      <th>30</th>\n      <td>1</td>\n      <td>68000000</td>\n      <td>68000000</td>\n      <td>68000000.000</td>\n      <td>68000000.000</td>\n      <td>68000000</td>\n    </tr>\n    <tr>\n      <th>40</th>\n      <td>1</td>\n      <td>65500000</td>\n      <td>65500000</td>\n      <td>65500000.000</td>\n      <td>65500000.000</td>\n      <td>65500000</td>\n    </tr>\n    <tr>\n      <th>33</th>\n      <td>1</td>\n      <td>58600000</td>\n      <td>58600000</td>\n      <td>58600000.000</td>\n      <td>58600000.000</td>\n      <td>58600000</td>\n    </tr>\n    <tr>\n      <th>34</th>\n      <td>1</td>\n      <td>58000000</td>\n      <td>58000000</td>\n      <td>58000000.000</td>\n      <td>58000000.000</td>\n      <td>58000000</td>\n    </tr>\n    <tr>\n      <th>27</th>\n      <td>2</td>\n      <td>47500000</td>\n      <td>54500000</td>\n      <td>51000000.000</td>\n      <td>51000000.000</td>\n      <td>[47500000, 54500000]</td>\n    </tr>\n    <tr>\n      <th>32</th>\n      <td>1</td>\n      <td>45000000</td>\n      <td>45000000</td>\n      <td>45000000.000</td>\n      <td>45000000.000</td>\n      <td>45000000</td>\n    </tr>\n    <tr>\n      <th>26</th>\n      <td>4</td>\n      <td>39900000</td>\n      <td>47500000</td>\n      <td>43850000.000</td>\n      <td>44000000.000</td>\n      <td>[39900000, 41000000, 47000000, 47500000]</td>\n    </tr>\n    <tr>\n      <th>39</th>\n      <td>1</td>\n      <td>44000000</td>\n      <td>44000000</td>\n      <td>44000000.000</td>\n      <td>44000000.000</td>\n      <td>44000000</td>\n    </tr>\n    <tr>\n      <th>18</th>\n      <td>105</td>\n      <td>15500000</td>\n      <td>300000000</td>\n      <td>58091095.210</td>\n      <td>42000000.000</td>\n      <td>[41000000, 53000000]</td>\n    </tr>\n    <tr>\n      <th>19</th>\n      <td>98</td>\n      <td>14999999</td>\n      <td>410000000</td>\n      <td>53728356.969</td>\n      <td>40000000.000</td>\n      <td>[15000000, 16000000, 21500000, 33000000, 40000...</td>\n    </tr>\n    <tr>\n      <th>22</th>\n      <td>47</td>\n      <td>16500000</td>\n      <td>220000000</td>\n      <td>45426148.936</td>\n      <td>38500000.000</td>\n      <td>40000000</td>\n    </tr>\n    <tr>\n      <th>21</th>\n      <td>49</td>\n      <td>16500000</td>\n      <td>650000000</td>\n      <td>75676918.367</td>\n      <td>36990000.000</td>\n      <td>125000000</td>\n    </tr>\n    <tr>\n      <th>20</th>\n      <td>50</td>\n      <td>16500000</td>\n      <td>560000000</td>\n      <td>69354999.980</td>\n      <td>36250000.000</td>\n      <td>65000000</td>\n    </tr>\n    <tr>\n      <th>23</th>\n      <td>26</td>\n      <td>12200000</td>\n      <td>230000000</td>\n      <td>49864999.962</td>\n      <td>33749999.500</td>\n      <td>62000000</td>\n    </tr>\n    <tr>\n      <th>25</th>\n      <td>19</td>\n      <td>12000000</td>\n      <td>115000000</td>\n      <td>45105263.105</td>\n      <td>33000000.000</td>\n      <td>65700000</td>\n    </tr>\n    <tr>\n      <th>17</th>\n      <td>126</td>\n      <td>14500000</td>\n      <td>280000000</td>\n      <td>51438452.262</td>\n      <td>31000000.000</td>\n      <td>280000000</td>\n    </tr>\n    <tr>\n      <th>14</th>\n      <td>235</td>\n      <td>12400000</td>\n      <td>160000000</td>\n      <td>39201468.791</td>\n      <td>30500000.000</td>\n      <td>[25000000, 26000000, 31400000]</td>\n    </tr>\n    <tr>\n      <th>13</th>\n      <td>344</td>\n      <td>10899990</td>\n      <td>173720000</td>\n      <td>39533937.756</td>\n      <td>29900000.000</td>\n      <td>25000000</td>\n    </tr>\n    <tr>\n      <th>16</th>\n      <td>235</td>\n      <td>12000000</td>\n      <td>303000000</td>\n      <td>38889570.115</td>\n      <td>29500000.000</td>\n      <td>12150000</td>\n    </tr>\n    <tr>\n      <th>24</th>\n      <td>25</td>\n      <td>13500000</td>\n      <td>600000000</td>\n      <td>152039999.600</td>\n      <td>29000000.000</td>\n      <td>500000000</td>\n    </tr>\n    <tr>\n      <th>7</th>\n      <td>1472</td>\n      <td>6400000</td>\n      <td>495000000</td>\n      <td>39884211.811</td>\n      <td>29000000.000</td>\n      <td>22000000</td>\n    </tr>\n    <tr>\n      <th>10</th>\n      <td>794</td>\n      <td>11000000</td>\n      <td>350000000</td>\n      <td>35117485.458</td>\n      <td>28500000.000</td>\n      <td>27000000</td>\n    </tr>\n    <tr>\n      <th>6</th>\n      <td>1568</td>\n      <td>6000000</td>\n      <td>490000000</td>\n      <td>41277343.927</td>\n      <td>28500000.000</td>\n      <td>25000000</td>\n    </tr>\n    <tr>\n      <th>9</th>\n      <td>1346</td>\n      <td>6500000</td>\n      <td>470000000</td>\n      <td>34894618.100</td>\n      <td>27900000.000</td>\n      <td>[23000000, 24000000]</td>\n    </tr>\n    <tr>\n      <th>12</th>\n      <td>520</td>\n      <td>11600000</td>\n      <td>190000000</td>\n      <td>33950739.663</td>\n      <td>27700000.000</td>\n      <td>[20000000, 25000000]</td>\n    </tr>\n    <tr>\n      <th>11</th>\n      <td>583</td>\n      <td>11000000</td>\n      <td>159000000</td>\n      <td>32959032.196</td>\n      <td>27700000.000</td>\n      <td>[23000000, 28000000]</td>\n    </tr>\n    <tr>\n      <th>15</th>\n      <td>204</td>\n      <td>12500000</td>\n      <td>340000000</td>\n      <td>41359739.245</td>\n      <td>27000000.000</td>\n      <td>17000000</td>\n    </tr>\n    <tr>\n      <th>8</th>\n      <td>1400</td>\n      <td>6700000</td>\n      <td>500000000</td>\n      <td>35092469.924</td>\n      <td>27000000.000</td>\n      <td>25000000</td>\n    </tr>\n    <tr>\n      <th>3</th>\n      <td>2112</td>\n      <td>5100000</td>\n      <td>750000000</td>\n      <td>38125671.029</td>\n      <td>26000000.000</td>\n      <td>35000000</td>\n    </tr>\n    <tr>\n      <th>2</th>\n      <td>1919</td>\n      <td>3500000</td>\n      <td>500000000</td>\n      <td>37447433.351</td>\n      <td>26000000.000</td>\n      <td>22000000</td>\n    </tr>\n    <tr>\n      <th>4</th>\n      <td>2004</td>\n      <td>4400000</td>\n      <td>790500000</td>\n      <td>35149821.020</td>\n      <td>25000000.000</td>\n      <td>25000000</td>\n    </tr>\n    <tr>\n      <th>5</th>\n      <td>2225</td>\n      <td>4000000</td>\n      <td>730000000</td>\n      <td>36810101.354</td>\n      <td>25000000.000</td>\n      <td>25000000</td>\n    </tr>\n    <tr>\n      <th>1</th>\n      <td>966</td>\n      <td>4000000</td>\n      <td>550000000</td>\n      <td>27806101.610</td>\n      <td>21000000.000</td>\n      <td>25000000</td>\n    </tr>\n  </tbody>\n</table>\n</div>"
     },
     "execution_count": 73,
     "metadata": {},
     "output_type": "execute_result"
    }
   ],
   "source": [
    "bla.groupby('current_floor')['price'].agg(['count', min, max, 'mean', 'median', pd.Series.mode]).sort_values(by='median', ascending= False)\n",
    "# bla.groupby('year_built')['price']"
   ],
   "metadata": {
    "collapsed": false
   }
  },
  {
   "cell_type": "markdown",
   "source": [
    "# 12"
   ],
   "metadata": {
    "collapsed": false
   }
  },
  {
   "cell_type": "code",
   "execution_count": 74,
   "outputs": [
    {
     "data": {
      "text/plain": "                     count  proportion\nKabanbay_batyra         33       0.049\nDinmuhammed_Kunaev      28       0.042\nPanfilova               24       0.036\nNazhimedenova           23       0.034\nKarashash_ana           21       0.031\n...                    ...         ...\nUl_D_Kunaeva             1       0.001\nPereulok_Sarkyrama       1       0.001\nSharly_de_Gollya         1       0.001\nShәken_Aymauytov         1       0.001\nAnatoliya_Hropatogo      1       0.001\n\n[197 rows x 2 columns]",
      "text/html": "<div>\n<style scoped>\n    .dataframe tbody tr th:only-of-type {\n        vertical-align: middle;\n    }\n\n    .dataframe tbody tr th {\n        vertical-align: top;\n    }\n\n    .dataframe thead th {\n        text-align: right;\n    }\n</style>\n<table border=\"1\" class=\"dataframe\">\n  <thead>\n    <tr style=\"text-align: right;\">\n      <th></th>\n      <th>count</th>\n      <th>proportion</th>\n    </tr>\n  </thead>\n  <tbody>\n    <tr>\n      <th>Kabanbay_batyra</th>\n      <td>33</td>\n      <td>0.049</td>\n    </tr>\n    <tr>\n      <th>Dinmuhammed_Kunaev</th>\n      <td>28</td>\n      <td>0.042</td>\n    </tr>\n    <tr>\n      <th>Panfilova</th>\n      <td>24</td>\n      <td>0.036</td>\n    </tr>\n    <tr>\n      <th>Nazhimedenova</th>\n      <td>23</td>\n      <td>0.034</td>\n    </tr>\n    <tr>\n      <th>Karashash_ana</th>\n      <td>21</td>\n      <td>0.031</td>\n    </tr>\n    <tr>\n      <th>...</th>\n      <td>...</td>\n      <td>...</td>\n    </tr>\n    <tr>\n      <th>Ul_D_Kunaeva</th>\n      <td>1</td>\n      <td>0.001</td>\n    </tr>\n    <tr>\n      <th>Pereulok_Sarkyrama</th>\n      <td>1</td>\n      <td>0.001</td>\n    </tr>\n    <tr>\n      <th>Sharly_de_Gollya</th>\n      <td>1</td>\n      <td>0.001</td>\n    </tr>\n    <tr>\n      <th>Shәken_Aymauytov</th>\n      <td>1</td>\n      <td>0.001</td>\n    </tr>\n    <tr>\n      <th>Anatoliya_Hropatogo</th>\n      <td>1</td>\n      <td>0.001</td>\n    </tr>\n  </tbody>\n</table>\n<p>197 rows × 2 columns</p>\n</div>"
     },
     "execution_count": 74,
     "metadata": {},
     "output_type": "execute_result"
    }
   ],
   "source": [
    "# bla[(bla['ceil'].str.replace(' м', '').astype(float) > 3)].groupby('street').size().sort_values(ascending=False)\n",
    "\n",
    "\n",
    "res_ceil_three = pd.DataFrame({'count': bla[(bla['ceil'].str.replace(' м', '').astype(float) > 3)]['street'].value_counts(), 'proportion': bla[(bla['ceil'].str.replace(' м', '').astype(float) > 3)]['street'].value_counts(normalize=True)})\n",
    "res_ceil_three"
   ],
   "metadata": {
    "collapsed": false
   }
  },
  {
   "cell_type": "markdown",
   "source": [
    "# 11"
   ],
   "metadata": {
    "collapsed": false
   }
  },
  {
   "cell_type": "code",
   "execution_count": 75,
   "outputs": [
    {
     "data": {
      "text/plain": "                             count       min        max         mean  \\\ndistrict      bathrooms                                                \nAlmaty_r-n    2 с/у и более    719  12000000  430000000 67992835.786   \n              нет                1   7500000    7500000  7500000.000   \n              раздельный       989   6000000  220000000 29500871.501   \n              совмещенный     1997   5300000   86875050 21510420.758   \nEsilyskiy_r-n 2 с/у и более   1629  17990000  790500000 78823072.106   \n              нет                6  19000000   59999999 37533333.000   \n              раздельный       906   5900000  170000000 37564989.118   \n              совмещенный     3065   5100000  148500000 28676302.249   \nSaryarka_r-n  2 с/у и более    230  19500000  248000000 58018785.848   \n              нет                1   6000000    6000000  6000000.000   \n              раздельный       512   5300000   99000000 27384542.840   \n              совмещенный     1032   5700000  149000000 20228971.514   \nr-n_Baykonur  2 с/у и более    149   6000000  160000000 53440664.342   \n              нет                3   4000000    9000000  6400000.000   \n              раздельный       252   5000000   95000000 28801181.282   \n              совмещенный      425   4700000   62000000 22214594.176   \n\n                                  median  \\\ndistrict      bathrooms                    \nAlmaty_r-n    2 с/у и более 50000000.000   \n              нет            7500000.000   \n              раздельный    27900000.000   \n              совмещенный   19999000.000   \nEsilyskiy_r-n 2 с/у и более 61060000.000   \n              нет           34099999.500   \n              раздельный    34000000.000   \n              совмещенный   25700000.000   \nSaryarka_r-n  2 с/у и более 45735000.000   \n              нет            6000000.000   \n              раздельный    25100000.000   \n              совмещенный   18000000.000   \nr-n_Baykonur  2 с/у и более 50000000.000   \n              нет            6200000.000   \n              раздельный    26000000.000   \n              совмещенный   21000000.000   \n\n                                                                          mode  \ndistrict      bathrooms                                                         \nAlmaty_r-n    2 с/у и более                                           45000000  \n              нет                                                      7500000  \n              раздельный                                              30000000  \n              совмещенный                                             17500000  \nEsilyskiy_r-n 2 с/у и более                                           65000000  \n              нет            [19000000, 32000000, 32999999, 35200000, 46000...  \n              раздельный                                              30000000  \n              совмещенный                                             25000000  \nSaryarka_r-n  2 с/у и более                               [37000000, 40000000]  \n              нет                                                      6000000  \n              раздельный                                              25000000  \n              совмещенный                                             17000000  \nr-n_Baykonur  2 с/у и более                                           65000000  \n              нет                                  [4000000, 6200000, 9000000]  \n              раздельный                                              25000000  \n              совмещенный                                             25000000  ",
      "text/html": "<div>\n<style scoped>\n    .dataframe tbody tr th:only-of-type {\n        vertical-align: middle;\n    }\n\n    .dataframe tbody tr th {\n        vertical-align: top;\n    }\n\n    .dataframe thead th {\n        text-align: right;\n    }\n</style>\n<table border=\"1\" class=\"dataframe\">\n  <thead>\n    <tr style=\"text-align: right;\">\n      <th></th>\n      <th></th>\n      <th>count</th>\n      <th>min</th>\n      <th>max</th>\n      <th>mean</th>\n      <th>median</th>\n      <th>mode</th>\n    </tr>\n    <tr>\n      <th>district</th>\n      <th>bathrooms</th>\n      <th></th>\n      <th></th>\n      <th></th>\n      <th></th>\n      <th></th>\n      <th></th>\n    </tr>\n  </thead>\n  <tbody>\n    <tr>\n      <th rowspan=\"4\" valign=\"top\">Almaty_r-n</th>\n      <th>2 с/у и более</th>\n      <td>719</td>\n      <td>12000000</td>\n      <td>430000000</td>\n      <td>67992835.786</td>\n      <td>50000000.000</td>\n      <td>45000000</td>\n    </tr>\n    <tr>\n      <th>нет</th>\n      <td>1</td>\n      <td>7500000</td>\n      <td>7500000</td>\n      <td>7500000.000</td>\n      <td>7500000.000</td>\n      <td>7500000</td>\n    </tr>\n    <tr>\n      <th>раздельный</th>\n      <td>989</td>\n      <td>6000000</td>\n      <td>220000000</td>\n      <td>29500871.501</td>\n      <td>27900000.000</td>\n      <td>30000000</td>\n    </tr>\n    <tr>\n      <th>совмещенный</th>\n      <td>1997</td>\n      <td>5300000</td>\n      <td>86875050</td>\n      <td>21510420.758</td>\n      <td>19999000.000</td>\n      <td>17500000</td>\n    </tr>\n    <tr>\n      <th rowspan=\"4\" valign=\"top\">Esilyskiy_r-n</th>\n      <th>2 с/у и более</th>\n      <td>1629</td>\n      <td>17990000</td>\n      <td>790500000</td>\n      <td>78823072.106</td>\n      <td>61060000.000</td>\n      <td>65000000</td>\n    </tr>\n    <tr>\n      <th>нет</th>\n      <td>6</td>\n      <td>19000000</td>\n      <td>59999999</td>\n      <td>37533333.000</td>\n      <td>34099999.500</td>\n      <td>[19000000, 32000000, 32999999, 35200000, 46000...</td>\n    </tr>\n    <tr>\n      <th>раздельный</th>\n      <td>906</td>\n      <td>5900000</td>\n      <td>170000000</td>\n      <td>37564989.118</td>\n      <td>34000000.000</td>\n      <td>30000000</td>\n    </tr>\n    <tr>\n      <th>совмещенный</th>\n      <td>3065</td>\n      <td>5100000</td>\n      <td>148500000</td>\n      <td>28676302.249</td>\n      <td>25700000.000</td>\n      <td>25000000</td>\n    </tr>\n    <tr>\n      <th rowspan=\"4\" valign=\"top\">Saryarka_r-n</th>\n      <th>2 с/у и более</th>\n      <td>230</td>\n      <td>19500000</td>\n      <td>248000000</td>\n      <td>58018785.848</td>\n      <td>45735000.000</td>\n      <td>[37000000, 40000000]</td>\n    </tr>\n    <tr>\n      <th>нет</th>\n      <td>1</td>\n      <td>6000000</td>\n      <td>6000000</td>\n      <td>6000000.000</td>\n      <td>6000000.000</td>\n      <td>6000000</td>\n    </tr>\n    <tr>\n      <th>раздельный</th>\n      <td>512</td>\n      <td>5300000</td>\n      <td>99000000</td>\n      <td>27384542.840</td>\n      <td>25100000.000</td>\n      <td>25000000</td>\n    </tr>\n    <tr>\n      <th>совмещенный</th>\n      <td>1032</td>\n      <td>5700000</td>\n      <td>149000000</td>\n      <td>20228971.514</td>\n      <td>18000000.000</td>\n      <td>17000000</td>\n    </tr>\n    <tr>\n      <th rowspan=\"4\" valign=\"top\">r-n_Baykonur</th>\n      <th>2 с/у и более</th>\n      <td>149</td>\n      <td>6000000</td>\n      <td>160000000</td>\n      <td>53440664.342</td>\n      <td>50000000.000</td>\n      <td>65000000</td>\n    </tr>\n    <tr>\n      <th>нет</th>\n      <td>3</td>\n      <td>4000000</td>\n      <td>9000000</td>\n      <td>6400000.000</td>\n      <td>6200000.000</td>\n      <td>[4000000, 6200000, 9000000]</td>\n    </tr>\n    <tr>\n      <th>раздельный</th>\n      <td>252</td>\n      <td>5000000</td>\n      <td>95000000</td>\n      <td>28801181.282</td>\n      <td>26000000.000</td>\n      <td>25000000</td>\n    </tr>\n    <tr>\n      <th>совмещенный</th>\n      <td>425</td>\n      <td>4700000</td>\n      <td>62000000</td>\n      <td>22214594.176</td>\n      <td>21000000.000</td>\n      <td>25000000</td>\n    </tr>\n  </tbody>\n</table>\n</div>"
     },
     "execution_count": 75,
     "metadata": {},
     "output_type": "execute_result"
    }
   ],
   "source": [
    "bla.groupby(['district', 'bathrooms'])['price'].agg(['count', min, max, 'mean', 'median', pd.Series.mode])"
   ],
   "metadata": {
    "collapsed": false
   }
  },
  {
   "cell_type": "markdown",
   "source": [
    "# 10"
   ],
   "metadata": {
    "collapsed": false
   }
  },
  {
   "cell_type": "code",
   "execution_count": 76,
   "outputs": [
    {
     "data": {
      "text/plain": "price\n(40000000.0, 790500000.0]    15119\n(27000000.0, 40000000.0]     10745\n(19700000.0, 27000000.0]      8270\n(3499999.999, 19700000.0]     5701\nName: rooms, dtype: int64"
     },
     "execution_count": 76,
     "metadata": {},
     "output_type": "execute_result"
    }
   ],
   "source": [
    "bla.groupby(pd.qcut(bla['price'], 4))['rooms'].sum().sort_values(ascending=False)"
   ],
   "metadata": {
    "collapsed": false
   }
  },
  {
   "cell_type": "markdown",
   "source": [
    "# 9\n",
    "Невалидное задание"
   ],
   "metadata": {
    "collapsed": false
   }
  },
  {
   "cell_type": "markdown",
   "source": [
    "# 8"
   ],
   "metadata": {
    "collapsed": false
   }
  },
  {
   "cell_type": "code",
   "execution_count": 77,
   "outputs": [
    {
     "data": {
      "text/plain": "                                     len       min       max         mean  \\\nresidance             current_floor                                         \n12 месяцев            4.000            1  35000000  35000000 35000000.000   \n                      7.000            1  41000000  41000000 41000000.000   \n                      11.000           1  25999999  25999999 25999999.000   \n                      12.000           3  13000000  14000000 13663333.333   \n13 магистраль         4.000            1  27800000  27800000 27800000.000   \n...                                  ...       ...       ...          ...   \nна просп. Абылай Хана 2.000            1  30000000  30000000 30000000.000   \n                      3.000            2  29000000  29000000 29000000.000   \n                      5.000            1  25000000  25000000 25000000.000   \n                      7.000            2  22000000  26500000 24250000.000   \n                      8.000            1  20500000  20500000 20500000.000   \n\n                                          median  \nresidance             current_floor               \n12 месяцев            4.000         35000000.000  \n                      7.000         41000000.000  \n                      11.000        25999999.000  \n                      12.000        13990000.000  \n13 магистраль         4.000         27800000.000  \n...                                          ...  \nна просп. Абылай Хана 2.000         30000000.000  \n                      3.000         29000000.000  \n                      5.000         25000000.000  \n                      7.000         24250000.000  \n                      8.000         20500000.000  \n\n[5138 rows x 5 columns]",
      "text/html": "<div>\n<style scoped>\n    .dataframe tbody tr th:only-of-type {\n        vertical-align: middle;\n    }\n\n    .dataframe tbody tr th {\n        vertical-align: top;\n    }\n\n    .dataframe thead th {\n        text-align: right;\n    }\n</style>\n<table border=\"1\" class=\"dataframe\">\n  <thead>\n    <tr style=\"text-align: right;\">\n      <th></th>\n      <th></th>\n      <th>len</th>\n      <th>min</th>\n      <th>max</th>\n      <th>mean</th>\n      <th>median</th>\n    </tr>\n    <tr>\n      <th>residance</th>\n      <th>current_floor</th>\n      <th></th>\n      <th></th>\n      <th></th>\n      <th></th>\n      <th></th>\n    </tr>\n  </thead>\n  <tbody>\n    <tr>\n      <th rowspan=\"4\" valign=\"top\">12 месяцев</th>\n      <th>4.000</th>\n      <td>1</td>\n      <td>35000000</td>\n      <td>35000000</td>\n      <td>35000000.000</td>\n      <td>35000000.000</td>\n    </tr>\n    <tr>\n      <th>7.000</th>\n      <td>1</td>\n      <td>41000000</td>\n      <td>41000000</td>\n      <td>41000000.000</td>\n      <td>41000000.000</td>\n    </tr>\n    <tr>\n      <th>11.000</th>\n      <td>1</td>\n      <td>25999999</td>\n      <td>25999999</td>\n      <td>25999999.000</td>\n      <td>25999999.000</td>\n    </tr>\n    <tr>\n      <th>12.000</th>\n      <td>3</td>\n      <td>13000000</td>\n      <td>14000000</td>\n      <td>13663333.333</td>\n      <td>13990000.000</td>\n    </tr>\n    <tr>\n      <th>13 магистраль</th>\n      <th>4.000</th>\n      <td>1</td>\n      <td>27800000</td>\n      <td>27800000</td>\n      <td>27800000.000</td>\n      <td>27800000.000</td>\n    </tr>\n    <tr>\n      <th>...</th>\n      <th>...</th>\n      <td>...</td>\n      <td>...</td>\n      <td>...</td>\n      <td>...</td>\n      <td>...</td>\n    </tr>\n    <tr>\n      <th rowspan=\"5\" valign=\"top\">на просп. Абылай Хана</th>\n      <th>2.000</th>\n      <td>1</td>\n      <td>30000000</td>\n      <td>30000000</td>\n      <td>30000000.000</td>\n      <td>30000000.000</td>\n    </tr>\n    <tr>\n      <th>3.000</th>\n      <td>2</td>\n      <td>29000000</td>\n      <td>29000000</td>\n      <td>29000000.000</td>\n      <td>29000000.000</td>\n    </tr>\n    <tr>\n      <th>5.000</th>\n      <td>1</td>\n      <td>25000000</td>\n      <td>25000000</td>\n      <td>25000000.000</td>\n      <td>25000000.000</td>\n    </tr>\n    <tr>\n      <th>7.000</th>\n      <td>2</td>\n      <td>22000000</td>\n      <td>26500000</td>\n      <td>24250000.000</td>\n      <td>24250000.000</td>\n    </tr>\n    <tr>\n      <th>8.000</th>\n      <td>1</td>\n      <td>20500000</td>\n      <td>20500000</td>\n      <td>20500000.000</td>\n      <td>20500000.000</td>\n    </tr>\n  </tbody>\n</table>\n<p>5138 rows × 5 columns</p>\n</div>"
     },
     "execution_count": 77,
     "metadata": {},
     "output_type": "execute_result"
    }
   ],
   "source": [
    "bla.current_floor = pd.to_numeric(bla['current_floor'])\n",
    "bla.max_floor = pd.to_numeric(bla['max_floor'])\n",
    "\n",
    "# dd = bla['current_floor'].min()\n",
    "groupped = bla[bla.current_floor.notna()].groupby(['residance', 'current_floor'])\n",
    "\n",
    "v = pd.DataFrame(groupped['price'].agg([len, min, max, 'mean', 'median']))\n",
    "v"
   ],
   "metadata": {
    "collapsed": false
   }
  },
  {
   "cell_type": "markdown",
   "source": [
    "# 7"
   ],
   "metadata": {
    "collapsed": false
   }
  },
  {
   "cell_type": "code",
   "execution_count": 78,
   "outputs": [
    {
     "data": {
      "text/plain": "       built_type  year_built floor_level  total_area  \\\n7586   монолитный        2014      4 из 5     600.000   \n14029   кирпичный        2019      3 из 7     445.000   \n16125  монолитный        2010      5 из 6     700.000   \n720    монолитный        2021    21 из 22     250.000   \n13133  монолитный        2018    21 из 22     250.000   \n3111   монолитный        2012    24 из 26     290.000   \n12937  монолитный        2017    20 из 23     650.000   \n434    монолитный        2016    20 из 22     650.000   \n2566   монолитный        2021      1 из 2     766.000   \n14032   кирпичный        2014      2 из 6     364.000   \n\n                          area_descr condition      bathrooms  \\\n7586   600 м², Площадь кухни — 50 м²       NaN  2 с/у и более   \n14029                         445 м²   хорошее  2 с/у и более   \n16125                         700 м²       NaN  2 с/у и более   \n720                           250 м²       NaN  2 с/у и более   \n13133                         250 м²       NaN            NaN   \n3111                          290 м²       NaN            NaN   \n12937                         650 м²       NaN            NaN   \n434                           650 м²   хорошее  2 с/у и более   \n2566                          766 м²   хорошее  2 с/у и более   \n14032  364 м², Площадь кухни — 25 м²   хорошее  2 с/у и более   \n\n                             balcony       exchange  furniture  ...    lat  \\\n7586   несколько балконов или лоджий  Не интересует        NaN  ... 51.141   \n14029                            NaN            NaN        NaN  ... 51.144   \n16125  несколько балконов или лоджий            NaN  полностью  ... 51.142   \n720                              NaN            NaN        NaN  ... 51.107   \n13133                            NaN            NaN        NaN  ... 51.106   \n3111                             NaN            NaN        NaN  ... 51.132   \n12937                            NaN  Не интересует        NaN  ... 51.114   \n434                              NaN            NaN        NaN  ... 51.114   \n2566                          лоджия            NaN        NaN  ... 51.134   \n14032                            NaN  Не интересует        NaN  ... 51.139   \n\n         lon       district           street house_num      price  \\\n7586  71.397  Esilyskiy_r-n    Karashash_ana       NaN  790500000   \n14029 71.403  Esilyskiy_r-n      Tumar_Hanym        20  750000000   \n16125 71.398  Esilyskiy_r-n    Karashash_Ana        21  730000000   \n720   71.425  Esilyskiy_r-n        Turkestan        16  650000000   \n13133 71.425  Esilyskiy_r-n        Turkestan        16  650000000   \n3111  71.404  Esilyskiy_r-n            Turan      37/9  600000000   \n12937 71.435  Esilyskiy_r-n         Mangilik       26a  560000000   \n434   71.435  Esilyskiy_r-n      Mangilik_El       26A  560000000   \n2566  71.379  Esilyskiy_r-n         E-753_ul         6  550000000   \n14032 71.414  Esilyskiy_r-n  Kabanbay_batyra        13  500000000   \n\n      price_for_area age current_floor max_floor  \n7586     1317500.000   9         4.000     5.000  \n14029    1685393.258   4         3.000     7.000  \n16125    1042857.143  13         5.000     6.000  \n720      2600000.000   2        21.000    22.000  \n13133    2600000.000   5        21.000    22.000  \n3111     2068965.517  11        24.000    26.000  \n12937     861538.462   6        20.000    23.000  \n434       861538.462   7        20.000    22.000  \n2566      718015.666   2         1.000     2.000  \n14032    1373626.374   9         2.000     6.000  \n\n[10 rows x 33 columns]",
      "text/html": "<div>\n<style scoped>\n    .dataframe tbody tr th:only-of-type {\n        vertical-align: middle;\n    }\n\n    .dataframe tbody tr th {\n        vertical-align: top;\n    }\n\n    .dataframe thead th {\n        text-align: right;\n    }\n</style>\n<table border=\"1\" class=\"dataframe\">\n  <thead>\n    <tr style=\"text-align: right;\">\n      <th></th>\n      <th>built_type</th>\n      <th>year_built</th>\n      <th>floor_level</th>\n      <th>total_area</th>\n      <th>area_descr</th>\n      <th>condition</th>\n      <th>bathrooms</th>\n      <th>balcony</th>\n      <th>exchange</th>\n      <th>furniture</th>\n      <th>...</th>\n      <th>lat</th>\n      <th>lon</th>\n      <th>district</th>\n      <th>street</th>\n      <th>house_num</th>\n      <th>price</th>\n      <th>price_for_area</th>\n      <th>age</th>\n      <th>current_floor</th>\n      <th>max_floor</th>\n    </tr>\n  </thead>\n  <tbody>\n    <tr>\n      <th>7586</th>\n      <td>монолитный</td>\n      <td>2014</td>\n      <td>4 из 5</td>\n      <td>600.000</td>\n      <td>600 м², Площадь кухни — 50 м²</td>\n      <td>NaN</td>\n      <td>2 с/у и более</td>\n      <td>несколько балконов или лоджий</td>\n      <td>Не интересует</td>\n      <td>NaN</td>\n      <td>...</td>\n      <td>51.141</td>\n      <td>71.397</td>\n      <td>Esilyskiy_r-n</td>\n      <td>Karashash_ana</td>\n      <td>NaN</td>\n      <td>790500000</td>\n      <td>1317500.000</td>\n      <td>9</td>\n      <td>4.000</td>\n      <td>5.000</td>\n    </tr>\n    <tr>\n      <th>14029</th>\n      <td>кирпичный</td>\n      <td>2019</td>\n      <td>3 из 7</td>\n      <td>445.000</td>\n      <td>445 м²</td>\n      <td>хорошее</td>\n      <td>2 с/у и более</td>\n      <td>NaN</td>\n      <td>NaN</td>\n      <td>NaN</td>\n      <td>...</td>\n      <td>51.144</td>\n      <td>71.403</td>\n      <td>Esilyskiy_r-n</td>\n      <td>Tumar_Hanym</td>\n      <td>20</td>\n      <td>750000000</td>\n      <td>1685393.258</td>\n      <td>4</td>\n      <td>3.000</td>\n      <td>7.000</td>\n    </tr>\n    <tr>\n      <th>16125</th>\n      <td>монолитный</td>\n      <td>2010</td>\n      <td>5 из 6</td>\n      <td>700.000</td>\n      <td>700 м²</td>\n      <td>NaN</td>\n      <td>2 с/у и более</td>\n      <td>несколько балконов или лоджий</td>\n      <td>NaN</td>\n      <td>полностью</td>\n      <td>...</td>\n      <td>51.142</td>\n      <td>71.398</td>\n      <td>Esilyskiy_r-n</td>\n      <td>Karashash_Ana</td>\n      <td>21</td>\n      <td>730000000</td>\n      <td>1042857.143</td>\n      <td>13</td>\n      <td>5.000</td>\n      <td>6.000</td>\n    </tr>\n    <tr>\n      <th>720</th>\n      <td>монолитный</td>\n      <td>2021</td>\n      <td>21 из 22</td>\n      <td>250.000</td>\n      <td>250 м²</td>\n      <td>NaN</td>\n      <td>2 с/у и более</td>\n      <td>NaN</td>\n      <td>NaN</td>\n      <td>NaN</td>\n      <td>...</td>\n      <td>51.107</td>\n      <td>71.425</td>\n      <td>Esilyskiy_r-n</td>\n      <td>Turkestan</td>\n      <td>16</td>\n      <td>650000000</td>\n      <td>2600000.000</td>\n      <td>2</td>\n      <td>21.000</td>\n      <td>22.000</td>\n    </tr>\n    <tr>\n      <th>13133</th>\n      <td>монолитный</td>\n      <td>2018</td>\n      <td>21 из 22</td>\n      <td>250.000</td>\n      <td>250 м²</td>\n      <td>NaN</td>\n      <td>NaN</td>\n      <td>NaN</td>\n      <td>NaN</td>\n      <td>NaN</td>\n      <td>...</td>\n      <td>51.106</td>\n      <td>71.425</td>\n      <td>Esilyskiy_r-n</td>\n      <td>Turkestan</td>\n      <td>16</td>\n      <td>650000000</td>\n      <td>2600000.000</td>\n      <td>5</td>\n      <td>21.000</td>\n      <td>22.000</td>\n    </tr>\n    <tr>\n      <th>3111</th>\n      <td>монолитный</td>\n      <td>2012</td>\n      <td>24 из 26</td>\n      <td>290.000</td>\n      <td>290 м²</td>\n      <td>NaN</td>\n      <td>NaN</td>\n      <td>NaN</td>\n      <td>NaN</td>\n      <td>NaN</td>\n      <td>...</td>\n      <td>51.132</td>\n      <td>71.404</td>\n      <td>Esilyskiy_r-n</td>\n      <td>Turan</td>\n      <td>37/9</td>\n      <td>600000000</td>\n      <td>2068965.517</td>\n      <td>11</td>\n      <td>24.000</td>\n      <td>26.000</td>\n    </tr>\n    <tr>\n      <th>12937</th>\n      <td>монолитный</td>\n      <td>2017</td>\n      <td>20 из 23</td>\n      <td>650.000</td>\n      <td>650 м²</td>\n      <td>NaN</td>\n      <td>NaN</td>\n      <td>NaN</td>\n      <td>Не интересует</td>\n      <td>NaN</td>\n      <td>...</td>\n      <td>51.114</td>\n      <td>71.435</td>\n      <td>Esilyskiy_r-n</td>\n      <td>Mangilik</td>\n      <td>26a</td>\n      <td>560000000</td>\n      <td>861538.462</td>\n      <td>6</td>\n      <td>20.000</td>\n      <td>23.000</td>\n    </tr>\n    <tr>\n      <th>434</th>\n      <td>монолитный</td>\n      <td>2016</td>\n      <td>20 из 22</td>\n      <td>650.000</td>\n      <td>650 м²</td>\n      <td>хорошее</td>\n      <td>2 с/у и более</td>\n      <td>NaN</td>\n      <td>NaN</td>\n      <td>NaN</td>\n      <td>...</td>\n      <td>51.114</td>\n      <td>71.435</td>\n      <td>Esilyskiy_r-n</td>\n      <td>Mangilik_El</td>\n      <td>26A</td>\n      <td>560000000</td>\n      <td>861538.462</td>\n      <td>7</td>\n      <td>20.000</td>\n      <td>22.000</td>\n    </tr>\n    <tr>\n      <th>2566</th>\n      <td>монолитный</td>\n      <td>2021</td>\n      <td>1 из 2</td>\n      <td>766.000</td>\n      <td>766 м²</td>\n      <td>хорошее</td>\n      <td>2 с/у и более</td>\n      <td>лоджия</td>\n      <td>NaN</td>\n      <td>NaN</td>\n      <td>...</td>\n      <td>51.134</td>\n      <td>71.379</td>\n      <td>Esilyskiy_r-n</td>\n      <td>E-753_ul</td>\n      <td>6</td>\n      <td>550000000</td>\n      <td>718015.666</td>\n      <td>2</td>\n      <td>1.000</td>\n      <td>2.000</td>\n    </tr>\n    <tr>\n      <th>14032</th>\n      <td>кирпичный</td>\n      <td>2014</td>\n      <td>2 из 6</td>\n      <td>364.000</td>\n      <td>364 м², Площадь кухни — 25 м²</td>\n      <td>хорошее</td>\n      <td>2 с/у и более</td>\n      <td>NaN</td>\n      <td>Не интересует</td>\n      <td>NaN</td>\n      <td>...</td>\n      <td>51.139</td>\n      <td>71.414</td>\n      <td>Esilyskiy_r-n</td>\n      <td>Kabanbay_batyra</td>\n      <td>13</td>\n      <td>500000000</td>\n      <td>1373626.374</td>\n      <td>9</td>\n      <td>2.000</td>\n      <td>6.000</td>\n    </tr>\n  </tbody>\n</table>\n<p>10 rows × 33 columns</p>\n</div>"
     },
     "execution_count": 78,
     "metadata": {},
     "output_type": "execute_result"
    }
   ],
   "source": [
    "bla.sort_values(by='price', ascending=False).iloc[:10]"
   ],
   "metadata": {
    "collapsed": false
   }
  },
  {
   "cell_type": "markdown",
   "source": [
    "# 6"
   ],
   "metadata": {
    "collapsed": false
   }
  },
  {
   "cell_type": "code",
   "execution_count": 79,
   "outputs": [
    {
     "data": {
      "text/plain": "total_area\n(9.999, 41.0]      4748\n(41.0, 58.0]       4726\n(58.0, 80.232]     4620\n(80.232, 800.0]    4698\ndtype: int64"
     },
     "execution_count": 79,
     "metadata": {},
     "output_type": "execute_result"
    }
   ],
   "source": [
    "bla.groupby(pd.qcut(bla['total_area'], 4)).size()"
   ],
   "metadata": {
    "collapsed": false
   }
  },
  {
   "cell_type": "markdown",
   "source": [
    "# 5"
   ],
   "metadata": {
    "collapsed": false
   }
  },
  {
   "cell_type": "code",
   "execution_count": 80,
   "outputs": [
    {
     "data": {
      "text/plain": "street\nTuran              503\nSyganak            452\nKabanbay_batyra    443\nNazhimedenova      392\nBaytursynova       327\ndtype: int64"
     },
     "execution_count": 80,
     "metadata": {},
     "output_type": "execute_result"
    }
   ],
   "source": [
    "bla.groupby('street').size().sort_values(ascending=False).iloc[:5]"
   ],
   "metadata": {
    "collapsed": false
   }
  },
  {
   "cell_type": "markdown",
   "source": [
    "# 4"
   ],
   "metadata": {
    "collapsed": false
   }
  },
  {
   "cell_type": "code",
   "execution_count": 81,
   "outputs": [
    {
     "data": {
      "text/plain": "            total_area  rooms  price    age\ntotal_area       1.000  0.842  0.839 -0.060\nrooms            0.842  1.000  0.651  0.065\nprice            0.839  0.651  1.000 -0.111\nage             -0.060  0.065 -0.111  1.000",
      "text/html": "<div>\n<style scoped>\n    .dataframe tbody tr th:only-of-type {\n        vertical-align: middle;\n    }\n\n    .dataframe tbody tr th {\n        vertical-align: top;\n    }\n\n    .dataframe thead th {\n        text-align: right;\n    }\n</style>\n<table border=\"1\" class=\"dataframe\">\n  <thead>\n    <tr style=\"text-align: right;\">\n      <th></th>\n      <th>total_area</th>\n      <th>rooms</th>\n      <th>price</th>\n      <th>age</th>\n    </tr>\n  </thead>\n  <tbody>\n    <tr>\n      <th>total_area</th>\n      <td>1.000</td>\n      <td>0.842</td>\n      <td>0.839</td>\n      <td>-0.060</td>\n    </tr>\n    <tr>\n      <th>rooms</th>\n      <td>0.842</td>\n      <td>1.000</td>\n      <td>0.651</td>\n      <td>0.065</td>\n    </tr>\n    <tr>\n      <th>price</th>\n      <td>0.839</td>\n      <td>0.651</td>\n      <td>1.000</td>\n      <td>-0.111</td>\n    </tr>\n    <tr>\n      <th>age</th>\n      <td>-0.060</td>\n      <td>0.065</td>\n      <td>-0.111</td>\n      <td>1.000</td>\n    </tr>\n  </tbody>\n</table>\n</div>"
     },
     "execution_count": 81,
     "metadata": {},
     "output_type": "execute_result"
    }
   ],
   "source": [
    "bla[['total_area', 'rooms', 'price', 'age']].corr()"
   ],
   "metadata": {
    "collapsed": false
   }
  },
  {
   "cell_type": "markdown",
   "source": [
    "# Новые колонки"
   ],
   "metadata": {
    "collapsed": false
   }
  },
  {
   "cell_type": "markdown",
   "source": [
    "# 5"
   ],
   "metadata": {
    "collapsed": false
   }
  },
  {
   "cell_type": "code",
   "execution_count": 82,
   "outputs": [
    {
     "data": {
      "text/plain": "       built_type  year_built floor_level  total_area  \\\n0      монолитный        2022      7 из 9      38.400   \n1      монолитный        2022      2 из 9      34.000   \n2       кирпичный        2011     8 из 16      57.200   \n3      монолитный        2022      7 из 7      50.000   \n4      монолитный        1979      4 из 5      45.000   \n...           ...         ...         ...         ...   \n18787   кирпичный        2019     9 из 10      38.000   \n18788  монолитный        2022    11 из 13     107.400   \n18789  монолитный        2021    13 из 16     103.000   \n18790  монолитный        2012      6 из 8     141.000   \n18791  монолитный        2011    10 из 22      70.000   \n\n                             area_descr         condition      bathrooms  \\\n0      38.4 м², Площадь кухни — 8.27 м²  черновая отделка    совмещенный   \n1           34 м², Площадь кухни — 9 м²  черновая отделка    совмещенный   \n2                               57.2 м²               NaN            NaN   \n3                                 50 м²  черновая отделка    совмещенный   \n4           45 м², Площадь кухни — 9 м²               NaN     раздельный   \n...                                 ...               ...            ...   \n18787                             38 м²           хорошее            NaN   \n18788                          107.4 м²  черновая отделка  2 с/у и более   \n18789   103 м², Площадь кухни — 17.5 м²           хорошее  2 с/у и более   \n18790                            141 м²           хорошее  2 с/у и более   \n18791                             70 м²           хорошее    совмещенный   \n\n      balcony       exchange furniture  ...    lon       district  \\\n0      лоджия  Не интересует       NaN  ... 71.526     Almaty_r-n   \n1      лоджия  Не интересует       NaN  ... 71.404  Esilyskiy_r-n   \n2         NaN            NaN       NaN  ... 71.509     Almaty_r-n   \n3         NaN            NaN       NaN  ... 71.426  Esilyskiy_r-n   \n4      балкон  Не интересует       NaN  ... 71.407   Saryarka_r-n   \n...       ...            ...       ...  ...    ...            ...   \n18787     NaN            NaN       NaN  ... 71.380  Esilyskiy_r-n   \n18788     NaN  Не интересует       NaN  ... 71.508     Almaty_r-n   \n18789     NaN  Не интересует       NaN  ... 71.376  Esilyskiy_r-n   \n18790     NaN            NaN       NaN  ... 71.455     Almaty_r-n   \n18791  балкон  Не интересует       NaN  ... 71.463     Almaty_r-n   \n\n                   street house_num     price price_for_area age  \\\n0              A91_ulitsa    55_str  15555555     405092.578   1   \n1                 Orynbor        10  18800000     552941.176   1   \n2      Gabidena_Mustafina      21/4  23000000     402097.902  12   \n3              Manglik_El        56  31000000     620000.000   1   \n4               Sary_Arka       NaN  19300000     428888.889  44   \n...                   ...       ...       ...            ...  ..   \n18787               E_489       NaN  21500000     565789.474   4   \n18788           Tulebaeva         5  31000000     288640.596   1   \n18789        E-753_ulitsa         2  70000000     679611.650   2   \n18790     Ivana_Panfilova       5/1  88000000     624113.475  11   \n18791       Nazhimedenova        10  28900000     412857.143  12   \n\n      current_floor max_floor is_penthouse  \n0             7.000     9.000        False  \n1             2.000     9.000        False  \n2             8.000    16.000        False  \n3             7.000     7.000         True  \n4             4.000     5.000        False  \n...             ...       ...          ...  \n18787         9.000    10.000        False  \n18788        11.000    13.000        False  \n18789        13.000    16.000        False  \n18790         6.000     8.000        False  \n18791        10.000    22.000        False  \n\n[18792 rows x 34 columns]",
      "text/html": "<div>\n<style scoped>\n    .dataframe tbody tr th:only-of-type {\n        vertical-align: middle;\n    }\n\n    .dataframe tbody tr th {\n        vertical-align: top;\n    }\n\n    .dataframe thead th {\n        text-align: right;\n    }\n</style>\n<table border=\"1\" class=\"dataframe\">\n  <thead>\n    <tr style=\"text-align: right;\">\n      <th></th>\n      <th>built_type</th>\n      <th>year_built</th>\n      <th>floor_level</th>\n      <th>total_area</th>\n      <th>area_descr</th>\n      <th>condition</th>\n      <th>bathrooms</th>\n      <th>balcony</th>\n      <th>exchange</th>\n      <th>furniture</th>\n      <th>...</th>\n      <th>lon</th>\n      <th>district</th>\n      <th>street</th>\n      <th>house_num</th>\n      <th>price</th>\n      <th>price_for_area</th>\n      <th>age</th>\n      <th>current_floor</th>\n      <th>max_floor</th>\n      <th>is_penthouse</th>\n    </tr>\n  </thead>\n  <tbody>\n    <tr>\n      <th>0</th>\n      <td>монолитный</td>\n      <td>2022</td>\n      <td>7 из 9</td>\n      <td>38.400</td>\n      <td>38.4 м², Площадь кухни — 8.27 м²</td>\n      <td>черновая отделка</td>\n      <td>совмещенный</td>\n      <td>лоджия</td>\n      <td>Не интересует</td>\n      <td>NaN</td>\n      <td>...</td>\n      <td>71.526</td>\n      <td>Almaty_r-n</td>\n      <td>A91_ulitsa</td>\n      <td>55_str</td>\n      <td>15555555</td>\n      <td>405092.578</td>\n      <td>1</td>\n      <td>7.000</td>\n      <td>9.000</td>\n      <td>False</td>\n    </tr>\n    <tr>\n      <th>1</th>\n      <td>монолитный</td>\n      <td>2022</td>\n      <td>2 из 9</td>\n      <td>34.000</td>\n      <td>34 м², Площадь кухни — 9 м²</td>\n      <td>черновая отделка</td>\n      <td>совмещенный</td>\n      <td>лоджия</td>\n      <td>Не интересует</td>\n      <td>NaN</td>\n      <td>...</td>\n      <td>71.404</td>\n      <td>Esilyskiy_r-n</td>\n      <td>Orynbor</td>\n      <td>10</td>\n      <td>18800000</td>\n      <td>552941.176</td>\n      <td>1</td>\n      <td>2.000</td>\n      <td>9.000</td>\n      <td>False</td>\n    </tr>\n    <tr>\n      <th>2</th>\n      <td>кирпичный</td>\n      <td>2011</td>\n      <td>8 из 16</td>\n      <td>57.200</td>\n      <td>57.2 м²</td>\n      <td>NaN</td>\n      <td>NaN</td>\n      <td>NaN</td>\n      <td>NaN</td>\n      <td>NaN</td>\n      <td>...</td>\n      <td>71.509</td>\n      <td>Almaty_r-n</td>\n      <td>Gabidena_Mustafina</td>\n      <td>21/4</td>\n      <td>23000000</td>\n      <td>402097.902</td>\n      <td>12</td>\n      <td>8.000</td>\n      <td>16.000</td>\n      <td>False</td>\n    </tr>\n    <tr>\n      <th>3</th>\n      <td>монолитный</td>\n      <td>2022</td>\n      <td>7 из 7</td>\n      <td>50.000</td>\n      <td>50 м²</td>\n      <td>черновая отделка</td>\n      <td>совмещенный</td>\n      <td>NaN</td>\n      <td>NaN</td>\n      <td>NaN</td>\n      <td>...</td>\n      <td>71.426</td>\n      <td>Esilyskiy_r-n</td>\n      <td>Manglik_El</td>\n      <td>56</td>\n      <td>31000000</td>\n      <td>620000.000</td>\n      <td>1</td>\n      <td>7.000</td>\n      <td>7.000</td>\n      <td>True</td>\n    </tr>\n    <tr>\n      <th>4</th>\n      <td>монолитный</td>\n      <td>1979</td>\n      <td>4 из 5</td>\n      <td>45.000</td>\n      <td>45 м², Площадь кухни — 9 м²</td>\n      <td>NaN</td>\n      <td>раздельный</td>\n      <td>балкон</td>\n      <td>Не интересует</td>\n      <td>NaN</td>\n      <td>...</td>\n      <td>71.407</td>\n      <td>Saryarka_r-n</td>\n      <td>Sary_Arka</td>\n      <td>NaN</td>\n      <td>19300000</td>\n      <td>428888.889</td>\n      <td>44</td>\n      <td>4.000</td>\n      <td>5.000</td>\n      <td>False</td>\n    </tr>\n    <tr>\n      <th>...</th>\n      <td>...</td>\n      <td>...</td>\n      <td>...</td>\n      <td>...</td>\n      <td>...</td>\n      <td>...</td>\n      <td>...</td>\n      <td>...</td>\n      <td>...</td>\n      <td>...</td>\n      <td>...</td>\n      <td>...</td>\n      <td>...</td>\n      <td>...</td>\n      <td>...</td>\n      <td>...</td>\n      <td>...</td>\n      <td>...</td>\n      <td>...</td>\n      <td>...</td>\n      <td>...</td>\n    </tr>\n    <tr>\n      <th>18787</th>\n      <td>кирпичный</td>\n      <td>2019</td>\n      <td>9 из 10</td>\n      <td>38.000</td>\n      <td>38 м²</td>\n      <td>хорошее</td>\n      <td>NaN</td>\n      <td>NaN</td>\n      <td>NaN</td>\n      <td>NaN</td>\n      <td>...</td>\n      <td>71.380</td>\n      <td>Esilyskiy_r-n</td>\n      <td>E_489</td>\n      <td>NaN</td>\n      <td>21500000</td>\n      <td>565789.474</td>\n      <td>4</td>\n      <td>9.000</td>\n      <td>10.000</td>\n      <td>False</td>\n    </tr>\n    <tr>\n      <th>18788</th>\n      <td>монолитный</td>\n      <td>2022</td>\n      <td>11 из 13</td>\n      <td>107.400</td>\n      <td>107.4 м²</td>\n      <td>черновая отделка</td>\n      <td>2 с/у и более</td>\n      <td>NaN</td>\n      <td>Не интересует</td>\n      <td>NaN</td>\n      <td>...</td>\n      <td>71.508</td>\n      <td>Almaty_r-n</td>\n      <td>Tulebaeva</td>\n      <td>5</td>\n      <td>31000000</td>\n      <td>288640.596</td>\n      <td>1</td>\n      <td>11.000</td>\n      <td>13.000</td>\n      <td>False</td>\n    </tr>\n    <tr>\n      <th>18789</th>\n      <td>монолитный</td>\n      <td>2021</td>\n      <td>13 из 16</td>\n      <td>103.000</td>\n      <td>103 м², Площадь кухни — 17.5 м²</td>\n      <td>хорошее</td>\n      <td>2 с/у и более</td>\n      <td>NaN</td>\n      <td>Не интересует</td>\n      <td>NaN</td>\n      <td>...</td>\n      <td>71.376</td>\n      <td>Esilyskiy_r-n</td>\n      <td>E-753_ulitsa</td>\n      <td>2</td>\n      <td>70000000</td>\n      <td>679611.650</td>\n      <td>2</td>\n      <td>13.000</td>\n      <td>16.000</td>\n      <td>False</td>\n    </tr>\n    <tr>\n      <th>18790</th>\n      <td>монолитный</td>\n      <td>2012</td>\n      <td>6 из 8</td>\n      <td>141.000</td>\n      <td>141 м²</td>\n      <td>хорошее</td>\n      <td>2 с/у и более</td>\n      <td>NaN</td>\n      <td>NaN</td>\n      <td>NaN</td>\n      <td>...</td>\n      <td>71.455</td>\n      <td>Almaty_r-n</td>\n      <td>Ivana_Panfilova</td>\n      <td>5/1</td>\n      <td>88000000</td>\n      <td>624113.475</td>\n      <td>11</td>\n      <td>6.000</td>\n      <td>8.000</td>\n      <td>False</td>\n    </tr>\n    <tr>\n      <th>18791</th>\n      <td>монолитный</td>\n      <td>2011</td>\n      <td>10 из 22</td>\n      <td>70.000</td>\n      <td>70 м²</td>\n      <td>хорошее</td>\n      <td>совмещенный</td>\n      <td>балкон</td>\n      <td>Не интересует</td>\n      <td>NaN</td>\n      <td>...</td>\n      <td>71.463</td>\n      <td>Almaty_r-n</td>\n      <td>Nazhimedenova</td>\n      <td>10</td>\n      <td>28900000</td>\n      <td>412857.143</td>\n      <td>12</td>\n      <td>10.000</td>\n      <td>22.000</td>\n      <td>False</td>\n    </tr>\n  </tbody>\n</table>\n<p>18792 rows × 34 columns</p>\n</div>"
     },
     "execution_count": 82,
     "metadata": {},
     "output_type": "execute_result"
    }
   ],
   "source": [
    "bla['is_penthouse'] = bla['current_floor'] == bla['max_floor']\n",
    "bla"
   ],
   "metadata": {
    "collapsed": false
   }
  },
  {
   "cell_type": "markdown",
   "source": [
    "# 6"
   ],
   "metadata": {
    "collapsed": false
   }
  },
  {
   "cell_type": "code",
   "execution_count": 83,
   "outputs": [
    {
     "data": {
      "text/plain": "       built_type  year_built floor_level  total_area  \\\n0      монолитный        2022      7 из 9      38.400   \n1      монолитный        2022      2 из 9      34.000   \n2       кирпичный        2011     8 из 16      57.200   \n3      монолитный        2022      7 из 7      50.000   \n4      монолитный        1979      4 из 5      45.000   \n...           ...         ...         ...         ...   \n18787   кирпичный        2019     9 из 10      38.000   \n18788  монолитный        2022    11 из 13     107.400   \n18789  монолитный        2021    13 из 16     103.000   \n18790  монолитный        2012      6 из 8     141.000   \n18791  монолитный        2011    10 из 22      70.000   \n\n                             area_descr         condition      bathrooms  \\\n0      38.4 м², Площадь кухни — 8.27 м²  черновая отделка    совмещенный   \n1           34 м², Площадь кухни — 9 м²  черновая отделка    совмещенный   \n2                               57.2 м²               NaN            NaN   \n3                                 50 м²  черновая отделка    совмещенный   \n4           45 м², Площадь кухни — 9 м²               NaN     раздельный   \n...                                 ...               ...            ...   \n18787                             38 м²           хорошее            NaN   \n18788                          107.4 м²  черновая отделка  2 с/у и более   \n18789   103 м², Площадь кухни — 17.5 м²           хорошее  2 с/у и более   \n18790                            141 м²           хорошее  2 с/у и более   \n18791                             70 м²           хорошее    совмещенный   \n\n      balcony       exchange furniture  ...       district  \\\n0      лоджия  Не интересует       NaN  ...     Almaty_r-n   \n1      лоджия  Не интересует       NaN  ...  Esilyskiy_r-n   \n2         NaN            NaN       NaN  ...     Almaty_r-n   \n3         NaN            NaN       NaN  ...  Esilyskiy_r-n   \n4      балкон  Не интересует       NaN  ...   Saryarka_r-n   \n...       ...            ...       ...  ...            ...   \n18787     NaN            NaN       NaN  ...  Esilyskiy_r-n   \n18788     NaN  Не интересует       NaN  ...     Almaty_r-n   \n18789     NaN  Не интересует       NaN  ...  Esilyskiy_r-n   \n18790     NaN            NaN       NaN  ...     Almaty_r-n   \n18791  балкон  Не интересует       NaN  ...     Almaty_r-n   \n\n                   street house_num     price price_for_area age  \\\n0              A91_ulitsa    55_str  15555555     405092.578   1   \n1                 Orynbor        10  18800000     552941.176   1   \n2      Gabidena_Mustafina      21/4  23000000     402097.902  12   \n3              Manglik_El        56  31000000     620000.000   1   \n4               Sary_Arka       NaN  19300000     428888.889  44   \n...                   ...       ...       ...            ...  ..   \n18787               E_489       NaN  21500000     565789.474   4   \n18788           Tulebaeva         5  31000000     288640.596   1   \n18789        E-753_ulitsa         2  70000000     679611.650   2   \n18790     Ivana_Panfilova       5/1  88000000     624113.475  11   \n18791       Nazhimedenova        10  28900000     412857.143  12   \n\n      current_floor max_floor is_penthouse  \\\n0             7.000     9.000        False   \n1             2.000     9.000        False   \n2             8.000    16.000        False   \n3             7.000     7.000         True   \n4             4.000     5.000        False   \n...             ...       ...          ...   \n18787         9.000    10.000        False   \n18788        11.000    13.000        False   \n18789        13.000    16.000        False   \n18790         6.000     8.000        False   \n18791        10.000    22.000        False   \n\n                                         location  \n0            A91_ulitsa +;+ 55_str +;+ Almaty_r-n  \n1                Orynbor +;+ 10 +;+ Esilyskiy_r-n  \n2      Gabidena_Mustafina +;+ 21/4 +;+ Almaty_r-n  \n3             Manglik_El +;+ 56 +;+ Esilyskiy_r-n  \n4                                             NaN  \n...                                           ...  \n18787                                         NaN  \n18788              Tulebaeva +;+ 5 +;+ Almaty_r-n  \n18789        E-753_ulitsa +;+ 2 +;+ Esilyskiy_r-n  \n18790      Ivana_Panfilova +;+ 5/1 +;+ Almaty_r-n  \n18791         Nazhimedenova +;+ 10 +;+ Almaty_r-n  \n\n[18792 rows x 35 columns]",
      "text/html": "<div>\n<style scoped>\n    .dataframe tbody tr th:only-of-type {\n        vertical-align: middle;\n    }\n\n    .dataframe tbody tr th {\n        vertical-align: top;\n    }\n\n    .dataframe thead th {\n        text-align: right;\n    }\n</style>\n<table border=\"1\" class=\"dataframe\">\n  <thead>\n    <tr style=\"text-align: right;\">\n      <th></th>\n      <th>built_type</th>\n      <th>year_built</th>\n      <th>floor_level</th>\n      <th>total_area</th>\n      <th>area_descr</th>\n      <th>condition</th>\n      <th>bathrooms</th>\n      <th>balcony</th>\n      <th>exchange</th>\n      <th>furniture</th>\n      <th>...</th>\n      <th>district</th>\n      <th>street</th>\n      <th>house_num</th>\n      <th>price</th>\n      <th>price_for_area</th>\n      <th>age</th>\n      <th>current_floor</th>\n      <th>max_floor</th>\n      <th>is_penthouse</th>\n      <th>location</th>\n    </tr>\n  </thead>\n  <tbody>\n    <tr>\n      <th>0</th>\n      <td>монолитный</td>\n      <td>2022</td>\n      <td>7 из 9</td>\n      <td>38.400</td>\n      <td>38.4 м², Площадь кухни — 8.27 м²</td>\n      <td>черновая отделка</td>\n      <td>совмещенный</td>\n      <td>лоджия</td>\n      <td>Не интересует</td>\n      <td>NaN</td>\n      <td>...</td>\n      <td>Almaty_r-n</td>\n      <td>A91_ulitsa</td>\n      <td>55_str</td>\n      <td>15555555</td>\n      <td>405092.578</td>\n      <td>1</td>\n      <td>7.000</td>\n      <td>9.000</td>\n      <td>False</td>\n      <td>A91_ulitsa +;+ 55_str +;+ Almaty_r-n</td>\n    </tr>\n    <tr>\n      <th>1</th>\n      <td>монолитный</td>\n      <td>2022</td>\n      <td>2 из 9</td>\n      <td>34.000</td>\n      <td>34 м², Площадь кухни — 9 м²</td>\n      <td>черновая отделка</td>\n      <td>совмещенный</td>\n      <td>лоджия</td>\n      <td>Не интересует</td>\n      <td>NaN</td>\n      <td>...</td>\n      <td>Esilyskiy_r-n</td>\n      <td>Orynbor</td>\n      <td>10</td>\n      <td>18800000</td>\n      <td>552941.176</td>\n      <td>1</td>\n      <td>2.000</td>\n      <td>9.000</td>\n      <td>False</td>\n      <td>Orynbor +;+ 10 +;+ Esilyskiy_r-n</td>\n    </tr>\n    <tr>\n      <th>2</th>\n      <td>кирпичный</td>\n      <td>2011</td>\n      <td>8 из 16</td>\n      <td>57.200</td>\n      <td>57.2 м²</td>\n      <td>NaN</td>\n      <td>NaN</td>\n      <td>NaN</td>\n      <td>NaN</td>\n      <td>NaN</td>\n      <td>...</td>\n      <td>Almaty_r-n</td>\n      <td>Gabidena_Mustafina</td>\n      <td>21/4</td>\n      <td>23000000</td>\n      <td>402097.902</td>\n      <td>12</td>\n      <td>8.000</td>\n      <td>16.000</td>\n      <td>False</td>\n      <td>Gabidena_Mustafina +;+ 21/4 +;+ Almaty_r-n</td>\n    </tr>\n    <tr>\n      <th>3</th>\n      <td>монолитный</td>\n      <td>2022</td>\n      <td>7 из 7</td>\n      <td>50.000</td>\n      <td>50 м²</td>\n      <td>черновая отделка</td>\n      <td>совмещенный</td>\n      <td>NaN</td>\n      <td>NaN</td>\n      <td>NaN</td>\n      <td>...</td>\n      <td>Esilyskiy_r-n</td>\n      <td>Manglik_El</td>\n      <td>56</td>\n      <td>31000000</td>\n      <td>620000.000</td>\n      <td>1</td>\n      <td>7.000</td>\n      <td>7.000</td>\n      <td>True</td>\n      <td>Manglik_El +;+ 56 +;+ Esilyskiy_r-n</td>\n    </tr>\n    <tr>\n      <th>4</th>\n      <td>монолитный</td>\n      <td>1979</td>\n      <td>4 из 5</td>\n      <td>45.000</td>\n      <td>45 м², Площадь кухни — 9 м²</td>\n      <td>NaN</td>\n      <td>раздельный</td>\n      <td>балкон</td>\n      <td>Не интересует</td>\n      <td>NaN</td>\n      <td>...</td>\n      <td>Saryarka_r-n</td>\n      <td>Sary_Arka</td>\n      <td>NaN</td>\n      <td>19300000</td>\n      <td>428888.889</td>\n      <td>44</td>\n      <td>4.000</td>\n      <td>5.000</td>\n      <td>False</td>\n      <td>NaN</td>\n    </tr>\n    <tr>\n      <th>...</th>\n      <td>...</td>\n      <td>...</td>\n      <td>...</td>\n      <td>...</td>\n      <td>...</td>\n      <td>...</td>\n      <td>...</td>\n      <td>...</td>\n      <td>...</td>\n      <td>...</td>\n      <td>...</td>\n      <td>...</td>\n      <td>...</td>\n      <td>...</td>\n      <td>...</td>\n      <td>...</td>\n      <td>...</td>\n      <td>...</td>\n      <td>...</td>\n      <td>...</td>\n      <td>...</td>\n    </tr>\n    <tr>\n      <th>18787</th>\n      <td>кирпичный</td>\n      <td>2019</td>\n      <td>9 из 10</td>\n      <td>38.000</td>\n      <td>38 м²</td>\n      <td>хорошее</td>\n      <td>NaN</td>\n      <td>NaN</td>\n      <td>NaN</td>\n      <td>NaN</td>\n      <td>...</td>\n      <td>Esilyskiy_r-n</td>\n      <td>E_489</td>\n      <td>NaN</td>\n      <td>21500000</td>\n      <td>565789.474</td>\n      <td>4</td>\n      <td>9.000</td>\n      <td>10.000</td>\n      <td>False</td>\n      <td>NaN</td>\n    </tr>\n    <tr>\n      <th>18788</th>\n      <td>монолитный</td>\n      <td>2022</td>\n      <td>11 из 13</td>\n      <td>107.400</td>\n      <td>107.4 м²</td>\n      <td>черновая отделка</td>\n      <td>2 с/у и более</td>\n      <td>NaN</td>\n      <td>Не интересует</td>\n      <td>NaN</td>\n      <td>...</td>\n      <td>Almaty_r-n</td>\n      <td>Tulebaeva</td>\n      <td>5</td>\n      <td>31000000</td>\n      <td>288640.596</td>\n      <td>1</td>\n      <td>11.000</td>\n      <td>13.000</td>\n      <td>False</td>\n      <td>Tulebaeva +;+ 5 +;+ Almaty_r-n</td>\n    </tr>\n    <tr>\n      <th>18789</th>\n      <td>монолитный</td>\n      <td>2021</td>\n      <td>13 из 16</td>\n      <td>103.000</td>\n      <td>103 м², Площадь кухни — 17.5 м²</td>\n      <td>хорошее</td>\n      <td>2 с/у и более</td>\n      <td>NaN</td>\n      <td>Не интересует</td>\n      <td>NaN</td>\n      <td>...</td>\n      <td>Esilyskiy_r-n</td>\n      <td>E-753_ulitsa</td>\n      <td>2</td>\n      <td>70000000</td>\n      <td>679611.650</td>\n      <td>2</td>\n      <td>13.000</td>\n      <td>16.000</td>\n      <td>False</td>\n      <td>E-753_ulitsa +;+ 2 +;+ Esilyskiy_r-n</td>\n    </tr>\n    <tr>\n      <th>18790</th>\n      <td>монолитный</td>\n      <td>2012</td>\n      <td>6 из 8</td>\n      <td>141.000</td>\n      <td>141 м²</td>\n      <td>хорошее</td>\n      <td>2 с/у и более</td>\n      <td>NaN</td>\n      <td>NaN</td>\n      <td>NaN</td>\n      <td>...</td>\n      <td>Almaty_r-n</td>\n      <td>Ivana_Panfilova</td>\n      <td>5/1</td>\n      <td>88000000</td>\n      <td>624113.475</td>\n      <td>11</td>\n      <td>6.000</td>\n      <td>8.000</td>\n      <td>False</td>\n      <td>Ivana_Panfilova +;+ 5/1 +;+ Almaty_r-n</td>\n    </tr>\n    <tr>\n      <th>18791</th>\n      <td>монолитный</td>\n      <td>2011</td>\n      <td>10 из 22</td>\n      <td>70.000</td>\n      <td>70 м²</td>\n      <td>хорошее</td>\n      <td>совмещенный</td>\n      <td>балкон</td>\n      <td>Не интересует</td>\n      <td>NaN</td>\n      <td>...</td>\n      <td>Almaty_r-n</td>\n      <td>Nazhimedenova</td>\n      <td>10</td>\n      <td>28900000</td>\n      <td>412857.143</td>\n      <td>12</td>\n      <td>10.000</td>\n      <td>22.000</td>\n      <td>False</td>\n      <td>Nazhimedenova +;+ 10 +;+ Almaty_r-n</td>\n    </tr>\n  </tbody>\n</table>\n<p>18792 rows × 35 columns</p>\n</div>"
     },
     "execution_count": 83,
     "metadata": {},
     "output_type": "execute_result"
    }
   ],
   "source": [
    " bla['location'] = bla['street'].str.cat(bla['house_num'], sep=' +;+ ').str.cat(bla['district'], sep=' +;+ ')\n",
    "bla"
   ],
   "metadata": {
    "collapsed": false
   }
  },
  {
   "cell_type": "markdown",
   "source": [
    "# 7"
   ],
   "metadata": {
    "collapsed": false
   }
  },
  {
   "cell_type": "code",
   "execution_count": 84,
   "outputs": [],
   "source": [
    "categories_floor = ['low', 'medium', 'high']\n",
    "bla['floor_category'] = pd.qcut(bla['current_floor'], 3, labels=categories_floor)"
   ],
   "metadata": {
    "collapsed": false
   }
  },
  {
   "cell_type": "markdown",
   "source": [
    "# 8"
   ],
   "metadata": {
    "collapsed": false
   }
  },
  {
   "cell_type": "code",
   "execution_count": 85,
   "outputs": [
    {
     "data": {
      "text/plain": "       built_type  year_built floor_level  total_area  \\\n0      монолитный        2022      7 из 9      38.400   \n1      монолитный        2022      2 из 9      34.000   \n2       кирпичный        2011     8 из 16      57.200   \n3      монолитный        2022      7 из 7      50.000   \n4      монолитный        1979      4 из 5      45.000   \n...           ...         ...         ...         ...   \n18787   кирпичный        2019     9 из 10      38.000   \n18788  монолитный        2022    11 из 13     107.400   \n18789  монолитный        2021    13 из 16     103.000   \n18790  монолитный        2012      6 из 8     141.000   \n18791  монолитный        2011    10 из 22      70.000   \n\n                             area_descr         condition      bathrooms  \\\n0      38.4 м², Площадь кухни — 8.27 м²  черновая отделка    совмещенный   \n1           34 м², Площадь кухни — 9 м²  черновая отделка    совмещенный   \n2                               57.2 м²               NaN            NaN   \n3                                 50 м²  черновая отделка    совмещенный   \n4           45 м², Площадь кухни — 9 м²               NaN     раздельный   \n...                                 ...               ...            ...   \n18787                             38 м²           хорошее            NaN   \n18788                          107.4 м²  черновая отделка  2 с/у и более   \n18789   103 м², Площадь кухни — 17.5 м²           хорошее  2 с/у и более   \n18790                            141 м²           хорошее  2 с/у и более   \n18791                             70 м²           хорошее    совмещенный   \n\n      balcony       exchange furniture  ...              street house_num  \\\n0      лоджия  Не интересует       NaN  ...          A91_ulitsa    55_str   \n1      лоджия  Не интересует       NaN  ...             Orynbor        10   \n2         NaN            NaN       NaN  ...  Gabidena_Mustafina      21/4   \n3         NaN            NaN       NaN  ...          Manglik_El        56   \n4      балкон  Не интересует       NaN  ...           Sary_Arka       NaN   \n...       ...            ...       ...  ...                 ...       ...   \n18787     NaN            NaN       NaN  ...               E_489       NaN   \n18788     NaN  Не интересует       NaN  ...           Tulebaeva         5   \n18789     NaN  Не интересует       NaN  ...        E-753_ulitsa         2   \n18790     NaN            NaN       NaN  ...     Ivana_Panfilova       5/1   \n18791  балкон  Не интересует       NaN  ...       Nazhimedenova        10   \n\n          price price_for_area age current_floor max_floor is_penthouse  \\\n0      15555555     405092.578   1         7.000     9.000        False   \n1      18800000     552941.176   1         2.000     9.000        False   \n2      23000000     402097.902  12         8.000    16.000        False   \n3      31000000     620000.000   1         7.000     7.000         True   \n4      19300000     428888.889  44         4.000     5.000        False   \n...         ...            ...  ..           ...       ...          ...   \n18787  21500000     565789.474   4         9.000    10.000        False   \n18788  31000000     288640.596   1        11.000    13.000        False   \n18789  70000000     679611.650   2        13.000    16.000        False   \n18790  88000000     624113.475  11         6.000     8.000        False   \n18791  28900000     412857.143  12        10.000    22.000        False   \n\n                                         location floor_category  \n0            A91_ulitsa +;+ 55_str +;+ Almaty_r-n         medium  \n1                Orynbor +;+ 10 +;+ Esilyskiy_r-n            low  \n2      Gabidena_Mustafina +;+ 21/4 +;+ Almaty_r-n         medium  \n3             Manglik_El +;+ 56 +;+ Esilyskiy_r-n         medium  \n4                                             NaN            low  \n...                                           ...            ...  \n18787                                         NaN           high  \n18788              Tulebaeva +;+ 5 +;+ Almaty_r-n           high  \n18789        E-753_ulitsa +;+ 2 +;+ Esilyskiy_r-n           high  \n18790      Ivana_Panfilova +;+ 5/1 +;+ Almaty_r-n         medium  \n18791         Nazhimedenova +;+ 10 +;+ Almaty_r-n           high  \n\n[18792 rows x 36 columns]",
      "text/html": "<div>\n<style scoped>\n    .dataframe tbody tr th:only-of-type {\n        vertical-align: middle;\n    }\n\n    .dataframe tbody tr th {\n        vertical-align: top;\n    }\n\n    .dataframe thead th {\n        text-align: right;\n    }\n</style>\n<table border=\"1\" class=\"dataframe\">\n  <thead>\n    <tr style=\"text-align: right;\">\n      <th></th>\n      <th>built_type</th>\n      <th>year_built</th>\n      <th>floor_level</th>\n      <th>total_area</th>\n      <th>area_descr</th>\n      <th>condition</th>\n      <th>bathrooms</th>\n      <th>balcony</th>\n      <th>exchange</th>\n      <th>furniture</th>\n      <th>...</th>\n      <th>street</th>\n      <th>house_num</th>\n      <th>price</th>\n      <th>price_for_area</th>\n      <th>age</th>\n      <th>current_floor</th>\n      <th>max_floor</th>\n      <th>is_penthouse</th>\n      <th>location</th>\n      <th>floor_category</th>\n    </tr>\n  </thead>\n  <tbody>\n    <tr>\n      <th>0</th>\n      <td>монолитный</td>\n      <td>2022</td>\n      <td>7 из 9</td>\n      <td>38.400</td>\n      <td>38.4 м², Площадь кухни — 8.27 м²</td>\n      <td>черновая отделка</td>\n      <td>совмещенный</td>\n      <td>лоджия</td>\n      <td>Не интересует</td>\n      <td>NaN</td>\n      <td>...</td>\n      <td>A91_ulitsa</td>\n      <td>55_str</td>\n      <td>15555555</td>\n      <td>405092.578</td>\n      <td>1</td>\n      <td>7.000</td>\n      <td>9.000</td>\n      <td>False</td>\n      <td>A91_ulitsa +;+ 55_str +;+ Almaty_r-n</td>\n      <td>medium</td>\n    </tr>\n    <tr>\n      <th>1</th>\n      <td>монолитный</td>\n      <td>2022</td>\n      <td>2 из 9</td>\n      <td>34.000</td>\n      <td>34 м², Площадь кухни — 9 м²</td>\n      <td>черновая отделка</td>\n      <td>совмещенный</td>\n      <td>лоджия</td>\n      <td>Не интересует</td>\n      <td>NaN</td>\n      <td>...</td>\n      <td>Orynbor</td>\n      <td>10</td>\n      <td>18800000</td>\n      <td>552941.176</td>\n      <td>1</td>\n      <td>2.000</td>\n      <td>9.000</td>\n      <td>False</td>\n      <td>Orynbor +;+ 10 +;+ Esilyskiy_r-n</td>\n      <td>low</td>\n    </tr>\n    <tr>\n      <th>2</th>\n      <td>кирпичный</td>\n      <td>2011</td>\n      <td>8 из 16</td>\n      <td>57.200</td>\n      <td>57.2 м²</td>\n      <td>NaN</td>\n      <td>NaN</td>\n      <td>NaN</td>\n      <td>NaN</td>\n      <td>NaN</td>\n      <td>...</td>\n      <td>Gabidena_Mustafina</td>\n      <td>21/4</td>\n      <td>23000000</td>\n      <td>402097.902</td>\n      <td>12</td>\n      <td>8.000</td>\n      <td>16.000</td>\n      <td>False</td>\n      <td>Gabidena_Mustafina +;+ 21/4 +;+ Almaty_r-n</td>\n      <td>medium</td>\n    </tr>\n    <tr>\n      <th>3</th>\n      <td>монолитный</td>\n      <td>2022</td>\n      <td>7 из 7</td>\n      <td>50.000</td>\n      <td>50 м²</td>\n      <td>черновая отделка</td>\n      <td>совмещенный</td>\n      <td>NaN</td>\n      <td>NaN</td>\n      <td>NaN</td>\n      <td>...</td>\n      <td>Manglik_El</td>\n      <td>56</td>\n      <td>31000000</td>\n      <td>620000.000</td>\n      <td>1</td>\n      <td>7.000</td>\n      <td>7.000</td>\n      <td>True</td>\n      <td>Manglik_El +;+ 56 +;+ Esilyskiy_r-n</td>\n      <td>medium</td>\n    </tr>\n    <tr>\n      <th>4</th>\n      <td>монолитный</td>\n      <td>1979</td>\n      <td>4 из 5</td>\n      <td>45.000</td>\n      <td>45 м², Площадь кухни — 9 м²</td>\n      <td>NaN</td>\n      <td>раздельный</td>\n      <td>балкон</td>\n      <td>Не интересует</td>\n      <td>NaN</td>\n      <td>...</td>\n      <td>Sary_Arka</td>\n      <td>NaN</td>\n      <td>19300000</td>\n      <td>428888.889</td>\n      <td>44</td>\n      <td>4.000</td>\n      <td>5.000</td>\n      <td>False</td>\n      <td>NaN</td>\n      <td>low</td>\n    </tr>\n    <tr>\n      <th>...</th>\n      <td>...</td>\n      <td>...</td>\n      <td>...</td>\n      <td>...</td>\n      <td>...</td>\n      <td>...</td>\n      <td>...</td>\n      <td>...</td>\n      <td>...</td>\n      <td>...</td>\n      <td>...</td>\n      <td>...</td>\n      <td>...</td>\n      <td>...</td>\n      <td>...</td>\n      <td>...</td>\n      <td>...</td>\n      <td>...</td>\n      <td>...</td>\n      <td>...</td>\n      <td>...</td>\n    </tr>\n    <tr>\n      <th>18787</th>\n      <td>кирпичный</td>\n      <td>2019</td>\n      <td>9 из 10</td>\n      <td>38.000</td>\n      <td>38 м²</td>\n      <td>хорошее</td>\n      <td>NaN</td>\n      <td>NaN</td>\n      <td>NaN</td>\n      <td>NaN</td>\n      <td>...</td>\n      <td>E_489</td>\n      <td>NaN</td>\n      <td>21500000</td>\n      <td>565789.474</td>\n      <td>4</td>\n      <td>9.000</td>\n      <td>10.000</td>\n      <td>False</td>\n      <td>NaN</td>\n      <td>high</td>\n    </tr>\n    <tr>\n      <th>18788</th>\n      <td>монолитный</td>\n      <td>2022</td>\n      <td>11 из 13</td>\n      <td>107.400</td>\n      <td>107.4 м²</td>\n      <td>черновая отделка</td>\n      <td>2 с/у и более</td>\n      <td>NaN</td>\n      <td>Не интересует</td>\n      <td>NaN</td>\n      <td>...</td>\n      <td>Tulebaeva</td>\n      <td>5</td>\n      <td>31000000</td>\n      <td>288640.596</td>\n      <td>1</td>\n      <td>11.000</td>\n      <td>13.000</td>\n      <td>False</td>\n      <td>Tulebaeva +;+ 5 +;+ Almaty_r-n</td>\n      <td>high</td>\n    </tr>\n    <tr>\n      <th>18789</th>\n      <td>монолитный</td>\n      <td>2021</td>\n      <td>13 из 16</td>\n      <td>103.000</td>\n      <td>103 м², Площадь кухни — 17.5 м²</td>\n      <td>хорошее</td>\n      <td>2 с/у и более</td>\n      <td>NaN</td>\n      <td>Не интересует</td>\n      <td>NaN</td>\n      <td>...</td>\n      <td>E-753_ulitsa</td>\n      <td>2</td>\n      <td>70000000</td>\n      <td>679611.650</td>\n      <td>2</td>\n      <td>13.000</td>\n      <td>16.000</td>\n      <td>False</td>\n      <td>E-753_ulitsa +;+ 2 +;+ Esilyskiy_r-n</td>\n      <td>high</td>\n    </tr>\n    <tr>\n      <th>18790</th>\n      <td>монолитный</td>\n      <td>2012</td>\n      <td>6 из 8</td>\n      <td>141.000</td>\n      <td>141 м²</td>\n      <td>хорошее</td>\n      <td>2 с/у и более</td>\n      <td>NaN</td>\n      <td>NaN</td>\n      <td>NaN</td>\n      <td>...</td>\n      <td>Ivana_Panfilova</td>\n      <td>5/1</td>\n      <td>88000000</td>\n      <td>624113.475</td>\n      <td>11</td>\n      <td>6.000</td>\n      <td>8.000</td>\n      <td>False</td>\n      <td>Ivana_Panfilova +;+ 5/1 +;+ Almaty_r-n</td>\n      <td>medium</td>\n    </tr>\n    <tr>\n      <th>18791</th>\n      <td>монолитный</td>\n      <td>2011</td>\n      <td>10 из 22</td>\n      <td>70.000</td>\n      <td>70 м²</td>\n      <td>хорошее</td>\n      <td>совмещенный</td>\n      <td>балкон</td>\n      <td>Не интересует</td>\n      <td>NaN</td>\n      <td>...</td>\n      <td>Nazhimedenova</td>\n      <td>10</td>\n      <td>28900000</td>\n      <td>412857.143</td>\n      <td>12</td>\n      <td>10.000</td>\n      <td>22.000</td>\n      <td>False</td>\n      <td>Nazhimedenova +;+ 10 +;+ Almaty_r-n</td>\n      <td>high</td>\n    </tr>\n  </tbody>\n</table>\n<p>18792 rows × 36 columns</p>\n</div>"
     },
     "execution_count": 85,
     "metadata": {},
     "output_type": "execute_result"
    }
   ],
   "source": [
    "# bla['area_descr'].value_counts()\n",
    "bla"
   ],
   "metadata": {
    "collapsed": false
   }
  },
  {
   "cell_type": "markdown",
   "source": [
    "# 9\n",
    "Done"
   ],
   "metadata": {
    "collapsed": false
   }
  },
  {
   "cell_type": "markdown",
   "source": [
    "# 10"
   ],
   "metadata": {
    "collapsed": false
   }
  },
  {
   "cell_type": "code",
   "execution_count": 86,
   "outputs": [
    {
     "data": {
      "text/plain": "       built_type  year_built floor_level  total_area  \\\n0      монолитный        2022      7 из 9      38.400   \n1      монолитный        2022      2 из 9      34.000   \n2       кирпичный        2011     8 из 16      57.200   \n3      монолитный        2022      7 из 7      50.000   \n4      монолитный        1979      4 из 5      45.000   \n...           ...         ...         ...         ...   \n18787   кирпичный        2019     9 из 10      38.000   \n18788  монолитный        2022    11 из 13     107.400   \n18789  монолитный        2021    13 из 16     103.000   \n18790  монолитный        2012      6 из 8     141.000   \n18791  монолитный        2011    10 из 22      70.000   \n\n                             area_descr         condition      bathrooms  \\\n0      38.4 м², Площадь кухни — 8.27 м²  черновая отделка    совмещенный   \n1           34 м², Площадь кухни — 9 м²  черновая отделка    совмещенный   \n2                               57.2 м²               NaN            NaN   \n3                                 50 м²  черновая отделка    совмещенный   \n4           45 м², Площадь кухни — 9 м²               NaN     раздельный   \n...                                 ...               ...            ...   \n18787                             38 м²           хорошее            NaN   \n18788                          107.4 м²  черновая отделка  2 с/у и более   \n18789   103 м², Площадь кухни — 17.5 м²           хорошее  2 с/у и более   \n18790                            141 м²           хорошее  2 с/у и более   \n18791                             70 м²           хорошее    совмещенный   \n\n      balcony       exchange furniture  ... house_num     price  \\\n0      лоджия  Не интересует       NaN  ...    55_str  15555555   \n1      лоджия  Не интересует       NaN  ...        10  18800000   \n2         NaN            NaN       NaN  ...      21/4  23000000   \n3         NaN            NaN       NaN  ...        56  31000000   \n4      балкон  Не интересует       NaN  ...       NaN  19300000   \n...       ...            ...       ...  ...       ...       ...   \n18787     NaN            NaN       NaN  ...       NaN  21500000   \n18788     NaN  Не интересует       NaN  ...         5  31000000   \n18789     NaN  Не интересует       NaN  ...         2  70000000   \n18790     NaN            NaN       NaN  ...       5/1  88000000   \n18791  балкон  Не интересует       NaN  ...        10  28900000   \n\n      price_for_area age current_floor max_floor is_penthouse  \\\n0         405092.578   1         7.000     9.000        False   \n1         552941.176   1         2.000     9.000        False   \n2         402097.902  12         8.000    16.000        False   \n3         620000.000   1         7.000     7.000         True   \n4         428888.889  44         4.000     5.000        False   \n...              ...  ..           ...       ...          ...   \n18787     565789.474   4         9.000    10.000        False   \n18788     288640.596   1        11.000    13.000        False   \n18789     679611.650   2        13.000    16.000        False   \n18790     624113.475  11         6.000     8.000        False   \n18791     412857.143  12        10.000    22.000        False   \n\n                                         location floor_category  \\\n0            A91_ulitsa +;+ 55_str +;+ Almaty_r-n         medium   \n1                Orynbor +;+ 10 +;+ Esilyskiy_r-n            low   \n2      Gabidena_Mustafina +;+ 21/4 +;+ Almaty_r-n         medium   \n3             Manglik_El +;+ 56 +;+ Esilyskiy_r-n         medium   \n4                                             NaN            low   \n...                                           ...            ...   \n18787                                         NaN           high   \n18788              Tulebaeva +;+ 5 +;+ Almaty_r-n           high   \n18789        E-753_ulitsa +;+ 2 +;+ Esilyskiy_r-n           high   \n18790      Ivana_Panfilova +;+ 5/1 +;+ Almaty_r-n         medium   \n18791         Nazhimedenova +;+ 10 +;+ Almaty_r-n           high   \n\n      avg_price_district  \n0           32368559.733  \n1           45403141.775  \n2           32368559.733  \n3           45403141.775  \n4           26228175.669  \n...                  ...  \n18787       45403141.775  \n18788       32368559.733  \n18789       45403141.775  \n18790       32368559.733  \n18791       32368559.733  \n\n[18792 rows x 37 columns]",
      "text/html": "<div>\n<style scoped>\n    .dataframe tbody tr th:only-of-type {\n        vertical-align: middle;\n    }\n\n    .dataframe tbody tr th {\n        vertical-align: top;\n    }\n\n    .dataframe thead th {\n        text-align: right;\n    }\n</style>\n<table border=\"1\" class=\"dataframe\">\n  <thead>\n    <tr style=\"text-align: right;\">\n      <th></th>\n      <th>built_type</th>\n      <th>year_built</th>\n      <th>floor_level</th>\n      <th>total_area</th>\n      <th>area_descr</th>\n      <th>condition</th>\n      <th>bathrooms</th>\n      <th>balcony</th>\n      <th>exchange</th>\n      <th>furniture</th>\n      <th>...</th>\n      <th>house_num</th>\n      <th>price</th>\n      <th>price_for_area</th>\n      <th>age</th>\n      <th>current_floor</th>\n      <th>max_floor</th>\n      <th>is_penthouse</th>\n      <th>location</th>\n      <th>floor_category</th>\n      <th>avg_price_district</th>\n    </tr>\n  </thead>\n  <tbody>\n    <tr>\n      <th>0</th>\n      <td>монолитный</td>\n      <td>2022</td>\n      <td>7 из 9</td>\n      <td>38.400</td>\n      <td>38.4 м², Площадь кухни — 8.27 м²</td>\n      <td>черновая отделка</td>\n      <td>совмещенный</td>\n      <td>лоджия</td>\n      <td>Не интересует</td>\n      <td>NaN</td>\n      <td>...</td>\n      <td>55_str</td>\n      <td>15555555</td>\n      <td>405092.578</td>\n      <td>1</td>\n      <td>7.000</td>\n      <td>9.000</td>\n      <td>False</td>\n      <td>A91_ulitsa +;+ 55_str +;+ Almaty_r-n</td>\n      <td>medium</td>\n      <td>32368559.733</td>\n    </tr>\n    <tr>\n      <th>1</th>\n      <td>монолитный</td>\n      <td>2022</td>\n      <td>2 из 9</td>\n      <td>34.000</td>\n      <td>34 м², Площадь кухни — 9 м²</td>\n      <td>черновая отделка</td>\n      <td>совмещенный</td>\n      <td>лоджия</td>\n      <td>Не интересует</td>\n      <td>NaN</td>\n      <td>...</td>\n      <td>10</td>\n      <td>18800000</td>\n      <td>552941.176</td>\n      <td>1</td>\n      <td>2.000</td>\n      <td>9.000</td>\n      <td>False</td>\n      <td>Orynbor +;+ 10 +;+ Esilyskiy_r-n</td>\n      <td>low</td>\n      <td>45403141.775</td>\n    </tr>\n    <tr>\n      <th>2</th>\n      <td>кирпичный</td>\n      <td>2011</td>\n      <td>8 из 16</td>\n      <td>57.200</td>\n      <td>57.2 м²</td>\n      <td>NaN</td>\n      <td>NaN</td>\n      <td>NaN</td>\n      <td>NaN</td>\n      <td>NaN</td>\n      <td>...</td>\n      <td>21/4</td>\n      <td>23000000</td>\n      <td>402097.902</td>\n      <td>12</td>\n      <td>8.000</td>\n      <td>16.000</td>\n      <td>False</td>\n      <td>Gabidena_Mustafina +;+ 21/4 +;+ Almaty_r-n</td>\n      <td>medium</td>\n      <td>32368559.733</td>\n    </tr>\n    <tr>\n      <th>3</th>\n      <td>монолитный</td>\n      <td>2022</td>\n      <td>7 из 7</td>\n      <td>50.000</td>\n      <td>50 м²</td>\n      <td>черновая отделка</td>\n      <td>совмещенный</td>\n      <td>NaN</td>\n      <td>NaN</td>\n      <td>NaN</td>\n      <td>...</td>\n      <td>56</td>\n      <td>31000000</td>\n      <td>620000.000</td>\n      <td>1</td>\n      <td>7.000</td>\n      <td>7.000</td>\n      <td>True</td>\n      <td>Manglik_El +;+ 56 +;+ Esilyskiy_r-n</td>\n      <td>medium</td>\n      <td>45403141.775</td>\n    </tr>\n    <tr>\n      <th>4</th>\n      <td>монолитный</td>\n      <td>1979</td>\n      <td>4 из 5</td>\n      <td>45.000</td>\n      <td>45 м², Площадь кухни — 9 м²</td>\n      <td>NaN</td>\n      <td>раздельный</td>\n      <td>балкон</td>\n      <td>Не интересует</td>\n      <td>NaN</td>\n      <td>...</td>\n      <td>NaN</td>\n      <td>19300000</td>\n      <td>428888.889</td>\n      <td>44</td>\n      <td>4.000</td>\n      <td>5.000</td>\n      <td>False</td>\n      <td>NaN</td>\n      <td>low</td>\n      <td>26228175.669</td>\n    </tr>\n    <tr>\n      <th>...</th>\n      <td>...</td>\n      <td>...</td>\n      <td>...</td>\n      <td>...</td>\n      <td>...</td>\n      <td>...</td>\n      <td>...</td>\n      <td>...</td>\n      <td>...</td>\n      <td>...</td>\n      <td>...</td>\n      <td>...</td>\n      <td>...</td>\n      <td>...</td>\n      <td>...</td>\n      <td>...</td>\n      <td>...</td>\n      <td>...</td>\n      <td>...</td>\n      <td>...</td>\n      <td>...</td>\n    </tr>\n    <tr>\n      <th>18787</th>\n      <td>кирпичный</td>\n      <td>2019</td>\n      <td>9 из 10</td>\n      <td>38.000</td>\n      <td>38 м²</td>\n      <td>хорошее</td>\n      <td>NaN</td>\n      <td>NaN</td>\n      <td>NaN</td>\n      <td>NaN</td>\n      <td>...</td>\n      <td>NaN</td>\n      <td>21500000</td>\n      <td>565789.474</td>\n      <td>4</td>\n      <td>9.000</td>\n      <td>10.000</td>\n      <td>False</td>\n      <td>NaN</td>\n      <td>high</td>\n      <td>45403141.775</td>\n    </tr>\n    <tr>\n      <th>18788</th>\n      <td>монолитный</td>\n      <td>2022</td>\n      <td>11 из 13</td>\n      <td>107.400</td>\n      <td>107.4 м²</td>\n      <td>черновая отделка</td>\n      <td>2 с/у и более</td>\n      <td>NaN</td>\n      <td>Не интересует</td>\n      <td>NaN</td>\n      <td>...</td>\n      <td>5</td>\n      <td>31000000</td>\n      <td>288640.596</td>\n      <td>1</td>\n      <td>11.000</td>\n      <td>13.000</td>\n      <td>False</td>\n      <td>Tulebaeva +;+ 5 +;+ Almaty_r-n</td>\n      <td>high</td>\n      <td>32368559.733</td>\n    </tr>\n    <tr>\n      <th>18789</th>\n      <td>монолитный</td>\n      <td>2021</td>\n      <td>13 из 16</td>\n      <td>103.000</td>\n      <td>103 м², Площадь кухни — 17.5 м²</td>\n      <td>хорошее</td>\n      <td>2 с/у и более</td>\n      <td>NaN</td>\n      <td>Не интересует</td>\n      <td>NaN</td>\n      <td>...</td>\n      <td>2</td>\n      <td>70000000</td>\n      <td>679611.650</td>\n      <td>2</td>\n      <td>13.000</td>\n      <td>16.000</td>\n      <td>False</td>\n      <td>E-753_ulitsa +;+ 2 +;+ Esilyskiy_r-n</td>\n      <td>high</td>\n      <td>45403141.775</td>\n    </tr>\n    <tr>\n      <th>18790</th>\n      <td>монолитный</td>\n      <td>2012</td>\n      <td>6 из 8</td>\n      <td>141.000</td>\n      <td>141 м²</td>\n      <td>хорошее</td>\n      <td>2 с/у и более</td>\n      <td>NaN</td>\n      <td>NaN</td>\n      <td>NaN</td>\n      <td>...</td>\n      <td>5/1</td>\n      <td>88000000</td>\n      <td>624113.475</td>\n      <td>11</td>\n      <td>6.000</td>\n      <td>8.000</td>\n      <td>False</td>\n      <td>Ivana_Panfilova +;+ 5/1 +;+ Almaty_r-n</td>\n      <td>medium</td>\n      <td>32368559.733</td>\n    </tr>\n    <tr>\n      <th>18791</th>\n      <td>монолитный</td>\n      <td>2011</td>\n      <td>10 из 22</td>\n      <td>70.000</td>\n      <td>70 м²</td>\n      <td>хорошее</td>\n      <td>совмещенный</td>\n      <td>балкон</td>\n      <td>Не интересует</td>\n      <td>NaN</td>\n      <td>...</td>\n      <td>10</td>\n      <td>28900000</td>\n      <td>412857.143</td>\n      <td>12</td>\n      <td>10.000</td>\n      <td>22.000</td>\n      <td>False</td>\n      <td>Nazhimedenova +;+ 10 +;+ Almaty_r-n</td>\n      <td>high</td>\n      <td>32368559.733</td>\n    </tr>\n  </tbody>\n</table>\n<p>18792 rows × 37 columns</p>\n</div>"
     },
     "execution_count": 86,
     "metadata": {},
     "output_type": "execute_result"
    }
   ],
   "source": [
    "bla['avg_price_district'] = bla.groupby('district')['price'].transform('mean')\n",
    "bla"
   ],
   "metadata": {
    "collapsed": false
   }
  },
  {
   "cell_type": "code",
   "execution_count": 87,
   "outputs": [
    {
     "data": {
      "text/plain": "       built_type  year_built floor_level  total_area  \\\n0      монолитный        2022      7 из 9      38.400   \n1      монолитный        2022      2 из 9      34.000   \n2       кирпичный        2011     8 из 16      57.200   \n3      монолитный        2022      7 из 7      50.000   \n4      монолитный        1979      4 из 5      45.000   \n...           ...         ...         ...         ...   \n18787   кирпичный        2019     9 из 10      38.000   \n18788  монолитный        2022    11 из 13     107.400   \n18789  монолитный        2021    13 из 16     103.000   \n18790  монолитный        2012      6 из 8     141.000   \n18791  монолитный        2011    10 из 22      70.000   \n\n                             area_descr         condition      bathrooms  \\\n0      38.4 м², Площадь кухни — 8.27 м²  черновая отделка    совмещенный   \n1           34 м², Площадь кухни — 9 м²  черновая отделка    совмещенный   \n2                               57.2 м²               NaN            NaN   \n3                                 50 м²  черновая отделка    совмещенный   \n4           45 м², Площадь кухни — 9 м²               NaN     раздельный   \n...                                 ...               ...            ...   \n18787                             38 м²           хорошее            NaN   \n18788                          107.4 м²  черновая отделка  2 с/у и более   \n18789   103 м², Площадь кухни — 17.5 м²           хорошее  2 с/у и более   \n18790                            141 м²           хорошее  2 с/у и более   \n18791                             70 м²           хорошее    совмещенный   \n\n      balcony       exchange furniture  ... floor_category avg_price_district  \\\n0      лоджия  Не интересует       NaN  ...         medium       32368559.733   \n1      лоджия  Не интересует       NaN  ...            low       45403141.775   \n2         NaN            NaN       NaN  ...         medium       32368559.733   \n3         NaN            NaN       NaN  ...         medium       45403141.775   \n4      балкон  Не интересует       NaN  ...            low       26228175.669   \n...       ...            ...       ...  ...            ...                ...   \n18787     NaN            NaN       NaN  ...           high       45403141.775   \n18788     NaN  Не интересует       NaN  ...           high       32368559.733   \n18789     NaN  Не интересует       NaN  ...           high       45403141.775   \n18790     NaN            NaN       NaN  ...         medium       32368559.733   \n18791  балкон  Не интересует       NaN  ...           high       32368559.733   \n\n      видеонаблюдение решетки на окнах кодовый замок домофон охрана консьерж  \\\n0                   0                0             0       0      0        0   \n1                   0                0             0       0      0        0   \n2                   0                0             0       0      0        0   \n3                   1                0             1       1      0        0   \n4                   0                0             0       0      0        0   \n...               ...              ...           ...     ...    ...      ...   \n18787               0                0             0       0      0        0   \n18788               0                0             0       0      0        0   \n18789               1                0             0       1      0        0   \n18790               0                0             0       0      0        0   \n18791               0                0             0       0      0        1   \n\n      видеодомофон сигнализация  \n0                0            0  \n1                0            0  \n2                0            0  \n3                1            0  \n4                0            0  \n...            ...          ...  \n18787            0            0  \n18788            0            0  \n18789            1            0  \n18790            0            0  \n18791            0            0  \n\n[18792 rows x 45 columns]",
      "text/html": "<div>\n<style scoped>\n    .dataframe tbody tr th:only-of-type {\n        vertical-align: middle;\n    }\n\n    .dataframe tbody tr th {\n        vertical-align: top;\n    }\n\n    .dataframe thead th {\n        text-align: right;\n    }\n</style>\n<table border=\"1\" class=\"dataframe\">\n  <thead>\n    <tr style=\"text-align: right;\">\n      <th></th>\n      <th>built_type</th>\n      <th>year_built</th>\n      <th>floor_level</th>\n      <th>total_area</th>\n      <th>area_descr</th>\n      <th>condition</th>\n      <th>bathrooms</th>\n      <th>balcony</th>\n      <th>exchange</th>\n      <th>furniture</th>\n      <th>...</th>\n      <th>floor_category</th>\n      <th>avg_price_district</th>\n      <th>видеонаблюдение</th>\n      <th>решетки на окнах</th>\n      <th>кодовый замок</th>\n      <th>домофон</th>\n      <th>охрана</th>\n      <th>консьерж</th>\n      <th>видеодомофон</th>\n      <th>сигнализация</th>\n    </tr>\n  </thead>\n  <tbody>\n    <tr>\n      <th>0</th>\n      <td>монолитный</td>\n      <td>2022</td>\n      <td>7 из 9</td>\n      <td>38.400</td>\n      <td>38.4 м², Площадь кухни — 8.27 м²</td>\n      <td>черновая отделка</td>\n      <td>совмещенный</td>\n      <td>лоджия</td>\n      <td>Не интересует</td>\n      <td>NaN</td>\n      <td>...</td>\n      <td>medium</td>\n      <td>32368559.733</td>\n      <td>0</td>\n      <td>0</td>\n      <td>0</td>\n      <td>0</td>\n      <td>0</td>\n      <td>0</td>\n      <td>0</td>\n      <td>0</td>\n    </tr>\n    <tr>\n      <th>1</th>\n      <td>монолитный</td>\n      <td>2022</td>\n      <td>2 из 9</td>\n      <td>34.000</td>\n      <td>34 м², Площадь кухни — 9 м²</td>\n      <td>черновая отделка</td>\n      <td>совмещенный</td>\n      <td>лоджия</td>\n      <td>Не интересует</td>\n      <td>NaN</td>\n      <td>...</td>\n      <td>low</td>\n      <td>45403141.775</td>\n      <td>0</td>\n      <td>0</td>\n      <td>0</td>\n      <td>0</td>\n      <td>0</td>\n      <td>0</td>\n      <td>0</td>\n      <td>0</td>\n    </tr>\n    <tr>\n      <th>2</th>\n      <td>кирпичный</td>\n      <td>2011</td>\n      <td>8 из 16</td>\n      <td>57.200</td>\n      <td>57.2 м²</td>\n      <td>NaN</td>\n      <td>NaN</td>\n      <td>NaN</td>\n      <td>NaN</td>\n      <td>NaN</td>\n      <td>...</td>\n      <td>medium</td>\n      <td>32368559.733</td>\n      <td>0</td>\n      <td>0</td>\n      <td>0</td>\n      <td>0</td>\n      <td>0</td>\n      <td>0</td>\n      <td>0</td>\n      <td>0</td>\n    </tr>\n    <tr>\n      <th>3</th>\n      <td>монолитный</td>\n      <td>2022</td>\n      <td>7 из 7</td>\n      <td>50.000</td>\n      <td>50 м²</td>\n      <td>черновая отделка</td>\n      <td>совмещенный</td>\n      <td>NaN</td>\n      <td>NaN</td>\n      <td>NaN</td>\n      <td>...</td>\n      <td>medium</td>\n      <td>45403141.775</td>\n      <td>1</td>\n      <td>0</td>\n      <td>1</td>\n      <td>1</td>\n      <td>0</td>\n      <td>0</td>\n      <td>1</td>\n      <td>0</td>\n    </tr>\n    <tr>\n      <th>4</th>\n      <td>монолитный</td>\n      <td>1979</td>\n      <td>4 из 5</td>\n      <td>45.000</td>\n      <td>45 м², Площадь кухни — 9 м²</td>\n      <td>NaN</td>\n      <td>раздельный</td>\n      <td>балкон</td>\n      <td>Не интересует</td>\n      <td>NaN</td>\n      <td>...</td>\n      <td>low</td>\n      <td>26228175.669</td>\n      <td>0</td>\n      <td>0</td>\n      <td>0</td>\n      <td>0</td>\n      <td>0</td>\n      <td>0</td>\n      <td>0</td>\n      <td>0</td>\n    </tr>\n    <tr>\n      <th>...</th>\n      <td>...</td>\n      <td>...</td>\n      <td>...</td>\n      <td>...</td>\n      <td>...</td>\n      <td>...</td>\n      <td>...</td>\n      <td>...</td>\n      <td>...</td>\n      <td>...</td>\n      <td>...</td>\n      <td>...</td>\n      <td>...</td>\n      <td>...</td>\n      <td>...</td>\n      <td>...</td>\n      <td>...</td>\n      <td>...</td>\n      <td>...</td>\n      <td>...</td>\n      <td>...</td>\n    </tr>\n    <tr>\n      <th>18787</th>\n      <td>кирпичный</td>\n      <td>2019</td>\n      <td>9 из 10</td>\n      <td>38.000</td>\n      <td>38 м²</td>\n      <td>хорошее</td>\n      <td>NaN</td>\n      <td>NaN</td>\n      <td>NaN</td>\n      <td>NaN</td>\n      <td>...</td>\n      <td>high</td>\n      <td>45403141.775</td>\n      <td>0</td>\n      <td>0</td>\n      <td>0</td>\n      <td>0</td>\n      <td>0</td>\n      <td>0</td>\n      <td>0</td>\n      <td>0</td>\n    </tr>\n    <tr>\n      <th>18788</th>\n      <td>монолитный</td>\n      <td>2022</td>\n      <td>11 из 13</td>\n      <td>107.400</td>\n      <td>107.4 м²</td>\n      <td>черновая отделка</td>\n      <td>2 с/у и более</td>\n      <td>NaN</td>\n      <td>Не интересует</td>\n      <td>NaN</td>\n      <td>...</td>\n      <td>high</td>\n      <td>32368559.733</td>\n      <td>0</td>\n      <td>0</td>\n      <td>0</td>\n      <td>0</td>\n      <td>0</td>\n      <td>0</td>\n      <td>0</td>\n      <td>0</td>\n    </tr>\n    <tr>\n      <th>18789</th>\n      <td>монолитный</td>\n      <td>2021</td>\n      <td>13 из 16</td>\n      <td>103.000</td>\n      <td>103 м², Площадь кухни — 17.5 м²</td>\n      <td>хорошее</td>\n      <td>2 с/у и более</td>\n      <td>NaN</td>\n      <td>Не интересует</td>\n      <td>NaN</td>\n      <td>...</td>\n      <td>high</td>\n      <td>45403141.775</td>\n      <td>1</td>\n      <td>0</td>\n      <td>0</td>\n      <td>1</td>\n      <td>0</td>\n      <td>0</td>\n      <td>1</td>\n      <td>0</td>\n    </tr>\n    <tr>\n      <th>18790</th>\n      <td>монолитный</td>\n      <td>2012</td>\n      <td>6 из 8</td>\n      <td>141.000</td>\n      <td>141 м²</td>\n      <td>хорошее</td>\n      <td>2 с/у и более</td>\n      <td>NaN</td>\n      <td>NaN</td>\n      <td>NaN</td>\n      <td>...</td>\n      <td>medium</td>\n      <td>32368559.733</td>\n      <td>0</td>\n      <td>0</td>\n      <td>0</td>\n      <td>0</td>\n      <td>0</td>\n      <td>0</td>\n      <td>0</td>\n      <td>0</td>\n    </tr>\n    <tr>\n      <th>18791</th>\n      <td>монолитный</td>\n      <td>2011</td>\n      <td>10 из 22</td>\n      <td>70.000</td>\n      <td>70 м²</td>\n      <td>хорошее</td>\n      <td>совмещенный</td>\n      <td>балкон</td>\n      <td>Не интересует</td>\n      <td>NaN</td>\n      <td>...</td>\n      <td>high</td>\n      <td>32368559.733</td>\n      <td>0</td>\n      <td>0</td>\n      <td>0</td>\n      <td>0</td>\n      <td>0</td>\n      <td>1</td>\n      <td>0</td>\n      <td>0</td>\n    </tr>\n  </tbody>\n</table>\n<p>18792 rows × 45 columns</p>\n</div>"
     },
     "execution_count": 87,
     "metadata": {},
     "output_type": "execute_result"
    }
   ],
   "source": [
    "bla['security'].fillna('NO INFO', inplace= True)\n",
    "\n",
    "for i in a:\n",
    "    bla[f'{i}'] = bla['security'].str.contains(f'{i}').astype(int)\n",
    "\n",
    "bla"
   ],
   "metadata": {
    "collapsed": false
   }
  },
  {
   "cell_type": "code",
   "execution_count": 88,
   "outputs": [
    {
     "data": {
      "text/plain": "                  price  total_area  rooms    age    lat    lon  \\\nprice             1.000       0.839  0.651 -0.111 -0.009 -0.003   \ntotal_area        0.839       1.000  0.842 -0.060  0.000 -0.001   \nrooms             0.651       0.842  1.000  0.065 -0.003  0.001   \nage              -0.111      -0.060  0.065  1.000  0.037  0.010   \nlat              -0.009       0.000 -0.003  0.037  1.000  0.277   \nlon              -0.003      -0.001  0.001  0.010  0.277  1.000   \ncurrent_floor     0.082       0.112  0.071 -0.172 -0.000  0.003   \nmax_floor         0.069       0.107  0.059 -0.269 -0.001  0.000   \nis_penthouse     -0.034      -0.026 -0.001  0.159 -0.005  0.006   \nсигнализация      0.122       0.119  0.097 -0.056 -0.004 -0.002   \nдомофон          -0.015       0.001  0.013 -0.005  0.016  0.006   \nкодовый замок     0.066       0.051  0.045 -0.065 -0.011  0.004   \nконсьерж          0.162       0.154  0.108 -0.031  0.004  0.003   \nохрана            0.144       0.112  0.079 -0.138 -0.007 -0.001   \nвидеодомофон      0.156       0.120  0.086 -0.139 -0.010 -0.000   \nвидеонаблюдение   0.024       0.031  0.026 -0.070  0.005 -0.001   \nрешетки на окнах -0.011      -0.004  0.022  0.065  0.011  0.004   \n\n                  current_floor  max_floor  is_penthouse  сигнализация  \\\nprice                     0.082      0.069        -0.034         0.122   \ntotal_area                0.112      0.107        -0.026         0.119   \nrooms                     0.071      0.059        -0.001         0.097   \nage                      -0.172     -0.269         0.159        -0.056   \nlat                      -0.000     -0.001        -0.005        -0.004   \nlon                       0.003      0.000         0.006        -0.002   \ncurrent_floor             1.000      0.571         0.177         0.033   \nmax_floor                 0.571      1.000        -0.155         0.067   \nis_penthouse              0.177     -0.155         1.000        -0.021   \nсигнализация              0.033      0.067        -0.021         1.000   \nдомофон                   0.005      0.013        -0.007         0.250   \nкодовый замок             0.048      0.054        -0.016         0.390   \nконсьерж                  0.112      0.146        -0.017         0.225   \nохрана                    0.056      0.074        -0.024         0.370   \nвидеодомофон              0.033      0.048        -0.029         0.369   \nвидеонаблюдение           0.028      0.046        -0.024         0.281   \nрешетки на окнах         -0.051     -0.035        -0.003         0.147   \n\n                  домофон  кодовый замок  консьерж  охрана  видеодомофон  \\\nprice              -0.015          0.066     0.162   0.144         0.156   \ntotal_area          0.001          0.051     0.154   0.112         0.120   \nrooms               0.013          0.045     0.108   0.079         0.086   \nage                -0.005         -0.065    -0.031  -0.138        -0.139   \nlat                 0.016         -0.011     0.004  -0.007        -0.010   \nlon                 0.006          0.004     0.003  -0.001        -0.000   \ncurrent_floor       0.005          0.048     0.112   0.056         0.033   \nmax_floor           0.013          0.054     0.146   0.074         0.048   \nis_penthouse       -0.007         -0.016    -0.017  -0.024        -0.029   \nсигнализация        0.250          0.390     0.225   0.370         0.369   \nдомофон             1.000          0.359     0.183   0.378         0.357   \nкодовый замок       0.359          1.000     0.171   0.376         0.399   \nконсьерж            0.183          0.171     1.000   0.293         0.257   \nохрана              0.378          0.376     0.293   1.000         0.452   \nвидеодомофон        0.357          0.399     0.257   0.452         1.000   \nвидеонаблюдение     0.743          0.361     0.220   0.413         0.356   \nрешетки на окнах    0.188          0.127     0.050   0.119         0.075   \n\n                  видеонаблюдение  решетки на окнах  \nprice                       0.024            -0.011  \ntotal_area                  0.031            -0.004  \nrooms                       0.026             0.022  \nage                        -0.070             0.065  \nlat                         0.005             0.011  \nlon                        -0.001             0.004  \ncurrent_floor               0.028            -0.051  \nmax_floor                   0.046            -0.035  \nis_penthouse               -0.024            -0.003  \nсигнализация                0.281             0.147  \nдомофон                     0.743             0.188  \nкодовый замок               0.361             0.127  \nконсьерж                    0.220             0.050  \nохрана                      0.413             0.119  \nвидеодомофон                0.356             0.075  \nвидеонаблюдение             1.000             0.157  \nрешетки на окнах            0.157             1.000  ",
      "text/html": "<div>\n<style scoped>\n    .dataframe tbody tr th:only-of-type {\n        vertical-align: middle;\n    }\n\n    .dataframe tbody tr th {\n        vertical-align: top;\n    }\n\n    .dataframe thead th {\n        text-align: right;\n    }\n</style>\n<table border=\"1\" class=\"dataframe\">\n  <thead>\n    <tr style=\"text-align: right;\">\n      <th></th>\n      <th>price</th>\n      <th>total_area</th>\n      <th>rooms</th>\n      <th>age</th>\n      <th>lat</th>\n      <th>lon</th>\n      <th>current_floor</th>\n      <th>max_floor</th>\n      <th>is_penthouse</th>\n      <th>сигнализация</th>\n      <th>домофон</th>\n      <th>кодовый замок</th>\n      <th>консьерж</th>\n      <th>охрана</th>\n      <th>видеодомофон</th>\n      <th>видеонаблюдение</th>\n      <th>решетки на окнах</th>\n    </tr>\n  </thead>\n  <tbody>\n    <tr>\n      <th>price</th>\n      <td>1.000</td>\n      <td>0.839</td>\n      <td>0.651</td>\n      <td>-0.111</td>\n      <td>-0.009</td>\n      <td>-0.003</td>\n      <td>0.082</td>\n      <td>0.069</td>\n      <td>-0.034</td>\n      <td>0.122</td>\n      <td>-0.015</td>\n      <td>0.066</td>\n      <td>0.162</td>\n      <td>0.144</td>\n      <td>0.156</td>\n      <td>0.024</td>\n      <td>-0.011</td>\n    </tr>\n    <tr>\n      <th>total_area</th>\n      <td>0.839</td>\n      <td>1.000</td>\n      <td>0.842</td>\n      <td>-0.060</td>\n      <td>0.000</td>\n      <td>-0.001</td>\n      <td>0.112</td>\n      <td>0.107</td>\n      <td>-0.026</td>\n      <td>0.119</td>\n      <td>0.001</td>\n      <td>0.051</td>\n      <td>0.154</td>\n      <td>0.112</td>\n      <td>0.120</td>\n      <td>0.031</td>\n      <td>-0.004</td>\n    </tr>\n    <tr>\n      <th>rooms</th>\n      <td>0.651</td>\n      <td>0.842</td>\n      <td>1.000</td>\n      <td>0.065</td>\n      <td>-0.003</td>\n      <td>0.001</td>\n      <td>0.071</td>\n      <td>0.059</td>\n      <td>-0.001</td>\n      <td>0.097</td>\n      <td>0.013</td>\n      <td>0.045</td>\n      <td>0.108</td>\n      <td>0.079</td>\n      <td>0.086</td>\n      <td>0.026</td>\n      <td>0.022</td>\n    </tr>\n    <tr>\n      <th>age</th>\n      <td>-0.111</td>\n      <td>-0.060</td>\n      <td>0.065</td>\n      <td>1.000</td>\n      <td>0.037</td>\n      <td>0.010</td>\n      <td>-0.172</td>\n      <td>-0.269</td>\n      <td>0.159</td>\n      <td>-0.056</td>\n      <td>-0.005</td>\n      <td>-0.065</td>\n      <td>-0.031</td>\n      <td>-0.138</td>\n      <td>-0.139</td>\n      <td>-0.070</td>\n      <td>0.065</td>\n    </tr>\n    <tr>\n      <th>lat</th>\n      <td>-0.009</td>\n      <td>0.000</td>\n      <td>-0.003</td>\n      <td>0.037</td>\n      <td>1.000</td>\n      <td>0.277</td>\n      <td>-0.000</td>\n      <td>-0.001</td>\n      <td>-0.005</td>\n      <td>-0.004</td>\n      <td>0.016</td>\n      <td>-0.011</td>\n      <td>0.004</td>\n      <td>-0.007</td>\n      <td>-0.010</td>\n      <td>0.005</td>\n      <td>0.011</td>\n    </tr>\n    <tr>\n      <th>lon</th>\n      <td>-0.003</td>\n      <td>-0.001</td>\n      <td>0.001</td>\n      <td>0.010</td>\n      <td>0.277</td>\n      <td>1.000</td>\n      <td>0.003</td>\n      <td>0.000</td>\n      <td>0.006</td>\n      <td>-0.002</td>\n      <td>0.006</td>\n      <td>0.004</td>\n      <td>0.003</td>\n      <td>-0.001</td>\n      <td>-0.000</td>\n      <td>-0.001</td>\n      <td>0.004</td>\n    </tr>\n    <tr>\n      <th>current_floor</th>\n      <td>0.082</td>\n      <td>0.112</td>\n      <td>0.071</td>\n      <td>-0.172</td>\n      <td>-0.000</td>\n      <td>0.003</td>\n      <td>1.000</td>\n      <td>0.571</td>\n      <td>0.177</td>\n      <td>0.033</td>\n      <td>0.005</td>\n      <td>0.048</td>\n      <td>0.112</td>\n      <td>0.056</td>\n      <td>0.033</td>\n      <td>0.028</td>\n      <td>-0.051</td>\n    </tr>\n    <tr>\n      <th>max_floor</th>\n      <td>0.069</td>\n      <td>0.107</td>\n      <td>0.059</td>\n      <td>-0.269</td>\n      <td>-0.001</td>\n      <td>0.000</td>\n      <td>0.571</td>\n      <td>1.000</td>\n      <td>-0.155</td>\n      <td>0.067</td>\n      <td>0.013</td>\n      <td>0.054</td>\n      <td>0.146</td>\n      <td>0.074</td>\n      <td>0.048</td>\n      <td>0.046</td>\n      <td>-0.035</td>\n    </tr>\n    <tr>\n      <th>is_penthouse</th>\n      <td>-0.034</td>\n      <td>-0.026</td>\n      <td>-0.001</td>\n      <td>0.159</td>\n      <td>-0.005</td>\n      <td>0.006</td>\n      <td>0.177</td>\n      <td>-0.155</td>\n      <td>1.000</td>\n      <td>-0.021</td>\n      <td>-0.007</td>\n      <td>-0.016</td>\n      <td>-0.017</td>\n      <td>-0.024</td>\n      <td>-0.029</td>\n      <td>-0.024</td>\n      <td>-0.003</td>\n    </tr>\n    <tr>\n      <th>сигнализация</th>\n      <td>0.122</td>\n      <td>0.119</td>\n      <td>0.097</td>\n      <td>-0.056</td>\n      <td>-0.004</td>\n      <td>-0.002</td>\n      <td>0.033</td>\n      <td>0.067</td>\n      <td>-0.021</td>\n      <td>1.000</td>\n      <td>0.250</td>\n      <td>0.390</td>\n      <td>0.225</td>\n      <td>0.370</td>\n      <td>0.369</td>\n      <td>0.281</td>\n      <td>0.147</td>\n    </tr>\n    <tr>\n      <th>домофон</th>\n      <td>-0.015</td>\n      <td>0.001</td>\n      <td>0.013</td>\n      <td>-0.005</td>\n      <td>0.016</td>\n      <td>0.006</td>\n      <td>0.005</td>\n      <td>0.013</td>\n      <td>-0.007</td>\n      <td>0.250</td>\n      <td>1.000</td>\n      <td>0.359</td>\n      <td>0.183</td>\n      <td>0.378</td>\n      <td>0.357</td>\n      <td>0.743</td>\n      <td>0.188</td>\n    </tr>\n    <tr>\n      <th>кодовый замок</th>\n      <td>0.066</td>\n      <td>0.051</td>\n      <td>0.045</td>\n      <td>-0.065</td>\n      <td>-0.011</td>\n      <td>0.004</td>\n      <td>0.048</td>\n      <td>0.054</td>\n      <td>-0.016</td>\n      <td>0.390</td>\n      <td>0.359</td>\n      <td>1.000</td>\n      <td>0.171</td>\n      <td>0.376</td>\n      <td>0.399</td>\n      <td>0.361</td>\n      <td>0.127</td>\n    </tr>\n    <tr>\n      <th>консьерж</th>\n      <td>0.162</td>\n      <td>0.154</td>\n      <td>0.108</td>\n      <td>-0.031</td>\n      <td>0.004</td>\n      <td>0.003</td>\n      <td>0.112</td>\n      <td>0.146</td>\n      <td>-0.017</td>\n      <td>0.225</td>\n      <td>0.183</td>\n      <td>0.171</td>\n      <td>1.000</td>\n      <td>0.293</td>\n      <td>0.257</td>\n      <td>0.220</td>\n      <td>0.050</td>\n    </tr>\n    <tr>\n      <th>охрана</th>\n      <td>0.144</td>\n      <td>0.112</td>\n      <td>0.079</td>\n      <td>-0.138</td>\n      <td>-0.007</td>\n      <td>-0.001</td>\n      <td>0.056</td>\n      <td>0.074</td>\n      <td>-0.024</td>\n      <td>0.370</td>\n      <td>0.378</td>\n      <td>0.376</td>\n      <td>0.293</td>\n      <td>1.000</td>\n      <td>0.452</td>\n      <td>0.413</td>\n      <td>0.119</td>\n    </tr>\n    <tr>\n      <th>видеодомофон</th>\n      <td>0.156</td>\n      <td>0.120</td>\n      <td>0.086</td>\n      <td>-0.139</td>\n      <td>-0.010</td>\n      <td>-0.000</td>\n      <td>0.033</td>\n      <td>0.048</td>\n      <td>-0.029</td>\n      <td>0.369</td>\n      <td>0.357</td>\n      <td>0.399</td>\n      <td>0.257</td>\n      <td>0.452</td>\n      <td>1.000</td>\n      <td>0.356</td>\n      <td>0.075</td>\n    </tr>\n    <tr>\n      <th>видеонаблюдение</th>\n      <td>0.024</td>\n      <td>0.031</td>\n      <td>0.026</td>\n      <td>-0.070</td>\n      <td>0.005</td>\n      <td>-0.001</td>\n      <td>0.028</td>\n      <td>0.046</td>\n      <td>-0.024</td>\n      <td>0.281</td>\n      <td>0.743</td>\n      <td>0.361</td>\n      <td>0.220</td>\n      <td>0.413</td>\n      <td>0.356</td>\n      <td>1.000</td>\n      <td>0.157</td>\n    </tr>\n    <tr>\n      <th>решетки на окнах</th>\n      <td>-0.011</td>\n      <td>-0.004</td>\n      <td>0.022</td>\n      <td>0.065</td>\n      <td>0.011</td>\n      <td>0.004</td>\n      <td>-0.051</td>\n      <td>-0.035</td>\n      <td>-0.003</td>\n      <td>0.147</td>\n      <td>0.188</td>\n      <td>0.127</td>\n      <td>0.050</td>\n      <td>0.119</td>\n      <td>0.075</td>\n      <td>0.157</td>\n      <td>1.000</td>\n    </tr>\n  </tbody>\n</table>\n</div>"
     },
     "execution_count": 88,
     "metadata": {},
     "output_type": "execute_result"
    }
   ],
   "source": [
    "bla[['price', 'total_area', 'rooms', 'age', 'lat', 'lon', 'current_floor', 'max_floor', 'is_penthouse', 'сигнализация', \"домофон\", \"кодовый замок\", \"консьерж\", \"охрана\", \"видеодомофон\", \"видеонаблюдение\", \"решетки на окнах\"]].corr()"
   ],
   "metadata": {
    "collapsed": false
   }
  },
  {
   "cell_type": "code",
   "execution_count": 89,
   "outputs": [],
   "source": [
    "district = set()\n",
    "for i in bla.district.unique():\n",
    "    b = str(i).split(',')\n",
    "    for j in b:\n",
    "        district.add(j.strip())\n",
    "\n",
    "# district.remove('nan')"
   ],
   "metadata": {
    "collapsed": false
   }
  },
  {
   "cell_type": "code",
   "execution_count": 90,
   "outputs": [],
   "source": [
    "bla['district'].fillna('NO INFO', inplace= True)\n",
    "\n",
    "for i in district:\n",
    "    bla[f'{i}'] = bla['district'].str.contains(f'{i}').astype(int)\n",
    "\n",
    "del bla['nan']\n",
    "district.remove('nan')"
   ],
   "metadata": {
    "collapsed": false
   }
  },
  {
   "cell_type": "code",
   "execution_count": 91,
   "outputs": [
    {
     "data": {
      "text/plain": "                  price  total_area  rooms    age  Esilyskiy_r-n  \\\nprice             1.000       0.839  0.651 -0.111          0.180   \ntotal_area        0.839       1.000  0.842 -0.060          0.122   \nrooms             0.651       0.842  1.000  0.065          0.083   \nage              -0.111      -0.060  0.065  1.000         -0.376   \nEsilyskiy_r-n     0.180       0.122  0.083 -0.376          1.000   \nr-n_Baykonur     -0.061      -0.018  0.005  0.251         -0.240   \nSaryarka_r-n     -0.111      -0.081 -0.044  0.318         -0.364   \nAlmaty_r-n       -0.081      -0.058 -0.047  0.055         -0.584   \nlat              -0.009       0.000 -0.003  0.037         -0.051   \nlon              -0.003      -0.001  0.001  0.010         -0.030   \ncurrent_floor     0.082       0.112  0.071 -0.172          0.017   \nmax_floor         0.069       0.107  0.059 -0.269          0.031   \nis_penthouse     -0.034      -0.026 -0.001  0.159         -0.046   \nсигнализация      0.122       0.119  0.097 -0.056          0.043   \nдомофон          -0.015       0.001  0.013 -0.005          0.001   \nкодовый замок     0.066       0.051  0.045 -0.065          0.062   \nконсьерж          0.162       0.154  0.108 -0.031          0.012   \nохрана            0.144       0.112  0.079 -0.138          0.127   \nвидеодомофон      0.156       0.120  0.086 -0.139          0.137   \nвидеонаблюдение   0.024       0.031  0.026 -0.070          0.044   \nрешетки на окнах -0.011      -0.004  0.022  0.065         -0.037   \n\n                  r-n_Baykonur  Saryarka_r-n  Almaty_r-n    lat    lon  ...  \\\nprice                   -0.061        -0.111      -0.081 -0.009 -0.003  ...   \ntotal_area              -0.018        -0.081      -0.058  0.000 -0.001  ...   \nrooms                    0.005        -0.044      -0.047 -0.003  0.001  ...   \nage                      0.251         0.318       0.055  0.037  0.010  ...   \nEsilyskiy_r-n           -0.240        -0.364      -0.584 -0.051 -0.030  ...   \nr-n_Baykonur             1.000        -0.105      -0.168  0.005  0.013  ...   \nSaryarka_r-n            -0.105         1.000      -0.255  0.070 -0.025  ...   \nAlmaty_r-n              -0.168        -0.255       1.000  0.004  0.049  ...   \nlat                      0.005         0.070       0.004  1.000  0.277  ...   \nlon                      0.013        -0.025       0.049  0.277  1.000  ...   \ncurrent_floor            0.021        -0.054       0.016 -0.000  0.003  ...   \nmax_floor                0.030        -0.083       0.021 -0.001  0.000  ...   \nis_penthouse             0.020         0.053       0.007 -0.005  0.006  ...   \nсигнализация            -0.028        -0.038      -0.005 -0.004 -0.002  ...   \nдомофон                  0.009         0.011       0.015  0.016  0.006  ...   \nкодовый замок           -0.026        -0.040      -0.012 -0.011  0.004  ...   \nконсьерж                 0.002        -0.035       0.013  0.004  0.003  ...   \nохрана                  -0.049        -0.088      -0.043 -0.007 -0.001  ...   \nвидеодомофон            -0.061        -0.081      -0.055 -0.010 -0.000  ...   \nвидеонаблюдение         -0.009        -0.020      -0.009  0.005 -0.001  ...   \nрешетки на окнах         0.017         0.030       0.025  0.011  0.004  ...   \n\n                  max_floor  is_penthouse  сигнализация  домофон  \\\nprice                 0.069        -0.034         0.122   -0.015   \ntotal_area            0.107        -0.026         0.119    0.001   \nrooms                 0.059        -0.001         0.097    0.013   \nage                  -0.269         0.159        -0.056   -0.005   \nEsilyskiy_r-n         0.031        -0.046         0.043    0.001   \nr-n_Baykonur          0.030         0.020        -0.028    0.009   \nSaryarka_r-n         -0.083         0.053        -0.038    0.011   \nAlmaty_r-n            0.021         0.007        -0.005    0.015   \nlat                  -0.001        -0.005        -0.004    0.016   \nlon                   0.000         0.006        -0.002    0.006   \ncurrent_floor         0.571         0.177         0.033    0.005   \nmax_floor             1.000        -0.155         0.067    0.013   \nis_penthouse         -0.155         1.000        -0.021   -0.007   \nсигнализация          0.067        -0.021         1.000    0.250   \nдомофон               0.013        -0.007         0.250    1.000   \nкодовый замок         0.054        -0.016         0.390    0.359   \nконсьерж              0.146        -0.017         0.225    0.183   \nохрана                0.074        -0.024         0.370    0.378   \nвидеодомофон          0.048        -0.029         0.369    0.357   \nвидеонаблюдение       0.046        -0.024         0.281    0.743   \nрешетки на окнах     -0.035        -0.003         0.147    0.188   \n\n                  кодовый замок  консьерж  охрана  видеодомофон  \\\nprice                     0.066     0.162   0.144         0.156   \ntotal_area                0.051     0.154   0.112         0.120   \nrooms                     0.045     0.108   0.079         0.086   \nage                      -0.065    -0.031  -0.138        -0.139   \nEsilyskiy_r-n             0.062     0.012   0.127         0.137   \nr-n_Baykonur             -0.026     0.002  -0.049        -0.061   \nSaryarka_r-n             -0.040    -0.035  -0.088        -0.081   \nAlmaty_r-n               -0.012     0.013  -0.043        -0.055   \nlat                      -0.011     0.004  -0.007        -0.010   \nlon                       0.004     0.003  -0.001        -0.000   \ncurrent_floor             0.048     0.112   0.056         0.033   \nmax_floor                 0.054     0.146   0.074         0.048   \nis_penthouse             -0.016    -0.017  -0.024        -0.029   \nсигнализация              0.390     0.225   0.370         0.369   \nдомофон                   0.359     0.183   0.378         0.357   \nкодовый замок             1.000     0.171   0.376         0.399   \nконсьерж                  0.171     1.000   0.293         0.257   \nохрана                    0.376     0.293   1.000         0.452   \nвидеодомофон              0.399     0.257   0.452         1.000   \nвидеонаблюдение           0.361     0.220   0.413         0.356   \nрешетки на окнах          0.127     0.050   0.119         0.075   \n\n                  видеонаблюдение  решетки на окнах  \nprice                       0.024            -0.011  \ntotal_area                  0.031            -0.004  \nrooms                       0.026             0.022  \nage                        -0.070             0.065  \nEsilyskiy_r-n               0.044            -0.037  \nr-n_Baykonur               -0.009             0.017  \nSaryarka_r-n               -0.020             0.030  \nAlmaty_r-n                 -0.009             0.025  \nlat                         0.005             0.011  \nlon                        -0.001             0.004  \ncurrent_floor               0.028            -0.051  \nmax_floor                   0.046            -0.035  \nis_penthouse               -0.024            -0.003  \nсигнализация                0.281             0.147  \nдомофон                     0.743             0.188  \nкодовый замок               0.361             0.127  \nконсьерж                    0.220             0.050  \nохрана                      0.413             0.119  \nвидеодомофон                0.356             0.075  \nвидеонаблюдение             1.000             0.157  \nрешетки на окнах            0.157             1.000  \n\n[21 rows x 21 columns]",
      "text/html": "<div>\n<style scoped>\n    .dataframe tbody tr th:only-of-type {\n        vertical-align: middle;\n    }\n\n    .dataframe tbody tr th {\n        vertical-align: top;\n    }\n\n    .dataframe thead th {\n        text-align: right;\n    }\n</style>\n<table border=\"1\" class=\"dataframe\">\n  <thead>\n    <tr style=\"text-align: right;\">\n      <th></th>\n      <th>price</th>\n      <th>total_area</th>\n      <th>rooms</th>\n      <th>age</th>\n      <th>Esilyskiy_r-n</th>\n      <th>r-n_Baykonur</th>\n      <th>Saryarka_r-n</th>\n      <th>Almaty_r-n</th>\n      <th>lat</th>\n      <th>lon</th>\n      <th>...</th>\n      <th>max_floor</th>\n      <th>is_penthouse</th>\n      <th>сигнализация</th>\n      <th>домофон</th>\n      <th>кодовый замок</th>\n      <th>консьерж</th>\n      <th>охрана</th>\n      <th>видеодомофон</th>\n      <th>видеонаблюдение</th>\n      <th>решетки на окнах</th>\n    </tr>\n  </thead>\n  <tbody>\n    <tr>\n      <th>price</th>\n      <td>1.000</td>\n      <td>0.839</td>\n      <td>0.651</td>\n      <td>-0.111</td>\n      <td>0.180</td>\n      <td>-0.061</td>\n      <td>-0.111</td>\n      <td>-0.081</td>\n      <td>-0.009</td>\n      <td>-0.003</td>\n      <td>...</td>\n      <td>0.069</td>\n      <td>-0.034</td>\n      <td>0.122</td>\n      <td>-0.015</td>\n      <td>0.066</td>\n      <td>0.162</td>\n      <td>0.144</td>\n      <td>0.156</td>\n      <td>0.024</td>\n      <td>-0.011</td>\n    </tr>\n    <tr>\n      <th>total_area</th>\n      <td>0.839</td>\n      <td>1.000</td>\n      <td>0.842</td>\n      <td>-0.060</td>\n      <td>0.122</td>\n      <td>-0.018</td>\n      <td>-0.081</td>\n      <td>-0.058</td>\n      <td>0.000</td>\n      <td>-0.001</td>\n      <td>...</td>\n      <td>0.107</td>\n      <td>-0.026</td>\n      <td>0.119</td>\n      <td>0.001</td>\n      <td>0.051</td>\n      <td>0.154</td>\n      <td>0.112</td>\n      <td>0.120</td>\n      <td>0.031</td>\n      <td>-0.004</td>\n    </tr>\n    <tr>\n      <th>rooms</th>\n      <td>0.651</td>\n      <td>0.842</td>\n      <td>1.000</td>\n      <td>0.065</td>\n      <td>0.083</td>\n      <td>0.005</td>\n      <td>-0.044</td>\n      <td>-0.047</td>\n      <td>-0.003</td>\n      <td>0.001</td>\n      <td>...</td>\n      <td>0.059</td>\n      <td>-0.001</td>\n      <td>0.097</td>\n      <td>0.013</td>\n      <td>0.045</td>\n      <td>0.108</td>\n      <td>0.079</td>\n      <td>0.086</td>\n      <td>0.026</td>\n      <td>0.022</td>\n    </tr>\n    <tr>\n      <th>age</th>\n      <td>-0.111</td>\n      <td>-0.060</td>\n      <td>0.065</td>\n      <td>1.000</td>\n      <td>-0.376</td>\n      <td>0.251</td>\n      <td>0.318</td>\n      <td>0.055</td>\n      <td>0.037</td>\n      <td>0.010</td>\n      <td>...</td>\n      <td>-0.269</td>\n      <td>0.159</td>\n      <td>-0.056</td>\n      <td>-0.005</td>\n      <td>-0.065</td>\n      <td>-0.031</td>\n      <td>-0.138</td>\n      <td>-0.139</td>\n      <td>-0.070</td>\n      <td>0.065</td>\n    </tr>\n    <tr>\n      <th>Esilyskiy_r-n</th>\n      <td>0.180</td>\n      <td>0.122</td>\n      <td>0.083</td>\n      <td>-0.376</td>\n      <td>1.000</td>\n      <td>-0.240</td>\n      <td>-0.364</td>\n      <td>-0.584</td>\n      <td>-0.051</td>\n      <td>-0.030</td>\n      <td>...</td>\n      <td>0.031</td>\n      <td>-0.046</td>\n      <td>0.043</td>\n      <td>0.001</td>\n      <td>0.062</td>\n      <td>0.012</td>\n      <td>0.127</td>\n      <td>0.137</td>\n      <td>0.044</td>\n      <td>-0.037</td>\n    </tr>\n    <tr>\n      <th>r-n_Baykonur</th>\n      <td>-0.061</td>\n      <td>-0.018</td>\n      <td>0.005</td>\n      <td>0.251</td>\n      <td>-0.240</td>\n      <td>1.000</td>\n      <td>-0.105</td>\n      <td>-0.168</td>\n      <td>0.005</td>\n      <td>0.013</td>\n      <td>...</td>\n      <td>0.030</td>\n      <td>0.020</td>\n      <td>-0.028</td>\n      <td>0.009</td>\n      <td>-0.026</td>\n      <td>0.002</td>\n      <td>-0.049</td>\n      <td>-0.061</td>\n      <td>-0.009</td>\n      <td>0.017</td>\n    </tr>\n    <tr>\n      <th>Saryarka_r-n</th>\n      <td>-0.111</td>\n      <td>-0.081</td>\n      <td>-0.044</td>\n      <td>0.318</td>\n      <td>-0.364</td>\n      <td>-0.105</td>\n      <td>1.000</td>\n      <td>-0.255</td>\n      <td>0.070</td>\n      <td>-0.025</td>\n      <td>...</td>\n      <td>-0.083</td>\n      <td>0.053</td>\n      <td>-0.038</td>\n      <td>0.011</td>\n      <td>-0.040</td>\n      <td>-0.035</td>\n      <td>-0.088</td>\n      <td>-0.081</td>\n      <td>-0.020</td>\n      <td>0.030</td>\n    </tr>\n    <tr>\n      <th>Almaty_r-n</th>\n      <td>-0.081</td>\n      <td>-0.058</td>\n      <td>-0.047</td>\n      <td>0.055</td>\n      <td>-0.584</td>\n      <td>-0.168</td>\n      <td>-0.255</td>\n      <td>1.000</td>\n      <td>0.004</td>\n      <td>0.049</td>\n      <td>...</td>\n      <td>0.021</td>\n      <td>0.007</td>\n      <td>-0.005</td>\n      <td>0.015</td>\n      <td>-0.012</td>\n      <td>0.013</td>\n      <td>-0.043</td>\n      <td>-0.055</td>\n      <td>-0.009</td>\n      <td>0.025</td>\n    </tr>\n    <tr>\n      <th>lat</th>\n      <td>-0.009</td>\n      <td>0.000</td>\n      <td>-0.003</td>\n      <td>0.037</td>\n      <td>-0.051</td>\n      <td>0.005</td>\n      <td>0.070</td>\n      <td>0.004</td>\n      <td>1.000</td>\n      <td>0.277</td>\n      <td>...</td>\n      <td>-0.001</td>\n      <td>-0.005</td>\n      <td>-0.004</td>\n      <td>0.016</td>\n      <td>-0.011</td>\n      <td>0.004</td>\n      <td>-0.007</td>\n      <td>-0.010</td>\n      <td>0.005</td>\n      <td>0.011</td>\n    </tr>\n    <tr>\n      <th>lon</th>\n      <td>-0.003</td>\n      <td>-0.001</td>\n      <td>0.001</td>\n      <td>0.010</td>\n      <td>-0.030</td>\n      <td>0.013</td>\n      <td>-0.025</td>\n      <td>0.049</td>\n      <td>0.277</td>\n      <td>1.000</td>\n      <td>...</td>\n      <td>0.000</td>\n      <td>0.006</td>\n      <td>-0.002</td>\n      <td>0.006</td>\n      <td>0.004</td>\n      <td>0.003</td>\n      <td>-0.001</td>\n      <td>-0.000</td>\n      <td>-0.001</td>\n      <td>0.004</td>\n    </tr>\n    <tr>\n      <th>current_floor</th>\n      <td>0.082</td>\n      <td>0.112</td>\n      <td>0.071</td>\n      <td>-0.172</td>\n      <td>0.017</td>\n      <td>0.021</td>\n      <td>-0.054</td>\n      <td>0.016</td>\n      <td>-0.000</td>\n      <td>0.003</td>\n      <td>...</td>\n      <td>0.571</td>\n      <td>0.177</td>\n      <td>0.033</td>\n      <td>0.005</td>\n      <td>0.048</td>\n      <td>0.112</td>\n      <td>0.056</td>\n      <td>0.033</td>\n      <td>0.028</td>\n      <td>-0.051</td>\n    </tr>\n    <tr>\n      <th>max_floor</th>\n      <td>0.069</td>\n      <td>0.107</td>\n      <td>0.059</td>\n      <td>-0.269</td>\n      <td>0.031</td>\n      <td>0.030</td>\n      <td>-0.083</td>\n      <td>0.021</td>\n      <td>-0.001</td>\n      <td>0.000</td>\n      <td>...</td>\n      <td>1.000</td>\n      <td>-0.155</td>\n      <td>0.067</td>\n      <td>0.013</td>\n      <td>0.054</td>\n      <td>0.146</td>\n      <td>0.074</td>\n      <td>0.048</td>\n      <td>0.046</td>\n      <td>-0.035</td>\n    </tr>\n    <tr>\n      <th>is_penthouse</th>\n      <td>-0.034</td>\n      <td>-0.026</td>\n      <td>-0.001</td>\n      <td>0.159</td>\n      <td>-0.046</td>\n      <td>0.020</td>\n      <td>0.053</td>\n      <td>0.007</td>\n      <td>-0.005</td>\n      <td>0.006</td>\n      <td>...</td>\n      <td>-0.155</td>\n      <td>1.000</td>\n      <td>-0.021</td>\n      <td>-0.007</td>\n      <td>-0.016</td>\n      <td>-0.017</td>\n      <td>-0.024</td>\n      <td>-0.029</td>\n      <td>-0.024</td>\n      <td>-0.003</td>\n    </tr>\n    <tr>\n      <th>сигнализация</th>\n      <td>0.122</td>\n      <td>0.119</td>\n      <td>0.097</td>\n      <td>-0.056</td>\n      <td>0.043</td>\n      <td>-0.028</td>\n      <td>-0.038</td>\n      <td>-0.005</td>\n      <td>-0.004</td>\n      <td>-0.002</td>\n      <td>...</td>\n      <td>0.067</td>\n      <td>-0.021</td>\n      <td>1.000</td>\n      <td>0.250</td>\n      <td>0.390</td>\n      <td>0.225</td>\n      <td>0.370</td>\n      <td>0.369</td>\n      <td>0.281</td>\n      <td>0.147</td>\n    </tr>\n    <tr>\n      <th>домофон</th>\n      <td>-0.015</td>\n      <td>0.001</td>\n      <td>0.013</td>\n      <td>-0.005</td>\n      <td>0.001</td>\n      <td>0.009</td>\n      <td>0.011</td>\n      <td>0.015</td>\n      <td>0.016</td>\n      <td>0.006</td>\n      <td>...</td>\n      <td>0.013</td>\n      <td>-0.007</td>\n      <td>0.250</td>\n      <td>1.000</td>\n      <td>0.359</td>\n      <td>0.183</td>\n      <td>0.378</td>\n      <td>0.357</td>\n      <td>0.743</td>\n      <td>0.188</td>\n    </tr>\n    <tr>\n      <th>кодовый замок</th>\n      <td>0.066</td>\n      <td>0.051</td>\n      <td>0.045</td>\n      <td>-0.065</td>\n      <td>0.062</td>\n      <td>-0.026</td>\n      <td>-0.040</td>\n      <td>-0.012</td>\n      <td>-0.011</td>\n      <td>0.004</td>\n      <td>...</td>\n      <td>0.054</td>\n      <td>-0.016</td>\n      <td>0.390</td>\n      <td>0.359</td>\n      <td>1.000</td>\n      <td>0.171</td>\n      <td>0.376</td>\n      <td>0.399</td>\n      <td>0.361</td>\n      <td>0.127</td>\n    </tr>\n    <tr>\n      <th>консьерж</th>\n      <td>0.162</td>\n      <td>0.154</td>\n      <td>0.108</td>\n      <td>-0.031</td>\n      <td>0.012</td>\n      <td>0.002</td>\n      <td>-0.035</td>\n      <td>0.013</td>\n      <td>0.004</td>\n      <td>0.003</td>\n      <td>...</td>\n      <td>0.146</td>\n      <td>-0.017</td>\n      <td>0.225</td>\n      <td>0.183</td>\n      <td>0.171</td>\n      <td>1.000</td>\n      <td>0.293</td>\n      <td>0.257</td>\n      <td>0.220</td>\n      <td>0.050</td>\n    </tr>\n    <tr>\n      <th>охрана</th>\n      <td>0.144</td>\n      <td>0.112</td>\n      <td>0.079</td>\n      <td>-0.138</td>\n      <td>0.127</td>\n      <td>-0.049</td>\n      <td>-0.088</td>\n      <td>-0.043</td>\n      <td>-0.007</td>\n      <td>-0.001</td>\n      <td>...</td>\n      <td>0.074</td>\n      <td>-0.024</td>\n      <td>0.370</td>\n      <td>0.378</td>\n      <td>0.376</td>\n      <td>0.293</td>\n      <td>1.000</td>\n      <td>0.452</td>\n      <td>0.413</td>\n      <td>0.119</td>\n    </tr>\n    <tr>\n      <th>видеодомофон</th>\n      <td>0.156</td>\n      <td>0.120</td>\n      <td>0.086</td>\n      <td>-0.139</td>\n      <td>0.137</td>\n      <td>-0.061</td>\n      <td>-0.081</td>\n      <td>-0.055</td>\n      <td>-0.010</td>\n      <td>-0.000</td>\n      <td>...</td>\n      <td>0.048</td>\n      <td>-0.029</td>\n      <td>0.369</td>\n      <td>0.357</td>\n      <td>0.399</td>\n      <td>0.257</td>\n      <td>0.452</td>\n      <td>1.000</td>\n      <td>0.356</td>\n      <td>0.075</td>\n    </tr>\n    <tr>\n      <th>видеонаблюдение</th>\n      <td>0.024</td>\n      <td>0.031</td>\n      <td>0.026</td>\n      <td>-0.070</td>\n      <td>0.044</td>\n      <td>-0.009</td>\n      <td>-0.020</td>\n      <td>-0.009</td>\n      <td>0.005</td>\n      <td>-0.001</td>\n      <td>...</td>\n      <td>0.046</td>\n      <td>-0.024</td>\n      <td>0.281</td>\n      <td>0.743</td>\n      <td>0.361</td>\n      <td>0.220</td>\n      <td>0.413</td>\n      <td>0.356</td>\n      <td>1.000</td>\n      <td>0.157</td>\n    </tr>\n    <tr>\n      <th>решетки на окнах</th>\n      <td>-0.011</td>\n      <td>-0.004</td>\n      <td>0.022</td>\n      <td>0.065</td>\n      <td>-0.037</td>\n      <td>0.017</td>\n      <td>0.030</td>\n      <td>0.025</td>\n      <td>0.011</td>\n      <td>0.004</td>\n      <td>...</td>\n      <td>-0.035</td>\n      <td>-0.003</td>\n      <td>0.147</td>\n      <td>0.188</td>\n      <td>0.127</td>\n      <td>0.050</td>\n      <td>0.119</td>\n      <td>0.075</td>\n      <td>0.157</td>\n      <td>1.000</td>\n    </tr>\n  </tbody>\n</table>\n<p>21 rows × 21 columns</p>\n</div>"
     },
     "execution_count": 91,
     "metadata": {},
     "output_type": "execute_result"
    }
   ],
   "source": [
    "# del bla['NO INFO']\n",
    "# district.remove('NO INFO')\n",
    "bla[['price', 'total_area', 'rooms', 'age', *district, 'lat', 'lon', 'current_floor', 'max_floor', 'is_penthouse', 'сигнализация', \"домофон\", \"кодовый замок\", \"консьерж\", \"охрана\", \"видеодомофон\", \"видеонаблюдение\", \"решетки на окнах\"]].corr()"
   ],
   "metadata": {
    "collapsed": false
   }
  }
 ],
 "metadata": {
  "kernelspec": {
   "display_name": "Python 3",
   "language": "python",
   "name": "python3"
  },
  "language_info": {
   "codemirror_mode": {
    "name": "ipython",
    "version": 2
   },
   "file_extension": ".py",
   "mimetype": "text/x-python",
   "name": "python",
   "nbconvert_exporter": "python",
   "pygments_lexer": "ipython2",
   "version": "2.7.6"
  }
 },
 "nbformat": 4,
 "nbformat_minor": 0
}
